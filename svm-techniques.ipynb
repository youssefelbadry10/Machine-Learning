{
 "cells": [
  {
   "cell_type": "markdown",
   "id": "3d5f58f0",
   "metadata": {
    "papermill": {
     "duration": 0.009331,
     "end_time": "2023-12-14T08:49:45.457254",
     "exception": false,
     "start_time": "2023-12-14T08:49:45.447923",
     "status": "completed"
    },
    "tags": []
   },
   "source": [
    "<img height=200 width=500 src=\"https://www.svm-tutorial.com/wp-content/uploads/2017/02/svms.png\" />"
   ]
  },
  {
   "cell_type": "markdown",
   "id": "f119c814",
   "metadata": {
    "papermill": {
     "duration": 0.007461,
     "end_time": "2023-12-14T08:49:45.472728",
     "exception": false,
     "start_time": "2023-12-14T08:49:45.465267",
     "status": "completed"
    },
    "tags": []
   },
   "source": [
    "## **Support Vector Machines (SVMs) are versatile algorithms used in various machine learning tasks. Here are scenarios where SVMs can be applied:**"
   ]
  },
  {
   "cell_type": "markdown",
   "id": "49500755",
   "metadata": {
    "papermill": {
     "duration": 0.007535,
     "end_time": "2023-12-14T08:49:45.489828",
     "exception": false,
     "start_time": "2023-12-14T08:49:45.482293",
     "status": "completed"
    },
    "tags": []
   },
   "source": [
    "### 1-Classification: SVMs are primarily used for classification tasks. They work well for both linear and non-linear classification by finding an optimal hyperplane that separates data into different classes.\n",
    "\n",
    "### 2-Regression: SVMs can also perform regression tasks by finding a hyperplane that best fits the data, aiming to minimize the error between the predicted and actual values.\n",
    "\n",
    "### 2-Text and Image Classification: SVMs have been successful in text classification tasks like sentiment analysis, spam detection, and document categorization. In image processing, they can be used for object recognition and image classification.\n",
    "\n",
    "### 3-Outlier Detection: SVMs are effective in identifying outliers or anomalies in data by detecting observations that lie far from the hyperplane.\n",
    "\n",
    "### 4-Feature Reduction: They can be employed for feature reduction, especially in cases where there are many features, as SVMs can handle high-dimensional data efficiently.\n",
    "\n",
    "### 5-Small to Medium-Sized Datasets: SVMs perform well on small to medium-sized datasets. However, for very large datasets, their training time and computational requirements might become prohibitive. "
   ]
  },
  {
   "cell_type": "code",
   "execution_count": 1,
   "id": "f3817327",
   "metadata": {
    "execution": {
     "iopub.execute_input": "2023-12-14T08:49:45.509252Z",
     "iopub.status.busy": "2023-12-14T08:49:45.508849Z",
     "iopub.status.idle": "2023-12-14T08:49:47.223796Z",
     "shell.execute_reply": "2023-12-14T08:49:47.222627Z"
    },
    "papermill": {
     "duration": 1.727321,
     "end_time": "2023-12-14T08:49:47.226389",
     "exception": false,
     "start_time": "2023-12-14T08:49:45.499068",
     "status": "completed"
    },
    "tags": []
   },
   "outputs": [],
   "source": [
    "import pandas as pd\n",
    "import numpy as np\n",
    "import matplotlib.pyplot as plt\n",
    "from sklearn.datasets import load_iris\n",
    "import warnings \n",
    "warnings.filterwarnings(\"ignore\")"
   ]
  },
  {
   "cell_type": "code",
   "execution_count": 2,
   "id": "01c802e9",
   "metadata": {
    "execution": {
     "iopub.execute_input": "2023-12-14T08:49:47.244405Z",
     "iopub.status.busy": "2023-12-14T08:49:47.243837Z",
     "iopub.status.idle": "2023-12-14T08:49:47.257700Z",
     "shell.execute_reply": "2023-12-14T08:49:47.256545Z"
    },
    "papermill": {
     "duration": 0.025899,
     "end_time": "2023-12-14T08:49:47.260293",
     "exception": false,
     "start_time": "2023-12-14T08:49:47.234394",
     "status": "completed"
    },
    "tags": []
   },
   "outputs": [
    {
     "data": {
      "text/plain": [
       "array(['setosa', 'versicolor', 'virginica'], dtype='<U10')"
      ]
     },
     "execution_count": 2,
     "metadata": {},
     "output_type": "execute_result"
    }
   ],
   "source": [
    "iris = load_iris()\n",
    "iris.target_names"
   ]
  },
  {
   "cell_type": "code",
   "execution_count": 3,
   "id": "76d06b1d",
   "metadata": {
    "execution": {
     "iopub.execute_input": "2023-12-14T08:49:47.278584Z",
     "iopub.status.busy": "2023-12-14T08:49:47.278027Z",
     "iopub.status.idle": "2023-12-14T08:49:47.285391Z",
     "shell.execute_reply": "2023-12-14T08:49:47.284260Z"
    },
    "papermill": {
     "duration": 0.018963,
     "end_time": "2023-12-14T08:49:47.287537",
     "exception": false,
     "start_time": "2023-12-14T08:49:47.268574",
     "status": "completed"
    },
    "tags": []
   },
   "outputs": [
    {
     "data": {
      "text/plain": [
       "['sepal length (cm)',\n",
       " 'sepal width (cm)',\n",
       " 'petal length (cm)',\n",
       " 'petal width (cm)']"
      ]
     },
     "execution_count": 3,
     "metadata": {},
     "output_type": "execute_result"
    }
   ],
   "source": [
    "iris.feature_names"
   ]
  },
  {
   "cell_type": "code",
   "execution_count": 4,
   "id": "d5702847",
   "metadata": {
    "execution": {
     "iopub.execute_input": "2023-12-14T08:49:47.305695Z",
     "iopub.status.busy": "2023-12-14T08:49:47.305026Z",
     "iopub.status.idle": "2023-12-14T08:49:47.334517Z",
     "shell.execute_reply": "2023-12-14T08:49:47.333637Z"
    },
    "papermill": {
     "duration": 0.041513,
     "end_time": "2023-12-14T08:49:47.337246",
     "exception": false,
     "start_time": "2023-12-14T08:49:47.295733",
     "status": "completed"
    },
    "tags": []
   },
   "outputs": [
    {
     "data": {
      "text/html": [
       "<div>\n",
       "<style scoped>\n",
       "    .dataframe tbody tr th:only-of-type {\n",
       "        vertical-align: middle;\n",
       "    }\n",
       "\n",
       "    .dataframe tbody tr th {\n",
       "        vertical-align: top;\n",
       "    }\n",
       "\n",
       "    .dataframe thead th {\n",
       "        text-align: right;\n",
       "    }\n",
       "</style>\n",
       "<table border=\"1\" class=\"dataframe\">\n",
       "  <thead>\n",
       "    <tr style=\"text-align: right;\">\n",
       "      <th></th>\n",
       "      <th>sepal length (cm)</th>\n",
       "      <th>sepal width (cm)</th>\n",
       "      <th>petal length (cm)</th>\n",
       "      <th>petal width (cm)</th>\n",
       "    </tr>\n",
       "  </thead>\n",
       "  <tbody>\n",
       "    <tr>\n",
       "      <th>0</th>\n",
       "      <td>5.1</td>\n",
       "      <td>3.5</td>\n",
       "      <td>1.4</td>\n",
       "      <td>0.2</td>\n",
       "    </tr>\n",
       "    <tr>\n",
       "      <th>1</th>\n",
       "      <td>4.9</td>\n",
       "      <td>3.0</td>\n",
       "      <td>1.4</td>\n",
       "      <td>0.2</td>\n",
       "    </tr>\n",
       "    <tr>\n",
       "      <th>2</th>\n",
       "      <td>4.7</td>\n",
       "      <td>3.2</td>\n",
       "      <td>1.3</td>\n",
       "      <td>0.2</td>\n",
       "    </tr>\n",
       "    <tr>\n",
       "      <th>3</th>\n",
       "      <td>4.6</td>\n",
       "      <td>3.1</td>\n",
       "      <td>1.5</td>\n",
       "      <td>0.2</td>\n",
       "    </tr>\n",
       "    <tr>\n",
       "      <th>4</th>\n",
       "      <td>5.0</td>\n",
       "      <td>3.6</td>\n",
       "      <td>1.4</td>\n",
       "      <td>0.2</td>\n",
       "    </tr>\n",
       "    <tr>\n",
       "      <th>...</th>\n",
       "      <td>...</td>\n",
       "      <td>...</td>\n",
       "      <td>...</td>\n",
       "      <td>...</td>\n",
       "    </tr>\n",
       "    <tr>\n",
       "      <th>145</th>\n",
       "      <td>6.7</td>\n",
       "      <td>3.0</td>\n",
       "      <td>5.2</td>\n",
       "      <td>2.3</td>\n",
       "    </tr>\n",
       "    <tr>\n",
       "      <th>146</th>\n",
       "      <td>6.3</td>\n",
       "      <td>2.5</td>\n",
       "      <td>5.0</td>\n",
       "      <td>1.9</td>\n",
       "    </tr>\n",
       "    <tr>\n",
       "      <th>147</th>\n",
       "      <td>6.5</td>\n",
       "      <td>3.0</td>\n",
       "      <td>5.2</td>\n",
       "      <td>2.0</td>\n",
       "    </tr>\n",
       "    <tr>\n",
       "      <th>148</th>\n",
       "      <td>6.2</td>\n",
       "      <td>3.4</td>\n",
       "      <td>5.4</td>\n",
       "      <td>2.3</td>\n",
       "    </tr>\n",
       "    <tr>\n",
       "      <th>149</th>\n",
       "      <td>5.9</td>\n",
       "      <td>3.0</td>\n",
       "      <td>5.1</td>\n",
       "      <td>1.8</td>\n",
       "    </tr>\n",
       "  </tbody>\n",
       "</table>\n",
       "<p>150 rows × 4 columns</p>\n",
       "</div>"
      ],
      "text/plain": [
       "     sepal length (cm)  sepal width (cm)  petal length (cm)  petal width (cm)\n",
       "0                  5.1               3.5                1.4               0.2\n",
       "1                  4.9               3.0                1.4               0.2\n",
       "2                  4.7               3.2                1.3               0.2\n",
       "3                  4.6               3.1                1.5               0.2\n",
       "4                  5.0               3.6                1.4               0.2\n",
       "..                 ...               ...                ...               ...\n",
       "145                6.7               3.0                5.2               2.3\n",
       "146                6.3               2.5                5.0               1.9\n",
       "147                6.5               3.0                5.2               2.0\n",
       "148                6.2               3.4                5.4               2.3\n",
       "149                5.9               3.0                5.1               1.8\n",
       "\n",
       "[150 rows x 4 columns]"
      ]
     },
     "execution_count": 4,
     "metadata": {},
     "output_type": "execute_result"
    }
   ],
   "source": [
    "df = pd.DataFrame(iris.data, columns=iris.feature_names)\n",
    "df"
   ]
  },
  {
   "cell_type": "code",
   "execution_count": 5,
   "id": "8b7eb0b1",
   "metadata": {
    "execution": {
     "iopub.execute_input": "2023-12-14T08:49:47.357166Z",
     "iopub.status.busy": "2023-12-14T08:49:47.356149Z",
     "iopub.status.idle": "2023-12-14T08:49:47.376582Z",
     "shell.execute_reply": "2023-12-14T08:49:47.375674Z"
    },
    "papermill": {
     "duration": 0.033236,
     "end_time": "2023-12-14T08:49:47.378910",
     "exception": false,
     "start_time": "2023-12-14T08:49:47.345674",
     "status": "completed"
    },
    "tags": []
   },
   "outputs": [
    {
     "data": {
      "text/html": [
       "<div>\n",
       "<style scoped>\n",
       "    .dataframe tbody tr th:only-of-type {\n",
       "        vertical-align: middle;\n",
       "    }\n",
       "\n",
       "    .dataframe tbody tr th {\n",
       "        vertical-align: top;\n",
       "    }\n",
       "\n",
       "    .dataframe thead th {\n",
       "        text-align: right;\n",
       "    }\n",
       "</style>\n",
       "<table border=\"1\" class=\"dataframe\">\n",
       "  <thead>\n",
       "    <tr style=\"text-align: right;\">\n",
       "      <th></th>\n",
       "      <th>sepal length (cm)</th>\n",
       "      <th>sepal width (cm)</th>\n",
       "      <th>petal length (cm)</th>\n",
       "      <th>petal width (cm)</th>\n",
       "      <th>target</th>\n",
       "    </tr>\n",
       "  </thead>\n",
       "  <tbody>\n",
       "    <tr>\n",
       "      <th>0</th>\n",
       "      <td>5.1</td>\n",
       "      <td>3.5</td>\n",
       "      <td>1.4</td>\n",
       "      <td>0.2</td>\n",
       "      <td>0</td>\n",
       "    </tr>\n",
       "    <tr>\n",
       "      <th>1</th>\n",
       "      <td>4.9</td>\n",
       "      <td>3.0</td>\n",
       "      <td>1.4</td>\n",
       "      <td>0.2</td>\n",
       "      <td>0</td>\n",
       "    </tr>\n",
       "    <tr>\n",
       "      <th>2</th>\n",
       "      <td>4.7</td>\n",
       "      <td>3.2</td>\n",
       "      <td>1.3</td>\n",
       "      <td>0.2</td>\n",
       "      <td>0</td>\n",
       "    </tr>\n",
       "    <tr>\n",
       "      <th>3</th>\n",
       "      <td>4.6</td>\n",
       "      <td>3.1</td>\n",
       "      <td>1.5</td>\n",
       "      <td>0.2</td>\n",
       "      <td>0</td>\n",
       "    </tr>\n",
       "    <tr>\n",
       "      <th>4</th>\n",
       "      <td>5.0</td>\n",
       "      <td>3.6</td>\n",
       "      <td>1.4</td>\n",
       "      <td>0.2</td>\n",
       "      <td>0</td>\n",
       "    </tr>\n",
       "    <tr>\n",
       "      <th>...</th>\n",
       "      <td>...</td>\n",
       "      <td>...</td>\n",
       "      <td>...</td>\n",
       "      <td>...</td>\n",
       "      <td>...</td>\n",
       "    </tr>\n",
       "    <tr>\n",
       "      <th>145</th>\n",
       "      <td>6.7</td>\n",
       "      <td>3.0</td>\n",
       "      <td>5.2</td>\n",
       "      <td>2.3</td>\n",
       "      <td>2</td>\n",
       "    </tr>\n",
       "    <tr>\n",
       "      <th>146</th>\n",
       "      <td>6.3</td>\n",
       "      <td>2.5</td>\n",
       "      <td>5.0</td>\n",
       "      <td>1.9</td>\n",
       "      <td>2</td>\n",
       "    </tr>\n",
       "    <tr>\n",
       "      <th>147</th>\n",
       "      <td>6.5</td>\n",
       "      <td>3.0</td>\n",
       "      <td>5.2</td>\n",
       "      <td>2.0</td>\n",
       "      <td>2</td>\n",
       "    </tr>\n",
       "    <tr>\n",
       "      <th>148</th>\n",
       "      <td>6.2</td>\n",
       "      <td>3.4</td>\n",
       "      <td>5.4</td>\n",
       "      <td>2.3</td>\n",
       "      <td>2</td>\n",
       "    </tr>\n",
       "    <tr>\n",
       "      <th>149</th>\n",
       "      <td>5.9</td>\n",
       "      <td>3.0</td>\n",
       "      <td>5.1</td>\n",
       "      <td>1.8</td>\n",
       "      <td>2</td>\n",
       "    </tr>\n",
       "  </tbody>\n",
       "</table>\n",
       "<p>150 rows × 5 columns</p>\n",
       "</div>"
      ],
      "text/plain": [
       "     sepal length (cm)  sepal width (cm)  petal length (cm)  petal width (cm)  \\\n",
       "0                  5.1               3.5                1.4               0.2   \n",
       "1                  4.9               3.0                1.4               0.2   \n",
       "2                  4.7               3.2                1.3               0.2   \n",
       "3                  4.6               3.1                1.5               0.2   \n",
       "4                  5.0               3.6                1.4               0.2   \n",
       "..                 ...               ...                ...               ...   \n",
       "145                6.7               3.0                5.2               2.3   \n",
       "146                6.3               2.5                5.0               1.9   \n",
       "147                6.5               3.0                5.2               2.0   \n",
       "148                6.2               3.4                5.4               2.3   \n",
       "149                5.9               3.0                5.1               1.8   \n",
       "\n",
       "     target  \n",
       "0         0  \n",
       "1         0  \n",
       "2         0  \n",
       "3         0  \n",
       "4         0  \n",
       "..      ...  \n",
       "145       2  \n",
       "146       2  \n",
       "147       2  \n",
       "148       2  \n",
       "149       2  \n",
       "\n",
       "[150 rows x 5 columns]"
      ]
     },
     "execution_count": 5,
     "metadata": {},
     "output_type": "execute_result"
    }
   ],
   "source": [
    "df[\"target\"]=iris.target\n",
    "df"
   ]
  },
  {
   "cell_type": "code",
   "execution_count": 6,
   "id": "5389044a",
   "metadata": {
    "execution": {
     "iopub.execute_input": "2023-12-14T08:49:47.398329Z",
     "iopub.status.busy": "2023-12-14T08:49:47.397922Z",
     "iopub.status.idle": "2023-12-14T08:49:47.424918Z",
     "shell.execute_reply": "2023-12-14T08:49:47.423699Z"
    },
    "papermill": {
     "duration": 0.03997,
     "end_time": "2023-12-14T08:49:47.427639",
     "exception": false,
     "start_time": "2023-12-14T08:49:47.387669",
     "status": "completed"
    },
    "tags": []
   },
   "outputs": [
    {
     "name": "stdout",
     "output_type": "stream",
     "text": [
      "<class 'pandas.core.frame.DataFrame'>\n",
      "RangeIndex: 150 entries, 0 to 149\n",
      "Data columns (total 5 columns):\n",
      " #   Column             Non-Null Count  Dtype  \n",
      "---  ------             --------------  -----  \n",
      " 0   sepal length (cm)  150 non-null    float64\n",
      " 1   sepal width (cm)   150 non-null    float64\n",
      " 2   petal length (cm)  150 non-null    float64\n",
      " 3   petal width (cm)   150 non-null    float64\n",
      " 4   target             150 non-null    int64  \n",
      "dtypes: float64(4), int64(1)\n",
      "memory usage: 6.0 KB\n"
     ]
    }
   ],
   "source": [
    "df.info()"
   ]
  },
  {
   "cell_type": "code",
   "execution_count": 7,
   "id": "b19254ba",
   "metadata": {
    "execution": {
     "iopub.execute_input": "2023-12-14T08:49:47.447543Z",
     "iopub.status.busy": "2023-12-14T08:49:47.447105Z",
     "iopub.status.idle": "2023-12-14T08:49:47.455570Z",
     "shell.execute_reply": "2023-12-14T08:49:47.454677Z"
    },
    "papermill": {
     "duration": 0.020908,
     "end_time": "2023-12-14T08:49:47.457764",
     "exception": false,
     "start_time": "2023-12-14T08:49:47.436856",
     "status": "completed"
    },
    "tags": []
   },
   "outputs": [
    {
     "data": {
      "text/plain": [
       "target\n",
       "0    50\n",
       "1    50\n",
       "2    50\n",
       "Name: count, dtype: int64"
      ]
     },
     "execution_count": 7,
     "metadata": {},
     "output_type": "execute_result"
    }
   ],
   "source": [
    "df.target.value_counts()"
   ]
  },
  {
   "cell_type": "code",
   "execution_count": 8,
   "id": "44596fe1",
   "metadata": {
    "execution": {
     "iopub.execute_input": "2023-12-14T08:49:47.478110Z",
     "iopub.status.busy": "2023-12-14T08:49:47.476972Z",
     "iopub.status.idle": "2023-12-14T08:49:47.487065Z",
     "shell.execute_reply": "2023-12-14T08:49:47.486170Z"
    },
    "papermill": {
     "duration": 0.02239,
     "end_time": "2023-12-14T08:49:47.489353",
     "exception": false,
     "start_time": "2023-12-14T08:49:47.466963",
     "status": "completed"
    },
    "tags": []
   },
   "outputs": [],
   "source": [
    "df0 = df[df['target'] == 0]\n",
    "df1 = df[df['target'] == 1]\n",
    "df2 = df[df['target'] == 2]"
   ]
  },
  {
   "cell_type": "code",
   "execution_count": 9,
   "id": "3ff90744",
   "metadata": {
    "execution": {
     "iopub.execute_input": "2023-12-14T08:49:47.509256Z",
     "iopub.status.busy": "2023-12-14T08:49:47.508582Z",
     "iopub.status.idle": "2023-12-14T08:49:47.925428Z",
     "shell.execute_reply": "2023-12-14T08:49:47.924151Z"
    },
    "papermill": {
     "duration": 0.429448,
     "end_time": "2023-12-14T08:49:47.927805",
     "exception": false,
     "start_time": "2023-12-14T08:49:47.498357",
     "status": "completed"
    },
    "tags": []
   },
   "outputs": [
    {
     "data": {
      "image/png": "[encoded data removed]",
      "text/plain": [
       "<Figure size 640x480 with 1 Axes>"
      ]
     },
     "metadata": {},
     "output_type": "display_data"
    }
   ],
   "source": [
    "plt.xlabel('Sepal Length')\n",
    "plt.ylabel('Sepal Width')\n",
    "plt.scatter(df0['sepal length (cm)'], df0['sepal width (cm)'], color=\"green\",marker='+' , label = iris.target_names[0])\n",
    "plt.scatter(df1['sepal length (cm)'], df1['sepal width (cm)'], color=\"blue\", marker='.',  label = iris.target_names[1])\n",
    "plt.scatter(df2['sepal length (cm)'], df2['sepal width (cm)'], color=\"red\", marker='*',  label = iris.target_names[2])\n",
    "plt.legend()\n",
    "plt.show()"
   ]
  },
  {
   "cell_type": "code",
   "execution_count": 10,
   "id": "b11c60a4",
   "metadata": {
    "execution": {
     "iopub.execute_input": "2023-12-14T08:49:47.948492Z",
     "iopub.status.busy": "2023-12-14T08:49:47.948100Z",
     "iopub.status.idle": "2023-12-14T08:49:48.239512Z",
     "shell.execute_reply": "2023-12-14T08:49:48.238203Z"
    },
    "papermill": {
     "duration": 0.305552,
     "end_time": "2023-12-14T08:49:48.242833",
     "exception": false,
     "start_time": "2023-12-14T08:49:47.937281",
     "status": "completed"
    },
    "tags": []
   },
   "outputs": [
    {
     "data": {
      "image/png": "[encoded data removed]",
      "text/plain": [
       "<Figure size 640x480 with 1 Axes>"
      ]
     },
     "metadata": {},
     "output_type": "display_data"
    }
   ],
   "source": [
    "plt.xlabel('Petal Length')\n",
    "plt.ylabel('Petal Width')\n",
    "plt.scatter(df0['petal length (cm)'], df0['petal width (cm)'], color=\"green\",marker='+' , label = iris.target_names[0])\n",
    "plt.scatter(df1['petal length (cm)'], df1['petal width (cm)'], color=\"blue\", marker='.',  label = iris.target_names[1])\n",
    "plt.scatter(df2['petal length (cm)'], df2['petal width (cm)'], color=\"red\", marker='*',  label = iris.target_names[2])\n",
    "plt.legend()\n",
    "plt.show()"
   ]
  },
  {
   "cell_type": "code",
   "execution_count": 11,
   "id": "051c7b8b",
   "metadata": {
    "execution": {
     "iopub.execute_input": "2023-12-14T08:49:48.265684Z",
     "iopub.status.busy": "2023-12-14T08:49:48.264453Z",
     "iopub.status.idle": "2023-12-14T08:49:48.366886Z",
     "shell.execute_reply": "2023-12-14T08:49:48.365329Z"
    },
    "papermill": {
     "duration": 0.11723,
     "end_time": "2023-12-14T08:49:48.369984",
     "exception": false,
     "start_time": "2023-12-14T08:49:48.252754",
     "status": "completed"
    },
    "tags": []
   },
   "outputs": [],
   "source": [
    "from sklearn.model_selection import train_test_split"
   ]
  },
  {
   "cell_type": "code",
   "execution_count": 12,
   "id": "05876ef0",
   "metadata": {
    "execution": {
     "iopub.execute_input": "2023-12-14T08:49:48.392048Z",
     "iopub.status.busy": "2023-12-14T08:49:48.391653Z",
     "iopub.status.idle": "2023-12-14T08:49:48.399022Z",
     "shell.execute_reply": "2023-12-14T08:49:48.397721Z"
    },
    "papermill": {
     "duration": 0.02073,
     "end_time": "2023-12-14T08:49:48.401185",
     "exception": false,
     "start_time": "2023-12-14T08:49:48.380455",
     "status": "completed"
    },
    "tags": []
   },
   "outputs": [],
   "source": [
    "X = df.drop(columns=\"target\")\n",
    "y = df.target"
   ]
  },
  {
   "cell_type": "code",
   "execution_count": 13,
   "id": "0989565d",
   "metadata": {
    "execution": {
     "iopub.execute_input": "2023-12-14T08:49:48.423427Z",
     "iopub.status.busy": "2023-12-14T08:49:48.422478Z",
     "iopub.status.idle": "2023-12-14T08:49:48.428435Z",
     "shell.execute_reply": "2023-12-14T08:49:48.427409Z"
    },
    "papermill": {
     "duration": 0.019547,
     "end_time": "2023-12-14T08:49:48.430985",
     "exception": false,
     "start_time": "2023-12-14T08:49:48.411438",
     "status": "completed"
    },
    "tags": []
   },
   "outputs": [],
   "source": [
    "X_train, X_test, y_train, y_test = train_test_split(X, y, test_size=0.2)"
   ]
  },
  {
   "cell_type": "code",
   "execution_count": 14,
   "id": "e65a48a0",
   "metadata": {
    "execution": {
     "iopub.execute_input": "2023-12-14T08:49:48.453410Z",
     "iopub.status.busy": "2023-12-14T08:49:48.452590Z",
     "iopub.status.idle": "2023-12-14T08:49:48.458884Z",
     "shell.execute_reply": "2023-12-14T08:49:48.458133Z"
    },
    "papermill": {
     "duration": 0.019512,
     "end_time": "2023-12-14T08:49:48.460919",
     "exception": false,
     "start_time": "2023-12-14T08:49:48.441407",
     "status": "completed"
    },
    "tags": []
   },
   "outputs": [
    {
     "data": {
      "text/plain": [
       "120"
      ]
     },
     "execution_count": 14,
     "metadata": {},
     "output_type": "execute_result"
    }
   ],
   "source": [
    "len(X_train)"
   ]
  },
  {
   "cell_type": "code",
   "execution_count": 15,
   "id": "20ba48bf",
   "metadata": {
    "execution": {
     "iopub.execute_input": "2023-12-14T08:49:48.483683Z",
     "iopub.status.busy": "2023-12-14T08:49:48.482677Z",
     "iopub.status.idle": "2023-12-14T08:49:48.489473Z",
     "shell.execute_reply": "2023-12-14T08:49:48.488325Z"
    },
    "papermill": {
     "duration": 0.02045,
     "end_time": "2023-12-14T08:49:48.491961",
     "exception": false,
     "start_time": "2023-12-14T08:49:48.471511",
     "status": "completed"
    },
    "tags": []
   },
   "outputs": [
    {
     "data": {
      "text/plain": [
       "30"
      ]
     },
     "execution_count": 15,
     "metadata": {},
     "output_type": "execute_result"
    }
   ],
   "source": [
    "len(X_test)"
   ]
  },
  {
   "cell_type": "code",
   "execution_count": 16,
   "id": "adcf5909",
   "metadata": {
    "execution": {
     "iopub.execute_input": "2023-12-14T08:49:48.514222Z",
     "iopub.status.busy": "2023-12-14T08:49:48.513554Z",
     "iopub.status.idle": "2023-12-14T08:49:48.621666Z",
     "shell.execute_reply": "2023-12-14T08:49:48.620154Z"
    },
    "papermill": {
     "duration": 0.123411,
     "end_time": "2023-12-14T08:49:48.625294",
     "exception": false,
     "start_time": "2023-12-14T08:49:48.501883",
     "status": "completed"
    },
    "tags": []
   },
   "outputs": [],
   "source": [
    "from sklearn.svm import SVC #support vector classifier (SVC) / support vector regressor (SVR)  \n",
    "model = SVC()"
   ]
  },
  {
   "cell_type": "code",
   "execution_count": 17,
   "id": "039ecaa5",
   "metadata": {
    "execution": {
     "iopub.execute_input": "2023-12-14T08:49:48.647311Z",
     "iopub.status.busy": "2023-12-14T08:49:48.646903Z",
     "iopub.status.idle": "2023-12-14T08:49:48.660883Z",
     "shell.execute_reply": "2023-12-14T08:49:48.659767Z"
    },
    "papermill": {
     "duration": 0.028048,
     "end_time": "2023-12-14T08:49:48.663472",
     "exception": false,
     "start_time": "2023-12-14T08:49:48.635424",
     "status": "completed"
    },
    "tags": []
   },
   "outputs": [
    {
     "data": {
      "text/html": [
       "<style>#sk-container-id-1 {color: black;background-color: white;}#sk-container-id-1 pre{padding: 0;}#sk-container-id-1 div.sk-toggleable {background-color: white;}#sk-container-id-1 label.sk-toggleable__label {cursor: pointer;display: block;width: 100%;margin-bottom: 0;padding: 0.3em;box-sizing: border-box;text-align: center;}#sk-container-id-1 label.sk-toggleable__label-arrow:before {content: \"▸\";float: left;margin-right: 0.25em;color: #696969;}#sk-container-id-1 label.sk-toggleable__label-arrow:hover:before {color: black;}#sk-container-id-1 div.sk-estimator:hover label.sk-toggleable__label-arrow:before {color: black;}#sk-container-id-1 div.sk-toggleable__content {max-height: 0;max-width: 0;overflow: hidden;text-align: left;background-color: #f0f8ff;}#sk-container-id-1 div.sk-toggleable__content pre {margin: 0.2em;color: black;border-radius: 0.25em;background-color: #f0f8ff;}#sk-container-id-1 input.sk-toggleable__control:checked~div.sk-toggleable__content {max-height: 200px;max-width: 100%;overflow: auto;}#sk-container-id-1 input.sk-toggleable__control:checked~label.sk-toggleable__label-arrow:before {content: \"▾\";}#sk-container-id-1 div.sk-estimator input.sk-toggleable__control:checked~label.sk-toggleable__label {background-color: #d4ebff;}#sk-container-id-1 div.sk-label input.sk-toggleable__control:checked~label.sk-toggleable__label {background-color: #d4ebff;}#sk-container-id-1 input.sk-hidden--visually {border: 0;clip: rect(1px 1px 1px 1px);clip: rect(1px, 1px, 1px, 1px);height: 1px;margin: -1px;overflow: hidden;padding: 0;position: absolute;width: 1px;}#sk-container-id-1 div.sk-estimator {font-family: monospace;background-color: #f0f8ff;border: 1px dotted black;border-radius: 0.25em;box-sizing: border-box;margin-bottom: 0.5em;}#sk-container-id-1 div.sk-estimator:hover {background-color: #d4ebff;}#sk-container-id-1 div.sk-parallel-item::after {content: \"\";width: 100%;border-bottom: 1px solid gray;flex-grow: 1;}#sk-container-id-1 div.sk-label:hover label.sk-toggleable__label {background-color: #d4ebff;}#sk-container-id-1 div.sk-serial::before {content: \"\";position: absolute;border-left: 1px solid gray;box-sizing: border-box;top: 0;bottom: 0;left: 50%;z-index: 0;}#sk-container-id-1 div.sk-serial {display: flex;flex-direction: column;align-items: center;background-color: white;padding-right: 0.2em;padding-left: 0.2em;position: relative;}#sk-container-id-1 div.sk-item {position: relative;z-index: 1;}#sk-container-id-1 div.sk-parallel {display: flex;align-items: stretch;justify-content: center;background-color: white;position: relative;}#sk-container-id-1 div.sk-item::before, #sk-container-id-1 div.sk-parallel-item::before {content: \"\";position: absolute;border-left: 1px solid gray;box-sizing: border-box;top: 0;bottom: 0;left: 50%;z-index: -1;}#sk-container-id-1 div.sk-parallel-item {display: flex;flex-direction: column;z-index: 1;position: relative;background-color: white;}#sk-container-id-1 div.sk-parallel-item:first-child::after {align-self: flex-end;width: 50%;}#sk-container-id-1 div.sk-parallel-item:last-child::after {align-self: flex-start;width: 50%;}#sk-container-id-1 div.sk-parallel-item:only-child::after {width: 0;}#sk-container-id-1 div.sk-dashed-wrapped {border: 1px dashed gray;margin: 0 0.4em 0.5em 0.4em;box-sizing: border-box;padding-bottom: 0.4em;background-color: white;}#sk-container-id-1 div.sk-label label {font-family: monospace;font-weight: bold;display: inline-block;line-height: 1.2em;}#sk-container-id-1 div.sk-label-container {text-align: center;}#sk-container-id-1 div.sk-container {/* jupyter's `normalize.less` sets `[hidden] { display: none; }` but bootstrap.min.css set `[hidden] { display: none !important; }` so we also need the `!important` here to be able to override the default hidden behavior on the sphinx rendered scikit-learn.org. See: https://github.com/scikit-learn/scikit-learn/issues/21755 */display: inline-block !important;position: relative;}#sk-container-id-1 div.sk-text-repr-fallback {display: none;}</style><div id=\"sk-container-id-1\" class=\"sk-top-container\"><div class=\"sk-text-repr-fallback\"><pre>SVC()</pre><b>In a Jupyter environment, please rerun this cell to show the HTML representation or trust the notebook. <br />On GitHub, the HTML representation is unable to render, please try loading this page with nbviewer.org.</b></div><div class=\"sk-container\" hidden><div class=\"sk-item\"><div class=\"sk-estimator sk-toggleable\"><input class=\"sk-toggleable__control sk-hidden--visually\" id=\"sk-estimator-id-1\" type=\"checkbox\" checked><label for=\"sk-estimator-id-1\" class=\"sk-toggleable__label sk-toggleable__label-arrow\">SVC</label><div class=\"sk-toggleable__content\"><pre>SVC()</pre></div></div></div></div></div>"
      ],
      "text/plain": [
       "SVC()"
      ]
     },
     "execution_count": 17,
     "metadata": {},
     "output_type": "execute_result"
    }
   ],
   "source": [
    "model.fit(X_train,y_train)"
   ]
  },
  {
   "cell_type": "code",
   "execution_count": 18,
   "id": "1c81db49",
   "metadata": {
    "execution": {
     "iopub.execute_input": "2023-12-14T08:49:48.686702Z",
     "iopub.status.busy": "2023-12-14T08:49:48.686337Z",
     "iopub.status.idle": "2023-12-14T08:49:48.696009Z",
     "shell.execute_reply": "2023-12-14T08:49:48.694673Z"
    },
    "papermill": {
     "duration": 0.024122,
     "end_time": "2023-12-14T08:49:48.698692",
     "exception": false,
     "start_time": "2023-12-14T08:49:48.674570",
     "status": "completed"
    },
    "tags": []
   },
   "outputs": [
    {
     "data": {
      "text/plain": [
       "0.975"
      ]
     },
     "execution_count": 18,
     "metadata": {},
     "output_type": "execute_result"
    }
   ],
   "source": [
    "model.score(X_train, y_train)"
   ]
  },
  {
   "cell_type": "code",
   "execution_count": 19,
   "id": "ee7ac85d",
   "metadata": {
    "execution": {
     "iopub.execute_input": "2023-12-14T08:49:48.721197Z",
     "iopub.status.busy": "2023-12-14T08:49:48.720784Z",
     "iopub.status.idle": "2023-12-14T08:49:48.731311Z",
     "shell.execute_reply": "2023-12-14T08:49:48.730160Z"
    },
    "papermill": {
     "duration": 0.024563,
     "end_time": "2023-12-14T08:49:48.733688",
     "exception": false,
     "start_time": "2023-12-14T08:49:48.709125",
     "status": "completed"
    },
    "tags": []
   },
   "outputs": [
    {
     "data": {
      "text/plain": [
       "0.9333333333333333"
      ]
     },
     "execution_count": 19,
     "metadata": {},
     "output_type": "execute_result"
    }
   ],
   "source": [
    "model.score(X_test, y_test)"
   ]
  },
  {
   "cell_type": "markdown",
   "id": "98243361",
   "metadata": {
    "papermill": {
     "duration": 0.010885,
     "end_time": "2023-12-14T08:49:48.755592",
     "exception": false,
     "start_time": "2023-12-14T08:49:48.744707",
     "status": "completed"
    },
    "tags": []
   },
   "source": [
    "## **Regularization Parameter** "
   ]
  },
  {
   "cell_type": "markdown",
   "id": "8ebfa758",
   "metadata": {
    "papermill": {
     "duration": 0.010544,
     "end_time": "2023-12-14T08:49:48.837012",
     "exception": false,
     "start_time": "2023-12-14T08:49:48.826468",
     "status": "completed"
    },
    "tags": []
   },
   "source": [
    "## 1-Parameter (C) \n",
    "### That's the sensitivity of model to the outliers "
   ]
  },
  {
   "cell_type": "markdown",
   "id": "321c6382",
   "metadata": {
    "papermill": {
     "duration": 0.010411,
     "end_time": "2023-12-14T08:49:48.858686",
     "exception": false,
     "start_time": "2023-12-14T08:49:48.848275",
     "status": "completed"
    },
    "tags": []
   },
   "source": [
    "<img height=600 width=900 src=\"https://vitalflux.com/wp-content/uploads/2020/07/Screenshot-2020-07-09-at-10.19.39-AM.png\" />"
   ]
  },
  {
   "cell_type": "code",
   "execution_count": 20,
   "id": "f56d5f6b",
   "metadata": {
    "execution": {
     "iopub.execute_input": "2023-12-14T08:49:48.882337Z",
     "iopub.status.busy": "2023-12-14T08:49:48.881929Z",
     "iopub.status.idle": "2023-12-14T08:49:48.892702Z",
     "shell.execute_reply": "2023-12-14T08:49:48.891600Z"
    },
    "papermill": {
     "duration": 0.025742,
     "end_time": "2023-12-14T08:49:48.895159",
     "exception": false,
     "start_time": "2023-12-14T08:49:48.869417",
     "status": "completed"
    },
    "tags": []
   },
   "outputs": [
    {
     "data": {
      "text/html": [
       "<style>#sk-container-id-2 {color: black;background-color: white;}#sk-container-id-2 pre{padding: 0;}#sk-container-id-2 div.sk-toggleable {background-color: white;}#sk-container-id-2 label.sk-toggleable__label {cursor: pointer;display: block;width: 100%;margin-bottom: 0;padding: 0.3em;box-sizing: border-box;text-align: center;}#sk-container-id-2 label.sk-toggleable__label-arrow:before {content: \"▸\";float: left;margin-right: 0.25em;color: #696969;}#sk-container-id-2 label.sk-toggleable__label-arrow:hover:before {color: black;}#sk-container-id-2 div.sk-estimator:hover label.sk-toggleable__label-arrow:before {color: black;}#sk-container-id-2 div.sk-toggleable__content {max-height: 0;max-width: 0;overflow: hidden;text-align: left;background-color: #f0f8ff;}#sk-container-id-2 div.sk-toggleable__content pre {margin: 0.2em;color: black;border-radius: 0.25em;background-color: #f0f8ff;}#sk-container-id-2 input.sk-toggleable__control:checked~div.sk-toggleable__content {max-height: 200px;max-width: 100%;overflow: auto;}#sk-container-id-2 input.sk-toggleable__control:checked~label.sk-toggleable__label-arrow:before {content: \"▾\";}#sk-container-id-2 div.sk-estimator input.sk-toggleable__control:checked~label.sk-toggleable__label {background-color: #d4ebff;}#sk-container-id-2 div.sk-label input.sk-toggleable__control:checked~label.sk-toggleable__label {background-color: #d4ebff;}#sk-container-id-2 input.sk-hidden--visually {border: 0;clip: rect(1px 1px 1px 1px);clip: rect(1px, 1px, 1px, 1px);height: 1px;margin: -1px;overflow: hidden;padding: 0;position: absolute;width: 1px;}#sk-container-id-2 div.sk-estimator {font-family: monospace;background-color: #f0f8ff;border: 1px dotted black;border-radius: 0.25em;box-sizing: border-box;margin-bottom: 0.5em;}#sk-container-id-2 div.sk-estimator:hover {background-color: #d4ebff;}#sk-container-id-2 div.sk-parallel-item::after {content: \"\";width: 100%;border-bottom: 1px solid gray;flex-grow: 1;}#sk-container-id-2 div.sk-label:hover label.sk-toggleable__label {background-color: #d4ebff;}#sk-container-id-2 div.sk-serial::before {content: \"\";position: absolute;border-left: 1px solid gray;box-sizing: border-box;top: 0;bottom: 0;left: 50%;z-index: 0;}#sk-container-id-2 div.sk-serial {display: flex;flex-direction: column;align-items: center;background-color: white;padding-right: 0.2em;padding-left: 0.2em;position: relative;}#sk-container-id-2 div.sk-item {position: relative;z-index: 1;}#sk-container-id-2 div.sk-parallel {display: flex;align-items: stretch;justify-content: center;background-color: white;position: relative;}#sk-container-id-2 div.sk-item::before, #sk-container-id-2 div.sk-parallel-item::before {content: \"\";position: absolute;border-left: 1px solid gray;box-sizing: border-box;top: 0;bottom: 0;left: 50%;z-index: -1;}#sk-container-id-2 div.sk-parallel-item {display: flex;flex-direction: column;z-index: 1;position: relative;background-color: white;}#sk-container-id-2 div.sk-parallel-item:first-child::after {align-self: flex-end;width: 50%;}#sk-container-id-2 div.sk-parallel-item:last-child::after {align-self: flex-start;width: 50%;}#sk-container-id-2 div.sk-parallel-item:only-child::after {width: 0;}#sk-container-id-2 div.sk-dashed-wrapped {border: 1px dashed gray;margin: 0 0.4em 0.5em 0.4em;box-sizing: border-box;padding-bottom: 0.4em;background-color: white;}#sk-container-id-2 div.sk-label label {font-family: monospace;font-weight: bold;display: inline-block;line-height: 1.2em;}#sk-container-id-2 div.sk-label-container {text-align: center;}#sk-container-id-2 div.sk-container {/* jupyter's `normalize.less` sets `[hidden] { display: none; }` but bootstrap.min.css set `[hidden] { display: none !important; }` so we also need the `!important` here to be able to override the default hidden behavior on the sphinx rendered scikit-learn.org. See: https://github.com/scikit-learn/scikit-learn/issues/21755 */display: inline-block !important;position: relative;}#sk-container-id-2 div.sk-text-repr-fallback {display: none;}</style><div id=\"sk-container-id-2\" class=\"sk-top-container\"><div class=\"sk-text-repr-fallback\"><pre>SVC(C=10)</pre><b>In a Jupyter environment, please rerun this cell to show the HTML representation or trust the notebook. <br />On GitHub, the HTML representation is unable to render, please try loading this page with nbviewer.org.</b></div><div class=\"sk-container\" hidden><div class=\"sk-item\"><div class=\"sk-estimator sk-toggleable\"><input class=\"sk-toggleable__control sk-hidden--visually\" id=\"sk-estimator-id-2\" type=\"checkbox\" checked><label for=\"sk-estimator-id-2\" class=\"sk-toggleable__label sk-toggleable__label-arrow\">SVC</label><div class=\"sk-toggleable__content\"><pre>SVC(C=10)</pre></div></div></div></div></div>"
      ],
      "text/plain": [
       "SVC(C=10)"
      ]
     },
     "execution_count": 20,
     "metadata": {},
     "output_type": "execute_result"
    }
   ],
   "source": [
    "model_C = SVC(C=10)\n",
    "model_C.fit(X_train, y_train)"
   ]
  },
  {
   "cell_type": "code",
   "execution_count": 21,
   "id": "554ef3ef",
   "metadata": {
    "execution": {
     "iopub.execute_input": "2023-12-14T08:49:48.920110Z",
     "iopub.status.busy": "2023-12-14T08:49:48.918999Z",
     "iopub.status.idle": "2023-12-14T08:49:48.930062Z",
     "shell.execute_reply": "2023-12-14T08:49:48.928867Z"
    },
    "papermill": {
     "duration": 0.026671,
     "end_time": "2023-12-14T08:49:48.932630",
     "exception": false,
     "start_time": "2023-12-14T08:49:48.905959",
     "status": "completed"
    },
    "tags": []
   },
   "outputs": [
    {
     "name": "stdout",
     "output_type": "stream",
     "text": [
      "0.9916666666666667\n",
      "1.0\n"
     ]
    }
   ],
   "source": [
    "print(model_C.score(X_train, y_train))\n",
    "print(model_C.score(X_test, y_test))"
   ]
  },
  {
   "cell_type": "code",
   "execution_count": 22,
   "id": "1b79c7ee",
   "metadata": {
    "execution": {
     "iopub.execute_input": "2023-12-14T08:49:48.957295Z",
     "iopub.status.busy": "2023-12-14T08:49:48.956886Z",
     "iopub.status.idle": "2023-12-14T08:49:48.968192Z",
     "shell.execute_reply": "2023-12-14T08:49:48.967123Z"
    },
    "papermill": {
     "duration": 0.027251,
     "end_time": "2023-12-14T08:49:48.970818",
     "exception": false,
     "start_time": "2023-12-14T08:49:48.943567",
     "status": "completed"
    },
    "tags": []
   },
   "outputs": [
    {
     "data": {
      "text/html": [
       "<style>#sk-container-id-3 {color: black;background-color: white;}#sk-container-id-3 pre{padding: 0;}#sk-container-id-3 div.sk-toggleable {background-color: white;}#sk-container-id-3 label.sk-toggleable__label {cursor: pointer;display: block;width: 100%;margin-bottom: 0;padding: 0.3em;box-sizing: border-box;text-align: center;}#sk-container-id-3 label.sk-toggleable__label-arrow:before {content: \"▸\";float: left;margin-right: 0.25em;color: #696969;}#sk-container-id-3 label.sk-toggleable__label-arrow:hover:before {color: black;}#sk-container-id-3 div.sk-estimator:hover label.sk-toggleable__label-arrow:before {color: black;}#sk-container-id-3 div.sk-toggleable__content {max-height: 0;max-width: 0;overflow: hidden;text-align: left;background-color: #f0f8ff;}#sk-container-id-3 div.sk-toggleable__content pre {margin: 0.2em;color: black;border-radius: 0.25em;background-color: #f0f8ff;}#sk-container-id-3 input.sk-toggleable__control:checked~div.sk-toggleable__content {max-height: 200px;max-width: 100%;overflow: auto;}#sk-container-id-3 input.sk-toggleable__control:checked~label.sk-toggleable__label-arrow:before {content: \"▾\";}#sk-container-id-3 div.sk-estimator input.sk-toggleable__control:checked~label.sk-toggleable__label {background-color: #d4ebff;}#sk-container-id-3 div.sk-label input.sk-toggleable__control:checked~label.sk-toggleable__label {background-color: #d4ebff;}#sk-container-id-3 input.sk-hidden--visually {border: 0;clip: rect(1px 1px 1px 1px);clip: rect(1px, 1px, 1px, 1px);height: 1px;margin: -1px;overflow: hidden;padding: 0;position: absolute;width: 1px;}#sk-container-id-3 div.sk-estimator {font-family: monospace;background-color: #f0f8ff;border: 1px dotted black;border-radius: 0.25em;box-sizing: border-box;margin-bottom: 0.5em;}#sk-container-id-3 div.sk-estimator:hover {background-color: #d4ebff;}#sk-container-id-3 div.sk-parallel-item::after {content: \"\";width: 100%;border-bottom: 1px solid gray;flex-grow: 1;}#sk-container-id-3 div.sk-label:hover label.sk-toggleable__label {background-color: #d4ebff;}#sk-container-id-3 div.sk-serial::before {content: \"\";position: absolute;border-left: 1px solid gray;box-sizing: border-box;top: 0;bottom: 0;left: 50%;z-index: 0;}#sk-container-id-3 div.sk-serial {display: flex;flex-direction: column;align-items: center;background-color: white;padding-right: 0.2em;padding-left: 0.2em;position: relative;}#sk-container-id-3 div.sk-item {position: relative;z-index: 1;}#sk-container-id-3 div.sk-parallel {display: flex;align-items: stretch;justify-content: center;background-color: white;position: relative;}#sk-container-id-3 div.sk-item::before, #sk-container-id-3 div.sk-parallel-item::before {content: \"\";position: absolute;border-left: 1px solid gray;box-sizing: border-box;top: 0;bottom: 0;left: 50%;z-index: -1;}#sk-container-id-3 div.sk-parallel-item {display: flex;flex-direction: column;z-index: 1;position: relative;background-color: white;}#sk-container-id-3 div.sk-parallel-item:first-child::after {align-self: flex-end;width: 50%;}#sk-container-id-3 div.sk-parallel-item:last-child::after {align-self: flex-start;width: 50%;}#sk-container-id-3 div.sk-parallel-item:only-child::after {width: 0;}#sk-container-id-3 div.sk-dashed-wrapped {border: 1px dashed gray;margin: 0 0.4em 0.5em 0.4em;box-sizing: border-box;padding-bottom: 0.4em;background-color: white;}#sk-container-id-3 div.sk-label label {font-family: monospace;font-weight: bold;display: inline-block;line-height: 1.2em;}#sk-container-id-3 div.sk-label-container {text-align: center;}#sk-container-id-3 div.sk-container {/* jupyter's `normalize.less` sets `[hidden] { display: none; }` but bootstrap.min.css set `[hidden] { display: none !important; }` so we also need the `!important` here to be able to override the default hidden behavior on the sphinx rendered scikit-learn.org. See: https://github.com/scikit-learn/scikit-learn/issues/21755 */display: inline-block !important;position: relative;}#sk-container-id-3 div.sk-text-repr-fallback {display: none;}</style><div id=\"sk-container-id-3\" class=\"sk-top-container\"><div class=\"sk-text-repr-fallback\"><pre>SVC(C=0.1)</pre><b>In a Jupyter environment, please rerun this cell to show the HTML representation or trust the notebook. <br />On GitHub, the HTML representation is unable to render, please try loading this page with nbviewer.org.</b></div><div class=\"sk-container\" hidden><div class=\"sk-item\"><div class=\"sk-estimator sk-toggleable\"><input class=\"sk-toggleable__control sk-hidden--visually\" id=\"sk-estimator-id-3\" type=\"checkbox\" checked><label for=\"sk-estimator-id-3\" class=\"sk-toggleable__label sk-toggleable__label-arrow\">SVC</label><div class=\"sk-toggleable__content\"><pre>SVC(C=0.1)</pre></div></div></div></div></div>"
      ],
      "text/plain": [
       "SVC(C=0.1)"
      ]
     },
     "execution_count": 22,
     "metadata": {},
     "output_type": "execute_result"
    }
   ],
   "source": [
    "model_C2 = SVC(C=0.1)\n",
    "model_C2.fit(X_train, y_train)"
   ]
  },
  {
   "cell_type": "code",
   "execution_count": 23,
   "id": "f8cb96b9",
   "metadata": {
    "execution": {
     "iopub.execute_input": "2023-12-14T08:49:48.994765Z",
     "iopub.status.busy": "2023-12-14T08:49:48.994338Z",
     "iopub.status.idle": "2023-12-14T08:49:49.005833Z",
     "shell.execute_reply": "2023-12-14T08:49:49.004681Z"
    },
    "papermill": {
     "duration": 0.026383,
     "end_time": "2023-12-14T08:49:49.008345",
     "exception": false,
     "start_time": "2023-12-14T08:49:48.981962",
     "status": "completed"
    },
    "tags": []
   },
   "outputs": [
    {
     "name": "stdout",
     "output_type": "stream",
     "text": [
      "0.925\n",
      "0.8333333333333334\n"
     ]
    }
   ],
   "source": [
    "print(model_C2.score(X_train, y_train))\n",
    "print(model_C2.score(X_test, y_test))"
   ]
  },
  {
   "cell_type": "markdown",
   "id": "e01e3f59",
   "metadata": {
    "papermill": {
     "duration": 0.012167,
     "end_time": "2023-12-14T08:49:49.032239",
     "exception": false,
     "start_time": "2023-12-14T08:49:49.020072",
     "status": "completed"
    },
    "tags": []
   },
   "source": [
    "## 2-Gamma"
   ]
  },
  {
   "cell_type": "markdown",
   "id": "75874957",
   "metadata": {
    "papermill": {
     "duration": 0.010916,
     "end_time": "2023-12-14T08:49:49.054278",
     "exception": false,
     "start_time": "2023-12-14T08:49:49.043362",
     "status": "completed"
    },
    "tags": []
   },
   "source": [
    "<img height=1000 width=1300 src=\"https://i.imgur.com/lURJeuA.png\" />"
   ]
  },
  {
   "cell_type": "code",
   "execution_count": 24,
   "id": "6880b385",
   "metadata": {
    "execution": {
     "iopub.execute_input": "2023-12-14T08:49:49.078282Z",
     "iopub.status.busy": "2023-12-14T08:49:49.077856Z",
     "iopub.status.idle": "2023-12-14T08:49:49.090688Z",
     "shell.execute_reply": "2023-12-14T08:49:49.089757Z"
    },
    "papermill": {
     "duration": 0.027389,
     "end_time": "2023-12-14T08:49:49.092682",
     "exception": false,
     "start_time": "2023-12-14T08:49:49.065293",
     "status": "completed"
    },
    "tags": []
   },
   "outputs": [
    {
     "data": {
      "text/plain": [
       "0.9333333333333333"
      ]
     },
     "execution_count": 24,
     "metadata": {},
     "output_type": "execute_result"
    }
   ],
   "source": [
    "model_g = SVC(gamma=0.4)\n",
    "model_g.fit(X_train, y_train)\n",
    "model.score(X_test, y_test)"
   ]
  },
  {
   "cell_type": "code",
   "execution_count": 25,
   "id": "9f6a78b3",
   "metadata": {
    "execution": {
     "iopub.execute_input": "2023-12-14T08:49:49.117905Z",
     "iopub.status.busy": "2023-12-14T08:49:49.117547Z",
     "iopub.status.idle": "2023-12-14T08:49:49.129415Z",
     "shell.execute_reply": "2023-12-14T08:49:49.128582Z"
    },
    "papermill": {
     "duration": 0.027286,
     "end_time": "2023-12-14T08:49:49.131490",
     "exception": false,
     "start_time": "2023-12-14T08:49:49.104204",
     "status": "completed"
    },
    "tags": []
   },
   "outputs": [
    {
     "data": {
      "text/plain": [
       "0.9333333333333333"
      ]
     },
     "execution_count": 25,
     "metadata": {},
     "output_type": "execute_result"
    }
   ],
   "source": [
    "model_g = SVC(gamma=1)\n",
    "model_g.fit(X_train, y_train)\n",
    "model.score(X_test, y_test)"
   ]
  },
  {
   "cell_type": "markdown",
   "id": "88320a94",
   "metadata": {
    "papermill": {
     "duration": 0.011999,
     "end_time": "2023-12-14T08:49:49.155069",
     "exception": false,
     "start_time": "2023-12-14T08:49:49.143070",
     "status": "completed"
    },
    "tags": []
   },
   "source": [
    "## 2-Kernel"
   ]
  },
  {
   "cell_type": "markdown",
   "id": "90e40152",
   "metadata": {
    "papermill": {
     "duration": 0.011114,
     "end_time": "2023-12-14T08:49:49.177778",
     "exception": false,
     "start_time": "2023-12-14T08:49:49.166664",
     "status": "completed"
    },
    "tags": []
   },
   "source": [
    "<img height=800 width=900 src=\"https://miro.medium.com/v2/resize:fit:800/1*zqEbdsAbN4QqDdJ6L5pjnw.png\" />"
   ]
  },
  {
   "cell_type": "code",
   "execution_count": 26,
   "id": "bff3be22",
   "metadata": {
    "execution": {
     "iopub.execute_input": "2023-12-14T08:49:49.202598Z",
     "iopub.status.busy": "2023-12-14T08:49:49.202200Z",
     "iopub.status.idle": "2023-12-14T08:49:49.213060Z",
     "shell.execute_reply": "2023-12-14T08:49:49.212259Z"
    },
    "papermill": {
     "duration": 0.026241,
     "end_time": "2023-12-14T08:49:49.215171",
     "exception": false,
     "start_time": "2023-12-14T08:49:49.188930",
     "status": "completed"
    },
    "tags": []
   },
   "outputs": [
    {
     "data": {
      "text/html": [
       "<style>#sk-container-id-4 {color: black;background-color: white;}#sk-container-id-4 pre{padding: 0;}#sk-container-id-4 div.sk-toggleable {background-color: white;}#sk-container-id-4 label.sk-toggleable__label {cursor: pointer;display: block;width: 100%;margin-bottom: 0;padding: 0.3em;box-sizing: border-box;text-align: center;}#sk-container-id-4 label.sk-toggleable__label-arrow:before {content: \"▸\";float: left;margin-right: 0.25em;color: #696969;}#sk-container-id-4 label.sk-toggleable__label-arrow:hover:before {color: black;}#sk-container-id-4 div.sk-estimator:hover label.sk-toggleable__label-arrow:before {color: black;}#sk-container-id-4 div.sk-toggleable__content {max-height: 0;max-width: 0;overflow: hidden;text-align: left;background-color: #f0f8ff;}#sk-container-id-4 div.sk-toggleable__content pre {margin: 0.2em;color: black;border-radius: 0.25em;background-color: #f0f8ff;}#sk-container-id-4 input.sk-toggleable__control:checked~div.sk-toggleable__content {max-height: 200px;max-width: 100%;overflow: auto;}#sk-container-id-4 input.sk-toggleable__control:checked~label.sk-toggleable__label-arrow:before {content: \"▾\";}#sk-container-id-4 div.sk-estimator input.sk-toggleable__control:checked~label.sk-toggleable__label {background-color: #d4ebff;}#sk-container-id-4 div.sk-label input.sk-toggleable__control:checked~label.sk-toggleable__label {background-color: #d4ebff;}#sk-container-id-4 input.sk-hidden--visually {border: 0;clip: rect(1px 1px 1px 1px);clip: rect(1px, 1px, 1px, 1px);height: 1px;margin: -1px;overflow: hidden;padding: 0;position: absolute;width: 1px;}#sk-container-id-4 div.sk-estimator {font-family: monospace;background-color: #f0f8ff;border: 1px dotted black;border-radius: 0.25em;box-sizing: border-box;margin-bottom: 0.5em;}#sk-container-id-4 div.sk-estimator:hover {background-color: #d4ebff;}#sk-container-id-4 div.sk-parallel-item::after {content: \"\";width: 100%;border-bottom: 1px solid gray;flex-grow: 1;}#sk-container-id-4 div.sk-label:hover label.sk-toggleable__label {background-color: #d4ebff;}#sk-container-id-4 div.sk-serial::before {content: \"\";position: absolute;border-left: 1px solid gray;box-sizing: border-box;top: 0;bottom: 0;left: 50%;z-index: 0;}#sk-container-id-4 div.sk-serial {display: flex;flex-direction: column;align-items: center;background-color: white;padding-right: 0.2em;padding-left: 0.2em;position: relative;}#sk-container-id-4 div.sk-item {position: relative;z-index: 1;}#sk-container-id-4 div.sk-parallel {display: flex;align-items: stretch;justify-content: center;background-color: white;position: relative;}#sk-container-id-4 div.sk-item::before, #sk-container-id-4 div.sk-parallel-item::before {content: \"\";position: absolute;border-left: 1px solid gray;box-sizing: border-box;top: 0;bottom: 0;left: 50%;z-index: -1;}#sk-container-id-4 div.sk-parallel-item {display: flex;flex-direction: column;z-index: 1;position: relative;background-color: white;}#sk-container-id-4 div.sk-parallel-item:first-child::after {align-self: flex-end;width: 50%;}#sk-container-id-4 div.sk-parallel-item:last-child::after {align-self: flex-start;width: 50%;}#sk-container-id-4 div.sk-parallel-item:only-child::after {width: 0;}#sk-container-id-4 div.sk-dashed-wrapped {border: 1px dashed gray;margin: 0 0.4em 0.5em 0.4em;box-sizing: border-box;padding-bottom: 0.4em;background-color: white;}#sk-container-id-4 div.sk-label label {font-family: monospace;font-weight: bold;display: inline-block;line-height: 1.2em;}#sk-container-id-4 div.sk-label-container {text-align: center;}#sk-container-id-4 div.sk-container {/* jupyter's `normalize.less` sets `[hidden] { display: none; }` but bootstrap.min.css set `[hidden] { display: none !important; }` so we also need the `!important` here to be able to override the default hidden behavior on the sphinx rendered scikit-learn.org. See: https://github.com/scikit-learn/scikit-learn/issues/21755 */display: inline-block !important;position: relative;}#sk-container-id-4 div.sk-text-repr-fallback {display: none;}</style><div id=\"sk-container-id-4\" class=\"sk-top-container\"><div class=\"sk-text-repr-fallback\"><pre>SVC()</pre><b>In a Jupyter environment, please rerun this cell to show the HTML representation or trust the notebook. <br />On GitHub, the HTML representation is unable to render, please try loading this page with nbviewer.org.</b></div><div class=\"sk-container\" hidden><div class=\"sk-item\"><div class=\"sk-estimator sk-toggleable\"><input class=\"sk-toggleable__control sk-hidden--visually\" id=\"sk-estimator-id-4\" type=\"checkbox\" checked><label for=\"sk-estimator-id-4\" class=\"sk-toggleable__label sk-toggleable__label-arrow\">SVC</label><div class=\"sk-toggleable__content\"><pre>SVC()</pre></div></div></div></div></div>"
      ],
      "text/plain": [
       "SVC()"
      ]
     },
     "execution_count": 26,
     "metadata": {},
     "output_type": "execute_result"
    }
   ],
   "source": [
    "model_linear_kernal = SVC(kernel = \"rbf\")\n",
    "model_linear_kernal.fit(X_train, y_train)"
   ]
  },
  {
   "cell_type": "code",
   "execution_count": 27,
   "id": "8e02fa21",
   "metadata": {
    "execution": {
     "iopub.execute_input": "2023-12-14T08:49:49.240551Z",
     "iopub.status.busy": "2023-12-14T08:49:49.240183Z",
     "iopub.status.idle": "2023-12-14T08:49:49.249032Z",
     "shell.execute_reply": "2023-12-14T08:49:49.248250Z"
    },
    "papermill": {
     "duration": 0.023879,
     "end_time": "2023-12-14T08:49:49.251122",
     "exception": false,
     "start_time": "2023-12-14T08:49:49.227243",
     "status": "completed"
    },
    "tags": []
   },
   "outputs": [
    {
     "data": {
      "text/plain": [
       "0.9333333333333333"
      ]
     },
     "execution_count": 27,
     "metadata": {},
     "output_type": "execute_result"
    }
   ],
   "source": [
    "model_linear_kernal.score(X_test, y_test)"
   ]
  },
  {
   "cell_type": "code",
   "execution_count": null,
   "id": "82a47010",
   "metadata": {
    "papermill": {
     "duration": 0.011175,
     "end_time": "2023-12-14T08:49:49.274668",
     "exception": false,
     "start_time": "2023-12-14T08:49:49.263493",
     "status": "completed"
    },
    "tags": []
   },
   "outputs": [],
   "source": []
  }
 ],
 "metadata": {
  "kaggle": {
   "accelerator": "none",
   "dataSources": [],
   "dockerImageVersionId": 30626,
   "isGpuEnabled": false,
   "isInternetEnabled": true,
   "language": "python",
   "sourceType": "notebook"
  },
  "kernelspec": {
   "display_name": "Python 3",
   "language": "python",
   "name": "python3"
  },
  "language_info": {
   "codemirror_mode": {
    "name": "ipython",
    "version": 3
   },
   "file_extension": ".py",
   "mimetype": "text/x-python",
   "name": "python",
   "nbconvert_exporter": "python",
   "pygments_lexer": "ipython3",
   "version": "3.10.12"
  },
  "papermill": {
   "default_parameters": {},
   "duration": 7.555484,
   "end_time": "2023-12-14T08:49:49.907099",
   "environment_variables": {},
   "exception": null,
   "input_path": "__notebook__.ipynb",
   "output_path": "__notebook__.ipynb",
   "parameters": {},
   "start_time": "2023-12-14T08:49:42.351615",
   "version": "2.4.0"
  }
 },
 "nbformat": 4,
 "nbformat_minor": 5
}
