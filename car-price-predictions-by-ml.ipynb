{
 "cells": [
  {
   "cell_type": "code",
   "execution_count": 1,
   "id": "d59fca51",
   "metadata": {
    "execution": {
     "iopub.execute_input": "2023-11-27T10:57:53.138717Z",
     "iopub.status.busy": "2023-11-27T10:57:53.138269Z",
     "iopub.status.idle": "2023-11-27T10:57:55.127502Z",
     "shell.execute_reply": "2023-11-27T10:57:55.126130Z"
    },
    "papermill": {
     "duration": 2.008196,
     "end_time": "2023-11-27T10:57:55.130453",
     "exception": false,
     "start_time": "2023-11-27T10:57:53.122257",
     "status": "completed"
    },
    "tags": []
   },
   "outputs": [],
   "source": [
    "import numpy as np \n",
    "import pandas as pd\n",
    "import matplotlib.pyplot as plt\n",
    "\n",
    "from sklearn.preprocessing import MinMaxScaler #is used for feature scaling, specifically for scaling numerical features to a specified range, typically between 0 and 1.\n",
    "from sklearn.model_selection import train_test_split #is used to split a dataset into separate training and testing sets \n",
    "\n",
    "from sklearn.linear_model import LinearRegression , Lasso , Ridge\n",
    "from sklearn.metrics import mean_squared_error , r2_score "
   ]
  },
  {
   "cell_type": "markdown",
   "id": "f1e49f24",
   "metadata": {
    "papermill": {
     "duration": 0.013041,
     "end_time": "2023-11-27T10:57:55.157057",
     "exception": false,
     "start_time": "2023-11-27T10:57:55.144016",
     "status": "completed"
    },
    "tags": []
   },
   "source": [
    "<img src=\"https://cdn-coiao.nitrocdn.com/CYHudqJZsSxQpAPzLkHFOkuzFKDpEHGF/assets/images/optimized/rev-7841bc2/www.sharpsightlabs.com/wp-content/uploads/2022/05/train-test-split_simple-visual-example_v2.png\" style=\"width:600px;height:370px\" >\n",
    "\n"
   ]
  },
  {
   "cell_type": "markdown",
   "id": "2b878a2a",
   "metadata": {
    "papermill": {
     "duration": 0.012768,
     "end_time": "2023-11-27T10:57:55.182941",
     "exception": false,
     "start_time": "2023-11-27T10:57:55.170173",
     "status": "completed"
    },
    "tags": []
   },
   "source": [
    "# **EDA**"
   ]
  },
  {
   "cell_type": "code",
   "execution_count": 2,
   "id": "eafd537d",
   "metadata": {
    "execution": {
     "iopub.execute_input": "2023-11-27T10:57:55.212571Z",
     "iopub.status.busy": "2023-11-27T10:57:55.211180Z",
     "iopub.status.idle": "2023-11-27T10:57:55.270034Z",
     "shell.execute_reply": "2023-11-27T10:57:55.268904Z"
    },
    "papermill": {
     "duration": 0.076896,
     "end_time": "2023-11-27T10:57:55.272882",
     "exception": false,
     "start_time": "2023-11-27T10:57:55.195986",
     "status": "completed"
    },
    "tags": []
   },
   "outputs": [
    {
     "data": {
      "text/html": [
       "<div>\n",
       "<style scoped>\n",
       "    .dataframe tbody tr th:only-of-type {\n",
       "        vertical-align: middle;\n",
       "    }\n",
       "\n",
       "    .dataframe tbody tr th {\n",
       "        vertical-align: top;\n",
       "    }\n",
       "\n",
       "    .dataframe thead th {\n",
       "        text-align: right;\n",
       "    }\n",
       "</style>\n",
       "<table border=\"1\" class=\"dataframe\">\n",
       "  <thead>\n",
       "    <tr style=\"text-align: right;\">\n",
       "      <th></th>\n",
       "      <th>customer name</th>\n",
       "      <th>customer e-mail</th>\n",
       "      <th>country</th>\n",
       "      <th>gender</th>\n",
       "      <th>age</th>\n",
       "      <th>annual Salary</th>\n",
       "      <th>credit card debt</th>\n",
       "      <th>net worth</th>\n",
       "      <th>car purchase amount</th>\n",
       "    </tr>\n",
       "  </thead>\n",
       "  <tbody>\n",
       "    <tr>\n",
       "      <th>0</th>\n",
       "      <td>Martina Avila</td>\n",
       "      <td>cubilia.Curae.Phasellus@quisaccumsanconvallis.edu</td>\n",
       "      <td>Bulgaria</td>\n",
       "      <td>0</td>\n",
       "      <td>41.851720</td>\n",
       "      <td>62812.09301</td>\n",
       "      <td>11609.380910</td>\n",
       "      <td>238961.2505</td>\n",
       "      <td>35321.45877</td>\n",
       "    </tr>\n",
       "    <tr>\n",
       "      <th>1</th>\n",
       "      <td>Harlan Barnes</td>\n",
       "      <td>eu.dolor@diam.co.uk</td>\n",
       "      <td>Belize</td>\n",
       "      <td>0</td>\n",
       "      <td>40.870623</td>\n",
       "      <td>66646.89292</td>\n",
       "      <td>9572.957136</td>\n",
       "      <td>530973.9078</td>\n",
       "      <td>45115.52566</td>\n",
       "    </tr>\n",
       "    <tr>\n",
       "      <th>2</th>\n",
       "      <td>Naomi Rodriquez</td>\n",
       "      <td>vulputate.mauris.sagittis@ametconsectetueradip...</td>\n",
       "      <td>Algeria</td>\n",
       "      <td>1</td>\n",
       "      <td>43.152897</td>\n",
       "      <td>53798.55112</td>\n",
       "      <td>11160.355060</td>\n",
       "      <td>638467.1773</td>\n",
       "      <td>42925.70921</td>\n",
       "    </tr>\n",
       "    <tr>\n",
       "      <th>3</th>\n",
       "      <td>Jade Cunningham</td>\n",
       "      <td>malesuada@dignissim.com</td>\n",
       "      <td>Cook Islands</td>\n",
       "      <td>1</td>\n",
       "      <td>58.271369</td>\n",
       "      <td>79370.03798</td>\n",
       "      <td>14426.164850</td>\n",
       "      <td>548599.0524</td>\n",
       "      <td>67422.36313</td>\n",
       "    </tr>\n",
       "    <tr>\n",
       "      <th>4</th>\n",
       "      <td>Cedric Leach</td>\n",
       "      <td>felis.ullamcorper.viverra@egetmollislectus.net</td>\n",
       "      <td>Brazil</td>\n",
       "      <td>1</td>\n",
       "      <td>57.313749</td>\n",
       "      <td>59729.15130</td>\n",
       "      <td>5358.712177</td>\n",
       "      <td>560304.0671</td>\n",
       "      <td>55915.46248</td>\n",
       "    </tr>\n",
       "    <tr>\n",
       "      <th>...</th>\n",
       "      <td>...</td>\n",
       "      <td>...</td>\n",
       "      <td>...</td>\n",
       "      <td>...</td>\n",
       "      <td>...</td>\n",
       "      <td>...</td>\n",
       "      <td>...</td>\n",
       "      <td>...</td>\n",
       "      <td>...</td>\n",
       "    </tr>\n",
       "    <tr>\n",
       "      <th>495</th>\n",
       "      <td>Walter</td>\n",
       "      <td>ligula@Cumsociis.ca</td>\n",
       "      <td>Nepal</td>\n",
       "      <td>0</td>\n",
       "      <td>41.462515</td>\n",
       "      <td>71942.40291</td>\n",
       "      <td>6995.902524</td>\n",
       "      <td>541670.1016</td>\n",
       "      <td>48901.44342</td>\n",
       "    </tr>\n",
       "    <tr>\n",
       "      <th>496</th>\n",
       "      <td>Vanna</td>\n",
       "      <td>Cum.sociis.natoque@Sedmolestie.edu</td>\n",
       "      <td>Zimbabwe</td>\n",
       "      <td>1</td>\n",
       "      <td>37.642000</td>\n",
       "      <td>56039.49793</td>\n",
       "      <td>12301.456790</td>\n",
       "      <td>360419.0988</td>\n",
       "      <td>31491.41457</td>\n",
       "    </tr>\n",
       "    <tr>\n",
       "      <th>497</th>\n",
       "      <td>Pearl</td>\n",
       "      <td>penatibus.et@massanonante.com</td>\n",
       "      <td>Philippines</td>\n",
       "      <td>1</td>\n",
       "      <td>53.943497</td>\n",
       "      <td>68888.77805</td>\n",
       "      <td>10611.606860</td>\n",
       "      <td>764531.3203</td>\n",
       "      <td>64147.28888</td>\n",
       "    </tr>\n",
       "    <tr>\n",
       "      <th>498</th>\n",
       "      <td>Nell</td>\n",
       "      <td>Quisque.varius@arcuVivamussit.net</td>\n",
       "      <td>Botswana</td>\n",
       "      <td>1</td>\n",
       "      <td>59.160509</td>\n",
       "      <td>49811.99062</td>\n",
       "      <td>14013.034510</td>\n",
       "      <td>337826.6382</td>\n",
       "      <td>45442.15353</td>\n",
       "    </tr>\n",
       "    <tr>\n",
       "      <th>499</th>\n",
       "      <td>Marla</td>\n",
       "      <td>Camaron.marla@hotmail.com</td>\n",
       "      <td>marlal</td>\n",
       "      <td>1</td>\n",
       "      <td>46.731152</td>\n",
       "      <td>61370.67766</td>\n",
       "      <td>9391.341628</td>\n",
       "      <td>462946.4924</td>\n",
       "      <td>45107.22566</td>\n",
       "    </tr>\n",
       "  </tbody>\n",
       "</table>\n",
       "<p>500 rows × 9 columns</p>\n",
       "</div>"
      ],
      "text/plain": [
       "       customer name                                    customer e-mail  \\\n",
       "0      Martina Avila  cubilia.Curae.Phasellus@quisaccumsanconvallis.edu   \n",
       "1      Harlan Barnes                                eu.dolor@diam.co.uk   \n",
       "2    Naomi Rodriquez  vulputate.mauris.sagittis@ametconsectetueradip...   \n",
       "3    Jade Cunningham                            malesuada@dignissim.com   \n",
       "4       Cedric Leach     felis.ullamcorper.viverra@egetmollislectus.net   \n",
       "..               ...                                                ...   \n",
       "495           Walter                                ligula@Cumsociis.ca   \n",
       "496            Vanna                 Cum.sociis.natoque@Sedmolestie.edu   \n",
       "497            Pearl                      penatibus.et@massanonante.com   \n",
       "498             Nell                  Quisque.varius@arcuVivamussit.net   \n",
       "499            Marla                          Camaron.marla@hotmail.com   \n",
       "\n",
       "          country  gender        age  annual Salary  credit card debt  \\\n",
       "0        Bulgaria       0  41.851720    62812.09301      11609.380910   \n",
       "1          Belize       0  40.870623    66646.89292       9572.957136   \n",
       "2         Algeria       1  43.152897    53798.55112      11160.355060   \n",
       "3    Cook Islands       1  58.271369    79370.03798      14426.164850   \n",
       "4          Brazil       1  57.313749    59729.15130       5358.712177   \n",
       "..            ...     ...        ...            ...               ...   \n",
       "495         Nepal       0  41.462515    71942.40291       6995.902524   \n",
       "496      Zimbabwe       1  37.642000    56039.49793      12301.456790   \n",
       "497   Philippines       1  53.943497    68888.77805      10611.606860   \n",
       "498      Botswana       1  59.160509    49811.99062      14013.034510   \n",
       "499        marlal       1  46.731152    61370.67766       9391.341628   \n",
       "\n",
       "       net worth  car purchase amount  \n",
       "0    238961.2505          35321.45877  \n",
       "1    530973.9078          45115.52566  \n",
       "2    638467.1773          42925.70921  \n",
       "3    548599.0524          67422.36313  \n",
       "4    560304.0671          55915.46248  \n",
       "..           ...                  ...  \n",
       "495  541670.1016          48901.44342  \n",
       "496  360419.0988          31491.41457  \n",
       "497  764531.3203          64147.28888  \n",
       "498  337826.6382          45442.15353  \n",
       "499  462946.4924          45107.22566  \n",
       "\n",
       "[500 rows x 9 columns]"
      ]
     },
     "execution_count": 2,
     "metadata": {},
     "output_type": "execute_result"
    }
   ],
   "source": [
    "df = pd.read_csv(\"/kaggle/input/ann-car-sales-price-prediction/car_purchasing.csv\", encoding ='ISO-8859-1' )\n",
    "df "
   ]
  },
  {
   "cell_type": "code",
   "execution_count": 3,
   "id": "ceca9012",
   "metadata": {
    "execution": {
     "iopub.execute_input": "2023-11-27T10:57:55.302247Z",
     "iopub.status.busy": "2023-11-27T10:57:55.301861Z",
     "iopub.status.idle": "2023-11-27T10:57:55.415692Z",
     "shell.execute_reply": "2023-11-27T10:57:55.414434Z"
    },
    "papermill": {
     "duration": 0.131735,
     "end_time": "2023-11-27T10:57:55.418293",
     "exception": false,
     "start_time": "2023-11-27T10:57:55.286558",
     "status": "completed"
    },
    "tags": []
   },
   "outputs": [
    {
     "name": "stdout",
     "output_type": "stream",
     "text": [
      "<class 'pandas.core.frame.DataFrame'>\n",
      "RangeIndex: 500 entries, 0 to 499\n",
      "Data columns (total 9 columns):\n",
      " #   Column               Non-Null Count  Dtype  \n",
      "---  ------               --------------  -----  \n",
      " 0   customer name        500 non-null    object \n",
      " 1   customer e-mail      500 non-null    object \n",
      " 2   country              500 non-null    object \n",
      " 3   gender               500 non-null    int64  \n",
      " 4   age                  500 non-null    float64\n",
      " 5   annual Salary        500 non-null    float64\n",
      " 6   credit card debt     500 non-null    float64\n",
      " 7   net worth            500 non-null    float64\n",
      " 8   car purchase amount  500 non-null    float64\n",
      "dtypes: float64(5), int64(1), object(3)\n",
      "memory usage: 35.3+ KB\n"
     ]
    }
   ],
   "source": [
    "df.info()"
   ]
  },
  {
   "cell_type": "markdown",
   "id": "b598302b",
   "metadata": {
    "papermill": {
     "duration": 0.01358,
     "end_time": "2023-11-27T10:57:55.445745",
     "exception": false,
     "start_time": "2023-11-27T10:57:55.432165",
     "status": "completed"
    },
    "tags": []
   },
   "source": [
    "# **preprocessing**"
   ]
  },
  {
   "cell_type": "markdown",
   "id": "2d311ac6",
   "metadata": {
    "papermill": {
     "duration": 0.013635,
     "end_time": "2023-11-27T10:57:55.473008",
     "exception": false,
     "start_time": "2023-11-27T10:57:55.459373",
     "status": "completed"
    },
    "tags": []
   },
   "source": [
    "# 1.Drop unneeded columns "
   ]
  },
  {
   "cell_type": "code",
   "execution_count": 4,
   "id": "5ef349e1",
   "metadata": {
    "execution": {
     "iopub.execute_input": "2023-11-27T10:57:55.502404Z",
     "iopub.status.busy": "2023-11-27T10:57:55.501998Z",
     "iopub.status.idle": "2023-11-27T10:57:55.522510Z",
     "shell.execute_reply": "2023-11-27T10:57:55.521281Z"
    },
    "papermill": {
     "duration": 0.038227,
     "end_time": "2023-11-27T10:57:55.525120",
     "exception": false,
     "start_time": "2023-11-27T10:57:55.486893",
     "status": "completed"
    },
    "tags": []
   },
   "outputs": [
    {
     "data": {
      "text/html": [
       "<div>\n",
       "<style scoped>\n",
       "    .dataframe tbody tr th:only-of-type {\n",
       "        vertical-align: middle;\n",
       "    }\n",
       "\n",
       "    .dataframe tbody tr th {\n",
       "        vertical-align: top;\n",
       "    }\n",
       "\n",
       "    .dataframe thead th {\n",
       "        text-align: right;\n",
       "    }\n",
       "</style>\n",
       "<table border=\"1\" class=\"dataframe\">\n",
       "  <thead>\n",
       "    <tr style=\"text-align: right;\">\n",
       "      <th></th>\n",
       "      <th>gender</th>\n",
       "      <th>age</th>\n",
       "      <th>annual Salary</th>\n",
       "      <th>credit card debt</th>\n",
       "      <th>net worth</th>\n",
       "      <th>car purchase amount</th>\n",
       "    </tr>\n",
       "  </thead>\n",
       "  <tbody>\n",
       "    <tr>\n",
       "      <th>0</th>\n",
       "      <td>0</td>\n",
       "      <td>41.851720</td>\n",
       "      <td>62812.09301</td>\n",
       "      <td>11609.380910</td>\n",
       "      <td>238961.2505</td>\n",
       "      <td>35321.45877</td>\n",
       "    </tr>\n",
       "    <tr>\n",
       "      <th>1</th>\n",
       "      <td>0</td>\n",
       "      <td>40.870623</td>\n",
       "      <td>66646.89292</td>\n",
       "      <td>9572.957136</td>\n",
       "      <td>530973.9078</td>\n",
       "      <td>45115.52566</td>\n",
       "    </tr>\n",
       "    <tr>\n",
       "      <th>2</th>\n",
       "      <td>1</td>\n",
       "      <td>43.152897</td>\n",
       "      <td>53798.55112</td>\n",
       "      <td>11160.355060</td>\n",
       "      <td>638467.1773</td>\n",
       "      <td>42925.70921</td>\n",
       "    </tr>\n",
       "    <tr>\n",
       "      <th>3</th>\n",
       "      <td>1</td>\n",
       "      <td>58.271369</td>\n",
       "      <td>79370.03798</td>\n",
       "      <td>14426.164850</td>\n",
       "      <td>548599.0524</td>\n",
       "      <td>67422.36313</td>\n",
       "    </tr>\n",
       "    <tr>\n",
       "      <th>4</th>\n",
       "      <td>1</td>\n",
       "      <td>57.313749</td>\n",
       "      <td>59729.15130</td>\n",
       "      <td>5358.712177</td>\n",
       "      <td>560304.0671</td>\n",
       "      <td>55915.46248</td>\n",
       "    </tr>\n",
       "  </tbody>\n",
       "</table>\n",
       "</div>"
      ],
      "text/plain": [
       "   gender        age  annual Salary  credit card debt    net worth  \\\n",
       "0       0  41.851720    62812.09301      11609.380910  238961.2505   \n",
       "1       0  40.870623    66646.89292       9572.957136  530973.9078   \n",
       "2       1  43.152897    53798.55112      11160.355060  638467.1773   \n",
       "3       1  58.271369    79370.03798      14426.164850  548599.0524   \n",
       "4       1  57.313749    59729.15130       5358.712177  560304.0671   \n",
       "\n",
       "   car purchase amount  \n",
       "0          35321.45877  \n",
       "1          45115.52566  \n",
       "2          42925.70921  \n",
       "3          67422.36313  \n",
       "4          55915.46248  "
      ]
     },
     "execution_count": 4,
     "metadata": {},
     "output_type": "execute_result"
    }
   ],
   "source": [
    "df.drop(columns = [\"customer name\", \"customer e-mail\", \"country\"] , inplace=True)\n",
    "df.head()"
   ]
  },
  {
   "cell_type": "markdown",
   "id": "fe4fc959",
   "metadata": {
    "papermill": {
     "duration": 0.013991,
     "end_time": "2023-11-27T10:57:55.553279",
     "exception": false,
     "start_time": "2023-11-27T10:57:55.539288",
     "status": "completed"
    },
    "tags": []
   },
   "source": [
    "# 2.Define features X and target Y"
   ]
  },
  {
   "cell_type": "code",
   "execution_count": 5,
   "id": "44272ccf",
   "metadata": {
    "execution": {
     "iopub.execute_input": "2023-11-27T10:57:55.585598Z",
     "iopub.status.busy": "2023-11-27T10:57:55.584565Z",
     "iopub.status.idle": "2023-11-27T10:57:55.591506Z",
     "shell.execute_reply": "2023-11-27T10:57:55.590570Z"
    },
    "papermill": {
     "duration": 0.025821,
     "end_time": "2023-11-27T10:57:55.594017",
     "exception": false,
     "start_time": "2023-11-27T10:57:55.568196",
     "status": "completed"
    },
    "tags": []
   },
   "outputs": [],
   "source": [
    "x = df.drop(columns=[\"car purchase amount\"])\n",
    "y = df[\"car purchase amount\"]"
   ]
  },
  {
   "cell_type": "code",
   "execution_count": 6,
   "id": "be0cbdbd",
   "metadata": {
    "execution": {
     "iopub.execute_input": "2023-11-27T10:57:55.624498Z",
     "iopub.status.busy": "2023-11-27T10:57:55.624088Z",
     "iopub.status.idle": "2023-11-27T10:57:55.628763Z",
     "shell.execute_reply": "2023-11-27T10:57:55.627624Z"
    },
    "papermill": {
     "duration": 0.02292,
     "end_time": "2023-11-27T10:57:55.631169",
     "exception": false,
     "start_time": "2023-11-27T10:57:55.608249",
     "status": "completed"
    },
    "tags": []
   },
   "outputs": [],
   "source": [
    "# another way but by iloc[rows, columns]\n",
    "#x = df.iloc[:, :-1]\n",
    "# y= df.iloc[:, -1]"
   ]
  },
  {
   "cell_type": "code",
   "execution_count": 7,
   "id": "74de5db1",
   "metadata": {
    "execution": {
     "iopub.execute_input": "2023-11-27T10:57:55.661476Z",
     "iopub.status.busy": "2023-11-27T10:57:55.661077Z",
     "iopub.status.idle": "2023-11-27T10:57:55.678331Z",
     "shell.execute_reply": "2023-11-27T10:57:55.677048Z"
    },
    "papermill": {
     "duration": 0.035356,
     "end_time": "2023-11-27T10:57:55.680718",
     "exception": false,
     "start_time": "2023-11-27T10:57:55.645362",
     "status": "completed"
    },
    "tags": []
   },
   "outputs": [
    {
     "data": {
      "text/html": [
       "<div>\n",
       "<style scoped>\n",
       "    .dataframe tbody tr th:only-of-type {\n",
       "        vertical-align: middle;\n",
       "    }\n",
       "\n",
       "    .dataframe tbody tr th {\n",
       "        vertical-align: top;\n",
       "    }\n",
       "\n",
       "    .dataframe thead th {\n",
       "        text-align: right;\n",
       "    }\n",
       "</style>\n",
       "<table border=\"1\" class=\"dataframe\">\n",
       "  <thead>\n",
       "    <tr style=\"text-align: right;\">\n",
       "      <th></th>\n",
       "      <th>gender</th>\n",
       "      <th>age</th>\n",
       "      <th>annual Salary</th>\n",
       "      <th>credit card debt</th>\n",
       "      <th>net worth</th>\n",
       "    </tr>\n",
       "  </thead>\n",
       "  <tbody>\n",
       "    <tr>\n",
       "      <th>0</th>\n",
       "      <td>0</td>\n",
       "      <td>41.851720</td>\n",
       "      <td>62812.09301</td>\n",
       "      <td>11609.380910</td>\n",
       "      <td>238961.2505</td>\n",
       "    </tr>\n",
       "    <tr>\n",
       "      <th>1</th>\n",
       "      <td>0</td>\n",
       "      <td>40.870623</td>\n",
       "      <td>66646.89292</td>\n",
       "      <td>9572.957136</td>\n",
       "      <td>530973.9078</td>\n",
       "    </tr>\n",
       "    <tr>\n",
       "      <th>2</th>\n",
       "      <td>1</td>\n",
       "      <td>43.152897</td>\n",
       "      <td>53798.55112</td>\n",
       "      <td>11160.355060</td>\n",
       "      <td>638467.1773</td>\n",
       "    </tr>\n",
       "    <tr>\n",
       "      <th>3</th>\n",
       "      <td>1</td>\n",
       "      <td>58.271369</td>\n",
       "      <td>79370.03798</td>\n",
       "      <td>14426.164850</td>\n",
       "      <td>548599.0524</td>\n",
       "    </tr>\n",
       "    <tr>\n",
       "      <th>4</th>\n",
       "      <td>1</td>\n",
       "      <td>57.313749</td>\n",
       "      <td>59729.15130</td>\n",
       "      <td>5358.712177</td>\n",
       "      <td>560304.0671</td>\n",
       "    </tr>\n",
       "    <tr>\n",
       "      <th>...</th>\n",
       "      <td>...</td>\n",
       "      <td>...</td>\n",
       "      <td>...</td>\n",
       "      <td>...</td>\n",
       "      <td>...</td>\n",
       "    </tr>\n",
       "    <tr>\n",
       "      <th>495</th>\n",
       "      <td>0</td>\n",
       "      <td>41.462515</td>\n",
       "      <td>71942.40291</td>\n",
       "      <td>6995.902524</td>\n",
       "      <td>541670.1016</td>\n",
       "    </tr>\n",
       "    <tr>\n",
       "      <th>496</th>\n",
       "      <td>1</td>\n",
       "      <td>37.642000</td>\n",
       "      <td>56039.49793</td>\n",
       "      <td>12301.456790</td>\n",
       "      <td>360419.0988</td>\n",
       "    </tr>\n",
       "    <tr>\n",
       "      <th>497</th>\n",
       "      <td>1</td>\n",
       "      <td>53.943497</td>\n",
       "      <td>68888.77805</td>\n",
       "      <td>10611.606860</td>\n",
       "      <td>764531.3203</td>\n",
       "    </tr>\n",
       "    <tr>\n",
       "      <th>498</th>\n",
       "      <td>1</td>\n",
       "      <td>59.160509</td>\n",
       "      <td>49811.99062</td>\n",
       "      <td>14013.034510</td>\n",
       "      <td>337826.6382</td>\n",
       "    </tr>\n",
       "    <tr>\n",
       "      <th>499</th>\n",
       "      <td>1</td>\n",
       "      <td>46.731152</td>\n",
       "      <td>61370.67766</td>\n",
       "      <td>9391.341628</td>\n",
       "      <td>462946.4924</td>\n",
       "    </tr>\n",
       "  </tbody>\n",
       "</table>\n",
       "<p>500 rows × 5 columns</p>\n",
       "</div>"
      ],
      "text/plain": [
       "     gender        age  annual Salary  credit card debt    net worth\n",
       "0         0  41.851720    62812.09301      11609.380910  238961.2505\n",
       "1         0  40.870623    66646.89292       9572.957136  530973.9078\n",
       "2         1  43.152897    53798.55112      11160.355060  638467.1773\n",
       "3         1  58.271369    79370.03798      14426.164850  548599.0524\n",
       "4         1  57.313749    59729.15130       5358.712177  560304.0671\n",
       "..      ...        ...            ...               ...          ...\n",
       "495       0  41.462515    71942.40291       6995.902524  541670.1016\n",
       "496       1  37.642000    56039.49793      12301.456790  360419.0988\n",
       "497       1  53.943497    68888.77805      10611.606860  764531.3203\n",
       "498       1  59.160509    49811.99062      14013.034510  337826.6382\n",
       "499       1  46.731152    61370.67766       9391.341628  462946.4924\n",
       "\n",
       "[500 rows x 5 columns]"
      ]
     },
     "execution_count": 7,
     "metadata": {},
     "output_type": "execute_result"
    }
   ],
   "source": [
    "x "
   ]
  },
  {
   "cell_type": "code",
   "execution_count": 8,
   "id": "d55e4a7e",
   "metadata": {
    "execution": {
     "iopub.execute_input": "2023-11-27T10:57:55.713402Z",
     "iopub.status.busy": "2023-11-27T10:57:55.712983Z",
     "iopub.status.idle": "2023-11-27T10:57:55.722432Z",
     "shell.execute_reply": "2023-11-27T10:57:55.721196Z"
    },
    "papermill": {
     "duration": 0.028998,
     "end_time": "2023-11-27T10:57:55.724883",
     "exception": false,
     "start_time": "2023-11-27T10:57:55.695885",
     "status": "completed"
    },
    "tags": []
   },
   "outputs": [
    {
     "data": {
      "text/plain": [
       "0      35321.45877\n",
       "1      45115.52566\n",
       "2      42925.70921\n",
       "3      67422.36313\n",
       "4      55915.46248\n",
       "          ...     \n",
       "495    48901.44342\n",
       "496    31491.41457\n",
       "497    64147.28888\n",
       "498    45442.15353\n",
       "499    45107.22566\n",
       "Name: car purchase amount, Length: 500, dtype: float64"
      ]
     },
     "execution_count": 8,
     "metadata": {},
     "output_type": "execute_result"
    }
   ],
   "source": [
    "y"
   ]
  },
  {
   "cell_type": "markdown",
   "id": "9c337552",
   "metadata": {
    "papermill": {
     "duration": 0.014394,
     "end_time": "2023-11-27T10:57:55.754225",
     "exception": false,
     "start_time": "2023-11-27T10:57:55.739831",
     "status": "completed"
    },
    "tags": []
   },
   "source": [
    "# 3.Data Scaling"
   ]
  },
  {
   "cell_type": "markdown",
   "id": "88e1a26c",
   "metadata": {
    "papermill": {
     "duration": 0.014165,
     "end_time": "2023-11-27T10:57:55.782945",
     "exception": false,
     "start_time": "2023-11-27T10:57:55.768780",
     "status": "completed"
    },
    "tags": []
   },
   "source": [
    "# Different features in a dataset might have varying scales or units. Some algorithms are sensitive to feature scales, potentially leading to biased or inaccurate models. MinMaxScaler scales features to a specified range (commonly between 0 and 1), ensuring all features have a consistent scale."
   ]
  },
  {
   "cell_type": "code",
   "execution_count": 9,
   "id": "907231fe",
   "metadata": {
    "execution": {
     "iopub.execute_input": "2023-11-27T10:57:55.814122Z",
     "iopub.status.busy": "2023-11-27T10:57:55.813728Z",
     "iopub.status.idle": "2023-11-27T10:57:55.821050Z",
     "shell.execute_reply": "2023-11-27T10:57:55.819833Z"
    },
    "papermill": {
     "duration": 0.026077,
     "end_time": "2023-11-27T10:57:55.823646",
     "exception": false,
     "start_time": "2023-11-27T10:57:55.797569",
     "status": "completed"
    },
    "tags": []
   },
   "outputs": [
    {
     "data": {
      "text/plain": [
       "(500,)"
      ]
     },
     "execution_count": 9,
     "metadata": {},
     "output_type": "execute_result"
    }
   ],
   "source": [
    "y.shape "
   ]
  },
  {
   "cell_type": "code",
   "execution_count": 10,
   "id": "3fb32694",
   "metadata": {
    "execution": {
     "iopub.execute_input": "2023-11-27T10:57:55.855454Z",
     "iopub.status.busy": "2023-11-27T10:57:55.854992Z",
     "iopub.status.idle": "2023-11-27T10:57:55.860167Z",
     "shell.execute_reply": "2023-11-27T10:57:55.858930Z"
    },
    "papermill": {
     "duration": 0.023832,
     "end_time": "2023-11-27T10:57:55.862706",
     "exception": false,
     "start_time": "2023-11-27T10:57:55.838874",
     "status": "completed"
    },
    "tags": []
   },
   "outputs": [],
   "source": [
    "#we should making y into 2D array to make scaling (y.values.reshape(-1,1))"
   ]
  },
  {
   "cell_type": "code",
   "execution_count": 11,
   "id": "1f21a599",
   "metadata": {
    "execution": {
     "iopub.execute_input": "2023-11-27T10:57:55.894031Z",
     "iopub.status.busy": "2023-11-27T10:57:55.893621Z",
     "iopub.status.idle": "2023-11-27T10:57:55.904108Z",
     "shell.execute_reply": "2023-11-27T10:57:55.903223Z"
    },
    "papermill": {
     "duration": 0.029106,
     "end_time": "2023-11-27T10:57:55.906634",
     "exception": false,
     "start_time": "2023-11-27T10:57:55.877528",
     "status": "completed"
    },
    "tags": []
   },
   "outputs": [],
   "source": [
    "scaler = MinMaxScaler()\n",
    "X = scaler.fit_transform(x)\n",
    "Y = scaler.fit_transform(y.values.reshape(-1,1))"
   ]
  },
  {
   "cell_type": "code",
   "execution_count": 12,
   "id": "0e7d61a7",
   "metadata": {
    "execution": {
     "iopub.execute_input": "2023-11-27T10:57:55.940583Z",
     "iopub.status.busy": "2023-11-27T10:57:55.940152Z",
     "iopub.status.idle": "2023-11-27T10:57:55.948041Z",
     "shell.execute_reply": "2023-11-27T10:57:55.946812Z"
    },
    "papermill": {
     "duration": 0.028993,
     "end_time": "2023-11-27T10:57:55.951092",
     "exception": false,
     "start_time": "2023-11-27T10:57:55.922099",
     "status": "completed"
    },
    "tags": []
   },
   "outputs": [
    {
     "data": {
      "text/plain": [
       "array([[0.        , 0.4370344 , 0.53515116, 0.57836085, 0.22342985],\n",
       "       [0.        , 0.41741247, 0.58308616, 0.476028  , 0.52140195],\n",
       "       [1.        , 0.46305795, 0.42248189, 0.55579674, 0.63108896],\n",
       "       ...,\n",
       "       [1.        , 0.67886994, 0.61110973, 0.52822145, 0.75972584],\n",
       "       [1.        , 0.78321017, 0.37264988, 0.69914746, 0.3243129 ],\n",
       "       [1.        , 0.53462305, 0.51713347, 0.46690159, 0.45198622]])"
      ]
     },
     "execution_count": 12,
     "metadata": {},
     "output_type": "execute_result"
    }
   ],
   "source": [
    "X"
   ]
  },
  {
   "cell_type": "markdown",
   "id": "01f2f04b",
   "metadata": {
    "papermill": {
     "duration": 0.014726,
     "end_time": "2023-11-27T10:57:56.044791",
     "exception": false,
     "start_time": "2023-11-27T10:57:56.030065",
     "status": "completed"
    },
    "tags": []
   },
   "source": [
    "# 4.Data splitting"
   ]
  },
  {
   "cell_type": "code",
   "execution_count": 13,
   "id": "7b711a40",
   "metadata": {
    "execution": {
     "iopub.execute_input": "2023-11-27T10:57:56.076740Z",
     "iopub.status.busy": "2023-11-27T10:57:56.076282Z",
     "iopub.status.idle": "2023-11-27T10:57:56.082756Z",
     "shell.execute_reply": "2023-11-27T10:57:56.081708Z"
    },
    "papermill": {
     "duration": 0.02529,
     "end_time": "2023-11-27T10:57:56.085158",
     "exception": false,
     "start_time": "2023-11-27T10:57:56.059868",
     "status": "completed"
    },
    "tags": []
   },
   "outputs": [],
   "source": [
    "# the test size is the amount he train in it test_size = 0.1 (10%)\n",
    "#the shuffle make it doesn't train in part without the other parts\n",
    "# you put in random_state any number to randomize the data\n",
    "X_train, X_test, Y_train, Y_test = train_test_split(X,Y, test_size=0.1, shuffle = True, random_state=42)"
   ]
  },
  {
   "cell_type": "code",
   "execution_count": 14,
   "id": "43b395c8",
   "metadata": {
    "execution": {
     "iopub.execute_input": "2023-11-27T10:57:56.117698Z",
     "iopub.status.busy": "2023-11-27T10:57:56.117235Z",
     "iopub.status.idle": "2023-11-27T10:57:56.124519Z",
     "shell.execute_reply": "2023-11-27T10:57:56.123530Z"
    },
    "papermill": {
     "duration": 0.025994,
     "end_time": "2023-11-27T10:57:56.126824",
     "exception": false,
     "start_time": "2023-11-27T10:57:56.100830",
     "status": "completed"
    },
    "tags": []
   },
   "outputs": [
    {
     "data": {
      "text/plain": [
       "(450, 5)"
      ]
     },
     "execution_count": 14,
     "metadata": {},
     "output_type": "execute_result"
    }
   ],
   "source": [
    "X_train.shape"
   ]
  },
  {
   "cell_type": "markdown",
   "id": "08ad20d9",
   "metadata": {
    "papermill": {
     "duration": 0.014817,
     "end_time": "2023-11-27T10:57:56.156871",
     "exception": false,
     "start_time": "2023-11-27T10:57:56.142054",
     "status": "completed"
    },
    "tags": []
   },
   "source": [
    "# **LinearRegression model**"
   ]
  },
  {
   "cell_type": "code",
   "execution_count": 15,
   "id": "6888ca24",
   "metadata": {
    "execution": {
     "iopub.execute_input": "2023-11-27T10:57:56.189111Z",
     "iopub.status.busy": "2023-11-27T10:57:56.188682Z",
     "iopub.status.idle": "2023-11-27T10:57:56.223272Z",
     "shell.execute_reply": "2023-11-27T10:57:56.222105Z"
    },
    "papermill": {
     "duration": 0.053703,
     "end_time": "2023-11-27T10:57:56.225704",
     "exception": false,
     "start_time": "2023-11-27T10:57:56.172001",
     "status": "completed"
    },
    "tags": []
   },
   "outputs": [
    {
     "data": {
      "text/html": [
       "<style>#sk-container-id-1 {color: black;background-color: white;}#sk-container-id-1 pre{padding: 0;}#sk-container-id-1 div.sk-toggleable {background-color: white;}#sk-container-id-1 label.sk-toggleable__label {cursor: pointer;display: block;width: 100%;margin-bottom: 0;padding: 0.3em;box-sizing: border-box;text-align: center;}#sk-container-id-1 label.sk-toggleable__label-arrow:before {content: \"▸\";float: left;margin-right: 0.25em;color: #696969;}#sk-container-id-1 label.sk-toggleable__label-arrow:hover:before {color: black;}#sk-container-id-1 div.sk-estimator:hover label.sk-toggleable__label-arrow:before {color: black;}#sk-container-id-1 div.sk-toggleable__content {max-height: 0;max-width: 0;overflow: hidden;text-align: left;background-color: #f0f8ff;}#sk-container-id-1 div.sk-toggleable__content pre {margin: 0.2em;color: black;border-radius: 0.25em;background-color: #f0f8ff;}#sk-container-id-1 input.sk-toggleable__control:checked~div.sk-toggleable__content {max-height: 200px;max-width: 100%;overflow: auto;}#sk-container-id-1 input.sk-toggleable__control:checked~label.sk-toggleable__label-arrow:before {content: \"▾\";}#sk-container-id-1 div.sk-estimator input.sk-toggleable__control:checked~label.sk-toggleable__label {background-color: #d4ebff;}#sk-container-id-1 div.sk-label input.sk-toggleable__control:checked~label.sk-toggleable__label {background-color: #d4ebff;}#sk-container-id-1 input.sk-hidden--visually {border: 0;clip: rect(1px 1px 1px 1px);clip: rect(1px, 1px, 1px, 1px);height: 1px;margin: -1px;overflow: hidden;padding: 0;position: absolute;width: 1px;}#sk-container-id-1 div.sk-estimator {font-family: monospace;background-color: #f0f8ff;border: 1px dotted black;border-radius: 0.25em;box-sizing: border-box;margin-bottom: 0.5em;}#sk-container-id-1 div.sk-estimator:hover {background-color: #d4ebff;}#sk-container-id-1 div.sk-parallel-item::after {content: \"\";width: 100%;border-bottom: 1px solid gray;flex-grow: 1;}#sk-container-id-1 div.sk-label:hover label.sk-toggleable__label {background-color: #d4ebff;}#sk-container-id-1 div.sk-serial::before {content: \"\";position: absolute;border-left: 1px solid gray;box-sizing: border-box;top: 0;bottom: 0;left: 50%;z-index: 0;}#sk-container-id-1 div.sk-serial {display: flex;flex-direction: column;align-items: center;background-color: white;padding-right: 0.2em;padding-left: 0.2em;position: relative;}#sk-container-id-1 div.sk-item {position: relative;z-index: 1;}#sk-container-id-1 div.sk-parallel {display: flex;align-items: stretch;justify-content: center;background-color: white;position: relative;}#sk-container-id-1 div.sk-item::before, #sk-container-id-1 div.sk-parallel-item::before {content: \"\";position: absolute;border-left: 1px solid gray;box-sizing: border-box;top: 0;bottom: 0;left: 50%;z-index: -1;}#sk-container-id-1 div.sk-parallel-item {display: flex;flex-direction: column;z-index: 1;position: relative;background-color: white;}#sk-container-id-1 div.sk-parallel-item:first-child::after {align-self: flex-end;width: 50%;}#sk-container-id-1 div.sk-parallel-item:last-child::after {align-self: flex-start;width: 50%;}#sk-container-id-1 div.sk-parallel-item:only-child::after {width: 0;}#sk-container-id-1 div.sk-dashed-wrapped {border: 1px dashed gray;margin: 0 0.4em 0.5em 0.4em;box-sizing: border-box;padding-bottom: 0.4em;background-color: white;}#sk-container-id-1 div.sk-label label {font-family: monospace;font-weight: bold;display: inline-block;line-height: 1.2em;}#sk-container-id-1 div.sk-label-container {text-align: center;}#sk-container-id-1 div.sk-container {/* jupyter's `normalize.less` sets `[hidden] { display: none; }` but bootstrap.min.css set `[hidden] { display: none !important; }` so we also need the `!important` here to be able to override the default hidden behavior on the sphinx rendered scikit-learn.org. See: https://github.com/scikit-learn/scikit-learn/issues/21755 */display: inline-block !important;position: relative;}#sk-container-id-1 div.sk-text-repr-fallback {display: none;}</style><div id=\"sk-container-id-1\" class=\"sk-top-container\"><div class=\"sk-text-repr-fallback\"><pre>LinearRegression()</pre><b>In a Jupyter environment, please rerun this cell to show the HTML representation or trust the notebook. <br />On GitHub, the HTML representation is unable to render, please try loading this page with nbviewer.org.</b></div><div class=\"sk-container\" hidden><div class=\"sk-item\"><div class=\"sk-estimator sk-toggleable\"><input class=\"sk-toggleable__control sk-hidden--visually\" id=\"sk-estimator-id-1\" type=\"checkbox\" checked><label for=\"sk-estimator-id-1\" class=\"sk-toggleable__label sk-toggleable__label-arrow\">LinearRegression</label><div class=\"sk-toggleable__content\"><pre>LinearRegression()</pre></div></div></div></div></div>"
      ],
      "text/plain": [
       "LinearRegression()"
      ]
     },
     "execution_count": 15,
     "metadata": {},
     "output_type": "execute_result"
    }
   ],
   "source": [
    "lr_model = LinearRegression()\n",
    "lr_model.fit(X_train, Y_train)"
   ]
  },
  {
   "cell_type": "code",
   "execution_count": 16,
   "id": "399ffa04",
   "metadata": {
    "execution": {
     "iopub.execute_input": "2023-11-27T10:57:56.258743Z",
     "iopub.status.busy": "2023-11-27T10:57:56.258288Z",
     "iopub.status.idle": "2023-11-27T10:57:56.266948Z",
     "shell.execute_reply": "2023-11-27T10:57:56.265695Z"
    },
    "papermill": {
     "duration": 0.028864,
     "end_time": "2023-11-27T10:57:56.270146",
     "exception": false,
     "start_time": "2023-11-27T10:57:56.241282",
     "status": "completed"
    },
    "tags": []
   },
   "outputs": [
    {
     "data": {
      "text/plain": [
       "0.9999999811559965"
      ]
     },
     "execution_count": 16,
     "metadata": {},
     "output_type": "execute_result"
    }
   ],
   "source": [
    "lr_model.score(X_train, Y_train)\n"
   ]
  },
  {
   "cell_type": "code",
   "execution_count": 17,
   "id": "4383237c",
   "metadata": {
    "execution": {
     "iopub.execute_input": "2023-11-27T10:57:56.304989Z",
     "iopub.status.busy": "2023-11-27T10:57:56.304531Z",
     "iopub.status.idle": "2023-11-27T10:57:56.310125Z",
     "shell.execute_reply": "2023-11-27T10:57:56.308672Z"
    },
    "papermill": {
     "duration": 0.026889,
     "end_time": "2023-11-27T10:57:56.312935",
     "exception": false,
     "start_time": "2023-11-27T10:57:56.286046",
     "status": "completed"
    },
    "tags": []
   },
   "outputs": [],
   "source": [
    "# I make the model predict the value of x_test to compare y_pred withe y_test\n",
    "Y_pred = lr_model.predict(X_test)"
   ]
  },
  {
   "cell_type": "markdown",
   "id": "7d667932",
   "metadata": {
    "papermill": {
     "duration": 0.01532,
     "end_time": "2023-11-27T10:57:56.344073",
     "exception": false,
     "start_time": "2023-11-27T10:57:56.328753",
     "status": "completed"
    },
    "tags": []
   },
   "source": [
    "# calculate Mean square error"
   ]
  },
  {
   "cell_type": "markdown",
   "id": "6d077829",
   "metadata": {
    "papermill": {
     "duration": 0.015866,
     "end_time": "2023-11-27T10:57:56.376267",
     "exception": false,
     "start_time": "2023-11-27T10:57:56.360401",
     "status": "completed"
    },
    "tags": []
   },
   "source": [
    "<img src=\"https://www.i2tutorials.com/wp-content/media/2019/11/Differences-between-MSE-and-RMSE-1-i2tutorials.jpg\" style=\"width:370px;height:250px\">"
   ]
  },
  {
   "cell_type": "code",
   "execution_count": 18,
   "id": "1b45b574",
   "metadata": {
    "execution": {
     "iopub.execute_input": "2023-11-27T10:57:56.411001Z",
     "iopub.status.busy": "2023-11-27T10:57:56.410554Z",
     "iopub.status.idle": "2023-11-27T10:57:56.417203Z",
     "shell.execute_reply": "2023-11-27T10:57:56.416005Z"
    },
    "papermill": {
     "duration": 0.027362,
     "end_time": "2023-11-27T10:57:56.419727",
     "exception": false,
     "start_time": "2023-11-27T10:57:56.392365",
     "status": "completed"
    },
    "tags": []
   },
   "outputs": [
    {
     "name": "stdout",
     "output_type": "stream",
     "text": [
      "4.050194566516783e-10\n"
     ]
    }
   ],
   "source": [
    "# I compare between Y_test and Y_pred\n",
    "print(mean_squared_error(Y_test, Y_pred))"
   ]
  },
  {
   "cell_type": "markdown",
   "id": "9241175b",
   "metadata": {
    "papermill": {
     "duration": 0.015486,
     "end_time": "2023-11-27T10:57:56.450953",
     "exception": false,
     "start_time": "2023-11-27T10:57:56.435467",
     "status": "completed"
    },
    "tags": []
   },
   "source": [
    "# calculate R^2"
   ]
  },
  {
   "cell_type": "markdown",
   "id": "09ed4561",
   "metadata": {
    "papermill": {
     "duration": 0.015573,
     "end_time": "2023-11-27T10:57:56.482249",
     "exception": false,
     "start_time": "2023-11-27T10:57:56.466676",
     "status": "completed"
    },
    "tags": []
   },
   "source": [
    "<img src=\"https://miro.medium.com/v2/resize:fit:1036/1*D9wPS2odLYsNOvOLffOMCw.png\" style=\"width:370px;height:250px\">"
   ]
  },
  {
   "cell_type": "code",
   "execution_count": 19,
   "id": "ab70eb02",
   "metadata": {
    "execution": {
     "iopub.execute_input": "2023-11-27T10:57:56.516481Z",
     "iopub.status.busy": "2023-11-27T10:57:56.516087Z",
     "iopub.status.idle": "2023-11-27T10:57:56.523414Z",
     "shell.execute_reply": "2023-11-27T10:57:56.522027Z"
    },
    "papermill": {
     "duration": 0.028129,
     "end_time": "2023-11-27T10:57:56.526109",
     "exception": false,
     "start_time": "2023-11-27T10:57:56.497980",
     "status": "completed"
    },
    "tags": []
   },
   "outputs": [
    {
     "name": "stdout",
     "output_type": "stream",
     "text": [
      "0.999999980060625\n"
     ]
    }
   ],
   "source": [
    "print(r2_score(Y_test, Y_pred))"
   ]
  },
  {
   "cell_type": "markdown",
   "id": "745e1ff8",
   "metadata": {
    "papermill": {
     "duration": 0.016492,
     "end_time": "2023-11-27T10:57:56.559393",
     "exception": false,
     "start_time": "2023-11-27T10:57:56.542901",
     "status": "completed"
    },
    "tags": []
   },
   "source": [
    "# **Lasso**"
   ]
  },
  {
   "cell_type": "code",
   "execution_count": 20,
   "id": "1681f22d",
   "metadata": {
    "execution": {
     "iopub.execute_input": "2023-11-27T10:57:56.593652Z",
     "iopub.status.busy": "2023-11-27T10:57:56.593211Z",
     "iopub.status.idle": "2023-11-27T10:57:56.607823Z",
     "shell.execute_reply": "2023-11-27T10:57:56.606539Z"
    },
    "papermill": {
     "duration": 0.034466,
     "end_time": "2023-11-27T10:57:56.610287",
     "exception": false,
     "start_time": "2023-11-27T10:57:56.575821",
     "status": "completed"
    },
    "tags": []
   },
   "outputs": [
    {
     "data": {
      "text/html": [
       "<style>#sk-container-id-2 {color: black;background-color: white;}#sk-container-id-2 pre{padding: 0;}#sk-container-id-2 div.sk-toggleable {background-color: white;}#sk-container-id-2 label.sk-toggleable__label {cursor: pointer;display: block;width: 100%;margin-bottom: 0;padding: 0.3em;box-sizing: border-box;text-align: center;}#sk-container-id-2 label.sk-toggleable__label-arrow:before {content: \"▸\";float: left;margin-right: 0.25em;color: #696969;}#sk-container-id-2 label.sk-toggleable__label-arrow:hover:before {color: black;}#sk-container-id-2 div.sk-estimator:hover label.sk-toggleable__label-arrow:before {color: black;}#sk-container-id-2 div.sk-toggleable__content {max-height: 0;max-width: 0;overflow: hidden;text-align: left;background-color: #f0f8ff;}#sk-container-id-2 div.sk-toggleable__content pre {margin: 0.2em;color: black;border-radius: 0.25em;background-color: #f0f8ff;}#sk-container-id-2 input.sk-toggleable__control:checked~div.sk-toggleable__content {max-height: 200px;max-width: 100%;overflow: auto;}#sk-container-id-2 input.sk-toggleable__control:checked~label.sk-toggleable__label-arrow:before {content: \"▾\";}#sk-container-id-2 div.sk-estimator input.sk-toggleable__control:checked~label.sk-toggleable__label {background-color: #d4ebff;}#sk-container-id-2 div.sk-label input.sk-toggleable__control:checked~label.sk-toggleable__label {background-color: #d4ebff;}#sk-container-id-2 input.sk-hidden--visually {border: 0;clip: rect(1px 1px 1px 1px);clip: rect(1px, 1px, 1px, 1px);height: 1px;margin: -1px;overflow: hidden;padding: 0;position: absolute;width: 1px;}#sk-container-id-2 div.sk-estimator {font-family: monospace;background-color: #f0f8ff;border: 1px dotted black;border-radius: 0.25em;box-sizing: border-box;margin-bottom: 0.5em;}#sk-container-id-2 div.sk-estimator:hover {background-color: #d4ebff;}#sk-container-id-2 div.sk-parallel-item::after {content: \"\";width: 100%;border-bottom: 1px solid gray;flex-grow: 1;}#sk-container-id-2 div.sk-label:hover label.sk-toggleable__label {background-color: #d4ebff;}#sk-container-id-2 div.sk-serial::before {content: \"\";position: absolute;border-left: 1px solid gray;box-sizing: border-box;top: 0;bottom: 0;left: 50%;z-index: 0;}#sk-container-id-2 div.sk-serial {display: flex;flex-direction: column;align-items: center;background-color: white;padding-right: 0.2em;padding-left: 0.2em;position: relative;}#sk-container-id-2 div.sk-item {position: relative;z-index: 1;}#sk-container-id-2 div.sk-parallel {display: flex;align-items: stretch;justify-content: center;background-color: white;position: relative;}#sk-container-id-2 div.sk-item::before, #sk-container-id-2 div.sk-parallel-item::before {content: \"\";position: absolute;border-left: 1px solid gray;box-sizing: border-box;top: 0;bottom: 0;left: 50%;z-index: -1;}#sk-container-id-2 div.sk-parallel-item {display: flex;flex-direction: column;z-index: 1;position: relative;background-color: white;}#sk-container-id-2 div.sk-parallel-item:first-child::after {align-self: flex-end;width: 50%;}#sk-container-id-2 div.sk-parallel-item:last-child::after {align-self: flex-start;width: 50%;}#sk-container-id-2 div.sk-parallel-item:only-child::after {width: 0;}#sk-container-id-2 div.sk-dashed-wrapped {border: 1px dashed gray;margin: 0 0.4em 0.5em 0.4em;box-sizing: border-box;padding-bottom: 0.4em;background-color: white;}#sk-container-id-2 div.sk-label label {font-family: monospace;font-weight: bold;display: inline-block;line-height: 1.2em;}#sk-container-id-2 div.sk-label-container {text-align: center;}#sk-container-id-2 div.sk-container {/* jupyter's `normalize.less` sets `[hidden] { display: none; }` but bootstrap.min.css set `[hidden] { display: none !important; }` so we also need the `!important` here to be able to override the default hidden behavior on the sphinx rendered scikit-learn.org. See: https://github.com/scikit-learn/scikit-learn/issues/21755 */display: inline-block !important;position: relative;}#sk-container-id-2 div.sk-text-repr-fallback {display: none;}</style><div id=\"sk-container-id-2\" class=\"sk-top-container\"><div class=\"sk-text-repr-fallback\"><pre>Lasso(alpha=0.0001)</pre><b>In a Jupyter environment, please rerun this cell to show the HTML representation or trust the notebook. <br />On GitHub, the HTML representation is unable to render, please try loading this page with nbviewer.org.</b></div><div class=\"sk-container\" hidden><div class=\"sk-item\"><div class=\"sk-estimator sk-toggleable\"><input class=\"sk-toggleable__control sk-hidden--visually\" id=\"sk-estimator-id-2\" type=\"checkbox\" checked><label for=\"sk-estimator-id-2\" class=\"sk-toggleable__label sk-toggleable__label-arrow\">Lasso</label><div class=\"sk-toggleable__content\"><pre>Lasso(alpha=0.0001)</pre></div></div></div></div></div>"
      ],
      "text/plain": [
       "Lasso(alpha=0.0001)"
      ]
     },
     "execution_count": 20,
     "metadata": {},
     "output_type": "execute_result"
    }
   ],
   "source": [
    "#the alpha parameter controls the strength of regularization applied to the model.\n",
    "lasso = Lasso(alpha=0.0001)\n",
    "lasso.fit(X_train, Y_train)"
   ]
  },
  {
   "cell_type": "code",
   "execution_count": 21,
   "id": "c1af6f61",
   "metadata": {
    "execution": {
     "iopub.execute_input": "2023-11-27T10:57:56.644301Z",
     "iopub.status.busy": "2023-11-27T10:57:56.643863Z",
     "iopub.status.idle": "2023-11-27T10:57:56.652252Z",
     "shell.execute_reply": "2023-11-27T10:57:56.651119Z"
    },
    "papermill": {
     "duration": 0.028332,
     "end_time": "2023-11-27T10:57:56.654790",
     "exception": false,
     "start_time": "2023-11-27T10:57:56.626458",
     "status": "completed"
    },
    "tags": []
   },
   "outputs": [
    {
     "data": {
      "text/plain": [
       "0.9999500261071721"
      ]
     },
     "execution_count": 21,
     "metadata": {},
     "output_type": "execute_result"
    }
   ],
   "source": [
    "lasso.score(X_train, Y_train)"
   ]
  },
  {
   "cell_type": "code",
   "execution_count": 22,
   "id": "6073f189",
   "metadata": {
    "execution": {
     "iopub.execute_input": "2023-11-27T10:57:56.689395Z",
     "iopub.status.busy": "2023-11-27T10:57:56.688937Z",
     "iopub.status.idle": "2023-11-27T10:57:56.694325Z",
     "shell.execute_reply": "2023-11-27T10:57:56.693251Z"
    },
    "papermill": {
     "duration": 0.025465,
     "end_time": "2023-11-27T10:57:56.696547",
     "exception": false,
     "start_time": "2023-11-27T10:57:56.671082",
     "status": "completed"
    },
    "tags": []
   },
   "outputs": [],
   "source": [
    "y_pred = lasso.predict(X_test)"
   ]
  },
  {
   "cell_type": "code",
   "execution_count": 23,
   "id": "44f5f2cf",
   "metadata": {
    "execution": {
     "iopub.execute_input": "2023-11-27T10:57:56.731335Z",
     "iopub.status.busy": "2023-11-27T10:57:56.730936Z",
     "iopub.status.idle": "2023-11-27T10:57:56.736922Z",
     "shell.execute_reply": "2023-11-27T10:57:56.735814Z"
    },
    "papermill": {
     "duration": 0.02644,
     "end_time": "2023-11-27T10:57:56.739447",
     "exception": false,
     "start_time": "2023-11-27T10:57:56.713007",
     "status": "completed"
    },
    "tags": []
   },
   "outputs": [
    {
     "name": "stdout",
     "output_type": "stream",
     "text": [
      "1.132859598770286e-06\n"
     ]
    }
   ],
   "source": [
    "print(mean_squared_error(Y_test, y_pred))"
   ]
  },
  {
   "cell_type": "code",
   "execution_count": 24,
   "id": "6e661013",
   "metadata": {
    "execution": {
     "iopub.execute_input": "2023-11-27T10:57:56.775038Z",
     "iopub.status.busy": "2023-11-27T10:57:56.774273Z",
     "iopub.status.idle": "2023-11-27T10:57:56.780823Z",
     "shell.execute_reply": "2023-11-27T10:57:56.779639Z"
    },
    "papermill": {
     "duration": 0.026961,
     "end_time": "2023-11-27T10:57:56.783181",
     "exception": false,
     "start_time": "2023-11-27T10:57:56.756220",
     "status": "completed"
    },
    "tags": []
   },
   "outputs": [
    {
     "name": "stdout",
     "output_type": "stream",
     "text": [
      "0.9999442285746711\n"
     ]
    }
   ],
   "source": [
    "print(r2_score(Y_test, y_pred))"
   ]
  },
  {
   "cell_type": "markdown",
   "id": "55655a8e",
   "metadata": {
    "papermill": {
     "duration": 0.01632,
     "end_time": "2023-11-27T10:57:56.816117",
     "exception": false,
     "start_time": "2023-11-27T10:57:56.799797",
     "status": "completed"
    },
    "tags": []
   },
   "source": [
    "# **Ridge**"
   ]
  },
  {
   "cell_type": "code",
   "execution_count": 25,
   "id": "4f49e485",
   "metadata": {
    "execution": {
     "iopub.execute_input": "2023-11-27T10:57:56.851059Z",
     "iopub.status.busy": "2023-11-27T10:57:56.850660Z",
     "iopub.status.idle": "2023-11-27T10:57:56.869061Z",
     "shell.execute_reply": "2023-11-27T10:57:56.868191Z"
    },
    "papermill": {
     "duration": 0.038544,
     "end_time": "2023-11-27T10:57:56.871298",
     "exception": false,
     "start_time": "2023-11-27T10:57:56.832754",
     "status": "completed"
    },
    "tags": []
   },
   "outputs": [
    {
     "data": {
      "text/html": [
       "<style>#sk-container-id-3 {color: black;background-color: white;}#sk-container-id-3 pre{padding: 0;}#sk-container-id-3 div.sk-toggleable {background-color: white;}#sk-container-id-3 label.sk-toggleable__label {cursor: pointer;display: block;width: 100%;margin-bottom: 0;padding: 0.3em;box-sizing: border-box;text-align: center;}#sk-container-id-3 label.sk-toggleable__label-arrow:before {content: \"▸\";float: left;margin-right: 0.25em;color: #696969;}#sk-container-id-3 label.sk-toggleable__label-arrow:hover:before {color: black;}#sk-container-id-3 div.sk-estimator:hover label.sk-toggleable__label-arrow:before {color: black;}#sk-container-id-3 div.sk-toggleable__content {max-height: 0;max-width: 0;overflow: hidden;text-align: left;background-color: #f0f8ff;}#sk-container-id-3 div.sk-toggleable__content pre {margin: 0.2em;color: black;border-radius: 0.25em;background-color: #f0f8ff;}#sk-container-id-3 input.sk-toggleable__control:checked~div.sk-toggleable__content {max-height: 200px;max-width: 100%;overflow: auto;}#sk-container-id-3 input.sk-toggleable__control:checked~label.sk-toggleable__label-arrow:before {content: \"▾\";}#sk-container-id-3 div.sk-estimator input.sk-toggleable__control:checked~label.sk-toggleable__label {background-color: #d4ebff;}#sk-container-id-3 div.sk-label input.sk-toggleable__control:checked~label.sk-toggleable__label {background-color: #d4ebff;}#sk-container-id-3 input.sk-hidden--visually {border: 0;clip: rect(1px 1px 1px 1px);clip: rect(1px, 1px, 1px, 1px);height: 1px;margin: -1px;overflow: hidden;padding: 0;position: absolute;width: 1px;}#sk-container-id-3 div.sk-estimator {font-family: monospace;background-color: #f0f8ff;border: 1px dotted black;border-radius: 0.25em;box-sizing: border-box;margin-bottom: 0.5em;}#sk-container-id-3 div.sk-estimator:hover {background-color: #d4ebff;}#sk-container-id-3 div.sk-parallel-item::after {content: \"\";width: 100%;border-bottom: 1px solid gray;flex-grow: 1;}#sk-container-id-3 div.sk-label:hover label.sk-toggleable__label {background-color: #d4ebff;}#sk-container-id-3 div.sk-serial::before {content: \"\";position: absolute;border-left: 1px solid gray;box-sizing: border-box;top: 0;bottom: 0;left: 50%;z-index: 0;}#sk-container-id-3 div.sk-serial {display: flex;flex-direction: column;align-items: center;background-color: white;padding-right: 0.2em;padding-left: 0.2em;position: relative;}#sk-container-id-3 div.sk-item {position: relative;z-index: 1;}#sk-container-id-3 div.sk-parallel {display: flex;align-items: stretch;justify-content: center;background-color: white;position: relative;}#sk-container-id-3 div.sk-item::before, #sk-container-id-3 div.sk-parallel-item::before {content: \"\";position: absolute;border-left: 1px solid gray;box-sizing: border-box;top: 0;bottom: 0;left: 50%;z-index: -1;}#sk-container-id-3 div.sk-parallel-item {display: flex;flex-direction: column;z-index: 1;position: relative;background-color: white;}#sk-container-id-3 div.sk-parallel-item:first-child::after {align-self: flex-end;width: 50%;}#sk-container-id-3 div.sk-parallel-item:last-child::after {align-self: flex-start;width: 50%;}#sk-container-id-3 div.sk-parallel-item:only-child::after {width: 0;}#sk-container-id-3 div.sk-dashed-wrapped {border: 1px dashed gray;margin: 0 0.4em 0.5em 0.4em;box-sizing: border-box;padding-bottom: 0.4em;background-color: white;}#sk-container-id-3 div.sk-label label {font-family: monospace;font-weight: bold;display: inline-block;line-height: 1.2em;}#sk-container-id-3 div.sk-label-container {text-align: center;}#sk-container-id-3 div.sk-container {/* jupyter's `normalize.less` sets `[hidden] { display: none; }` but bootstrap.min.css set `[hidden] { display: none !important; }` so we also need the `!important` here to be able to override the default hidden behavior on the sphinx rendered scikit-learn.org. See: https://github.com/scikit-learn/scikit-learn/issues/21755 */display: inline-block !important;position: relative;}#sk-container-id-3 div.sk-text-repr-fallback {display: none;}</style><div id=\"sk-container-id-3\" class=\"sk-top-container\"><div class=\"sk-text-repr-fallback\"><pre>Ridge(alpha=1e-05)</pre><b>In a Jupyter environment, please rerun this cell to show the HTML representation or trust the notebook. <br />On GitHub, the HTML representation is unable to render, please try loading this page with nbviewer.org.</b></div><div class=\"sk-container\" hidden><div class=\"sk-item\"><div class=\"sk-estimator sk-toggleable\"><input class=\"sk-toggleable__control sk-hidden--visually\" id=\"sk-estimator-id-3\" type=\"checkbox\" checked><label for=\"sk-estimator-id-3\" class=\"sk-toggleable__label sk-toggleable__label-arrow\">Ridge</label><div class=\"sk-toggleable__content\"><pre>Ridge(alpha=1e-05)</pre></div></div></div></div></div>"
      ],
      "text/plain": [
       "Ridge(alpha=1e-05)"
      ]
     },
     "execution_count": 25,
     "metadata": {},
     "output_type": "execute_result"
    }
   ],
   "source": [
    "ridge = Ridge(alpha=0.00001)\n",
    "ridge.fit(X_train, Y_train)"
   ]
  },
  {
   "cell_type": "code",
   "execution_count": 26,
   "id": "b68b96cf",
   "metadata": {
    "execution": {
     "iopub.execute_input": "2023-11-27T10:57:56.909447Z",
     "iopub.status.busy": "2023-11-27T10:57:56.907846Z",
     "iopub.status.idle": "2023-11-27T10:57:56.921106Z",
     "shell.execute_reply": "2023-11-27T10:57:56.918470Z"
    },
    "papermill": {
     "duration": 0.036087,
     "end_time": "2023-11-27T10:57:56.924366",
     "exception": false,
     "start_time": "2023-11-27T10:57:56.888279",
     "status": "completed"
    },
    "tags": []
   },
   "outputs": [
    {
     "data": {
      "text/plain": [
       "0.9999999811552064"
      ]
     },
     "execution_count": 26,
     "metadata": {},
     "output_type": "execute_result"
    }
   ],
   "source": [
    "ridge.score(X_train, Y_train)"
   ]
  },
  {
   "cell_type": "code",
   "execution_count": 27,
   "id": "86fcca03",
   "metadata": {
    "execution": {
     "iopub.execute_input": "2023-11-27T10:57:56.966425Z",
     "iopub.status.busy": "2023-11-27T10:57:56.965078Z",
     "iopub.status.idle": "2023-11-27T10:57:56.970556Z",
     "shell.execute_reply": "2023-11-27T10:57:56.969726Z"
    },
    "papermill": {
     "duration": 0.026657,
     "end_time": "2023-11-27T10:57:56.973027",
     "exception": false,
     "start_time": "2023-11-27T10:57:56.946370",
     "status": "completed"
    },
    "tags": []
   },
   "outputs": [],
   "source": [
    "y_pred = ridge.predict(X_test)"
   ]
  },
  {
   "cell_type": "code",
   "execution_count": 28,
   "id": "0231b1e3",
   "metadata": {
    "execution": {
     "iopub.execute_input": "2023-11-27T10:57:57.010779Z",
     "iopub.status.busy": "2023-11-27T10:57:57.010083Z",
     "iopub.status.idle": "2023-11-27T10:57:57.016762Z",
     "shell.execute_reply": "2023-11-27T10:57:57.015301Z"
    },
    "papermill": {
     "duration": 0.029871,
     "end_time": "2023-11-27T10:57:57.020262",
     "exception": false,
     "start_time": "2023-11-27T10:57:56.990391",
     "status": "completed"
    },
    "tags": []
   },
   "outputs": [
    {
     "name": "stdout",
     "output_type": "stream",
     "text": [
      "4.0461875069014285e-10\n"
     ]
    }
   ],
   "source": [
    "print(mean_squared_error(Y_test, y_pred))"
   ]
  },
  {
   "cell_type": "code",
   "execution_count": 29,
   "id": "fad7f7ab",
   "metadata": {
    "execution": {
     "iopub.execute_input": "2023-11-27T10:57:57.057565Z",
     "iopub.status.busy": "2023-11-27T10:57:57.057150Z",
     "iopub.status.idle": "2023-11-27T10:57:57.064843Z",
     "shell.execute_reply": "2023-11-27T10:57:57.063153Z"
    },
    "papermill": {
     "duration": 0.030857,
     "end_time": "2023-11-27T10:57:57.068844",
     "exception": false,
     "start_time": "2023-11-27T10:57:57.037987",
     "status": "completed"
    },
    "tags": []
   },
   "outputs": [
    {
     "name": "stdout",
     "output_type": "stream",
     "text": [
      "0.999999980080352\n"
     ]
    }
   ],
   "source": [
    "print(r2_score(Y_test, y_pred))"
   ]
  },
  {
   "cell_type": "markdown",
   "id": "5c5a0b34",
   "metadata": {
    "papermill": {
     "duration": 0.017547,
     "end_time": "2023-11-27T10:57:57.105509",
     "exception": false,
     "start_time": "2023-11-27T10:57:57.087962",
     "status": "completed"
    },
    "tags": []
   },
   "source": [
    "# **L1 = Lasso   //// L2 = Ridge**"
   ]
  },
  {
   "cell_type": "markdown",
   "id": "77ff33fc",
   "metadata": {
    "papermill": {
     "duration": 0.019992,
     "end_time": "2023-11-27T10:57:57.143498",
     "exception": false,
     "start_time": "2023-11-27T10:57:57.123506",
     "status": "completed"
    },
    "tags": []
   },
   "source": [
    "<img src=\"data:image/png;base64,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\" style=\"width:370px;height:250px\">"
   ]
  },
  {
   "cell_type": "code",
   "execution_count": null,
   "id": "7cd3b722",
   "metadata": {
    "papermill": {
     "duration": 0.016866,
     "end_time": "2023-11-27T10:57:57.178326",
     "exception": false,
     "start_time": "2023-11-27T10:57:57.161460",
     "status": "completed"
    },
    "tags": []
   },
   "outputs": [],
   "source": []
  }
 ],
 "metadata": {
  "kaggle": {
   "accelerator": "none",
   "dataSources": [
    {
     "datasetId": 2515235,
     "sourceId": 4268549,
     "sourceType": "datasetVersion"
    }
   ],
   "dockerImageVersionId": 30587,
   "isGpuEnabled": false,
   "isInternetEnabled": true,
   "language": "python",
   "sourceType": "notebook"
  },
  "kernelspec": {
   "display_name": "Python 3",
   "language": "python",
   "name": "python3"
  },
  "language_info": {
   "codemirror_mode": {
    "name": "ipython",
    "version": 3
   },
   "file_extension": ".py",
   "mimetype": "text/x-python",
   "name": "python",
   "nbconvert_exporter": "python",
   "pygments_lexer": "ipython3",
   "version": "3.10.12"
  },
  "papermill": {
   "default_parameters": {},
   "duration": 8.267776,
   "end_time": "2023-11-27T10:57:57.819339",
   "environment_variables": {},
   "exception": null,
   "input_path": "__notebook__.ipynb",
   "output_path": "__notebook__.ipynb",
   "parameters": {},
   "start_time": "2023-11-27T10:57:49.551563",
   "version": "2.4.0"
  }
 },
 "nbformat": 4,
 "nbformat_minor": 5
}
