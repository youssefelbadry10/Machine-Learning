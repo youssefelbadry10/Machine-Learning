{
 "cells": [
  {
   "cell_type": "markdown",
   "id": "bf35adc8",
   "metadata": {
    "papermill": {
     "duration": 0.008504,
     "end_time": "2023-12-03T16:02:18.066666",
     "exception": false,
     "start_time": "2023-12-03T16:02:18.058162",
     "status": "completed"
    },
    "tags": []
   },
   "source": [
    "<img src=\"https://miro.medium.com/v2/resize:fit:1400/1*dm6ZaX5fuSmuVvM4Ds-vcg.jpeg\" style=\"width:600px;height:370px\" >"
   ]
  },
  {
   "cell_type": "code",
   "execution_count": 1,
   "id": "2fe96ee5",
   "metadata": {
    "execution": {
     "iopub.execute_input": "2023-12-03T16:02:18.079519Z",
     "iopub.status.busy": "2023-12-03T16:02:18.078745Z",
     "iopub.status.idle": "2023-12-03T16:02:20.038298Z",
     "shell.execute_reply": "2023-12-03T16:02:20.037226Z"
    },
    "papermill": {
     "duration": 1.970235,
     "end_time": "2023-12-03T16:02:20.042122",
     "exception": false,
     "start_time": "2023-12-03T16:02:18.071887",
     "status": "completed"
    },
    "tags": []
   },
   "outputs": [],
   "source": [
    "import pandas as pd\n",
    "import matplotlib.pyplot as plt\n",
    "from sklearn.model_selection import train_test_split \n",
    "from sklearn.linear_model import LogisticRegression \n",
    "import warnings\n",
    "warnings.filterwarnings(\"ignore\")"
   ]
  },
  {
   "cell_type": "code",
   "execution_count": 2,
   "id": "6bea9814",
   "metadata": {
    "execution": {
     "iopub.execute_input": "2023-12-03T16:02:20.055562Z",
     "iopub.status.busy": "2023-12-03T16:02:20.054619Z",
     "iopub.status.idle": "2023-12-03T16:02:20.094429Z",
     "shell.execute_reply": "2023-12-03T16:02:20.093314Z"
    },
    "papermill": {
     "duration": 0.048711,
     "end_time": "2023-12-03T16:02:20.096506",
     "exception": false,
     "start_time": "2023-12-03T16:02:20.047795",
     "status": "completed"
    },
    "tags": []
   },
   "outputs": [
    {
     "data": {
      "text/html": [
       "<div>\n",
       "<style scoped>\n",
       "    .dataframe tbody tr th:only-of-type {\n",
       "        vertical-align: middle;\n",
       "    }\n",
       "\n",
       "    .dataframe tbody tr th {\n",
       "        vertical-align: top;\n",
       "    }\n",
       "\n",
       "    .dataframe thead th {\n",
       "        text-align: right;\n",
       "    }\n",
       "</style>\n",
       "<table border=\"1\" class=\"dataframe\">\n",
       "  <thead>\n",
       "    <tr style=\"text-align: right;\">\n",
       "      <th></th>\n",
       "      <th>age</th>\n",
       "      <th>bought_insurance</th>\n",
       "    </tr>\n",
       "  </thead>\n",
       "  <tbody>\n",
       "    <tr>\n",
       "      <th>0</th>\n",
       "      <td>22</td>\n",
       "      <td>0</td>\n",
       "    </tr>\n",
       "    <tr>\n",
       "      <th>1</th>\n",
       "      <td>25</td>\n",
       "      <td>0</td>\n",
       "    </tr>\n",
       "    <tr>\n",
       "      <th>2</th>\n",
       "      <td>47</td>\n",
       "      <td>1</td>\n",
       "    </tr>\n",
       "    <tr>\n",
       "      <th>3</th>\n",
       "      <td>52</td>\n",
       "      <td>0</td>\n",
       "    </tr>\n",
       "    <tr>\n",
       "      <th>4</th>\n",
       "      <td>46</td>\n",
       "      <td>1</td>\n",
       "    </tr>\n",
       "    <tr>\n",
       "      <th>5</th>\n",
       "      <td>56</td>\n",
       "      <td>1</td>\n",
       "    </tr>\n",
       "    <tr>\n",
       "      <th>6</th>\n",
       "      <td>55</td>\n",
       "      <td>0</td>\n",
       "    </tr>\n",
       "    <tr>\n",
       "      <th>7</th>\n",
       "      <td>60</td>\n",
       "      <td>1</td>\n",
       "    </tr>\n",
       "    <tr>\n",
       "      <th>8</th>\n",
       "      <td>62</td>\n",
       "      <td>1</td>\n",
       "    </tr>\n",
       "    <tr>\n",
       "      <th>9</th>\n",
       "      <td>61</td>\n",
       "      <td>1</td>\n",
       "    </tr>\n",
       "    <tr>\n",
       "      <th>10</th>\n",
       "      <td>18</td>\n",
       "      <td>0</td>\n",
       "    </tr>\n",
       "    <tr>\n",
       "      <th>11</th>\n",
       "      <td>28</td>\n",
       "      <td>0</td>\n",
       "    </tr>\n",
       "    <tr>\n",
       "      <th>12</th>\n",
       "      <td>27</td>\n",
       "      <td>0</td>\n",
       "    </tr>\n",
       "    <tr>\n",
       "      <th>13</th>\n",
       "      <td>29</td>\n",
       "      <td>0</td>\n",
       "    </tr>\n",
       "    <tr>\n",
       "      <th>14</th>\n",
       "      <td>49</td>\n",
       "      <td>1</td>\n",
       "    </tr>\n",
       "    <tr>\n",
       "      <th>15</th>\n",
       "      <td>55</td>\n",
       "      <td>1</td>\n",
       "    </tr>\n",
       "    <tr>\n",
       "      <th>16</th>\n",
       "      <td>25</td>\n",
       "      <td>1</td>\n",
       "    </tr>\n",
       "    <tr>\n",
       "      <th>17</th>\n",
       "      <td>58</td>\n",
       "      <td>1</td>\n",
       "    </tr>\n",
       "    <tr>\n",
       "      <th>18</th>\n",
       "      <td>19</td>\n",
       "      <td>0</td>\n",
       "    </tr>\n",
       "    <tr>\n",
       "      <th>19</th>\n",
       "      <td>18</td>\n",
       "      <td>0</td>\n",
       "    </tr>\n",
       "    <tr>\n",
       "      <th>20</th>\n",
       "      <td>21</td>\n",
       "      <td>0</td>\n",
       "    </tr>\n",
       "    <tr>\n",
       "      <th>21</th>\n",
       "      <td>26</td>\n",
       "      <td>0</td>\n",
       "    </tr>\n",
       "    <tr>\n",
       "      <th>22</th>\n",
       "      <td>40</td>\n",
       "      <td>1</td>\n",
       "    </tr>\n",
       "    <tr>\n",
       "      <th>23</th>\n",
       "      <td>45</td>\n",
       "      <td>1</td>\n",
       "    </tr>\n",
       "    <tr>\n",
       "      <th>24</th>\n",
       "      <td>50</td>\n",
       "      <td>1</td>\n",
       "    </tr>\n",
       "    <tr>\n",
       "      <th>25</th>\n",
       "      <td>54</td>\n",
       "      <td>1</td>\n",
       "    </tr>\n",
       "    <tr>\n",
       "      <th>26</th>\n",
       "      <td>23</td>\n",
       "      <td>0</td>\n",
       "    </tr>\n",
       "  </tbody>\n",
       "</table>\n",
       "</div>"
      ],
      "text/plain": [
       "    age  bought_insurance\n",
       "0    22                 0\n",
       "1    25                 0\n",
       "2    47                 1\n",
       "3    52                 0\n",
       "4    46                 1\n",
       "5    56                 1\n",
       "6    55                 0\n",
       "7    60                 1\n",
       "8    62                 1\n",
       "9    61                 1\n",
       "10   18                 0\n",
       "11   28                 0\n",
       "12   27                 0\n",
       "13   29                 0\n",
       "14   49                 1\n",
       "15   55                 1\n",
       "16   25                 1\n",
       "17   58                 1\n",
       "18   19                 0\n",
       "19   18                 0\n",
       "20   21                 0\n",
       "21   26                 0\n",
       "22   40                 1\n",
       "23   45                 1\n",
       "24   50                 1\n",
       "25   54                 1\n",
       "26   23                 0"
      ]
     },
     "execution_count": 2,
     "metadata": {},
     "output_type": "execute_result"
    }
   ],
   "source": [
    "df =pd.read_csv(\"/kaggle/input/insurance-data/insurance_data.csv\")\n",
    "df"
   ]
  },
  {
   "cell_type": "code",
   "execution_count": 3,
   "id": "eb6ed0ce",
   "metadata": {
    "execution": {
     "iopub.execute_input": "2023-12-03T16:02:20.109992Z",
     "iopub.status.busy": "2023-12-03T16:02:20.109474Z",
     "iopub.status.idle": "2023-12-03T16:02:20.439505Z",
     "shell.execute_reply": "2023-12-03T16:02:20.438574Z"
    },
    "papermill": {
     "duration": 0.339638,
     "end_time": "2023-12-03T16:02:20.441754",
     "exception": false,
     "start_time": "2023-12-03T16:02:20.102116",
     "status": "completed"
    },
    "tags": []
   },
   "outputs": [
    {
     "data": {
      "image/png": "[encoded data removed]",
      "text/plain": [
       "<Figure size 640x480 with 1 Axes>"
      ]
     },
     "metadata": {},
     "output_type": "display_data"
    }
   ],
   "source": [
    "plt.scatter(df.age, df[\"bought_insurance\"], color=\"blue\" )\n",
    "plt.show()"
   ]
  },
  {
   "cell_type": "code",
   "execution_count": 4,
   "id": "c8ff960b",
   "metadata": {
    "execution": {
     "iopub.execute_input": "2023-12-03T16:02:20.455388Z",
     "iopub.status.busy": "2023-12-03T16:02:20.454911Z",
     "iopub.status.idle": "2023-12-03T16:02:20.463718Z",
     "shell.execute_reply": "2023-12-03T16:02:20.461315Z"
    },
    "papermill": {
     "duration": 0.01889,
     "end_time": "2023-12-03T16:02:20.466427",
     "exception": false,
     "start_time": "2023-12-03T16:02:20.447537",
     "status": "completed"
    },
    "tags": []
   },
   "outputs": [],
   "source": [
    "x_train,x_test,y_train,y_test = train_test_split(df.age,df[\"bought_insurance\"],test_size=0.8, shuffle=True, random_state=500)"
   ]
  },
  {
   "cell_type": "code",
   "execution_count": 5,
   "id": "992c33a5",
   "metadata": {
    "execution": {
     "iopub.execute_input": "2023-12-03T16:02:20.482251Z",
     "iopub.status.busy": "2023-12-03T16:02:20.481798Z",
     "iopub.status.idle": "2023-12-03T16:02:20.488582Z",
     "shell.execute_reply": "2023-12-03T16:02:20.487185Z"
    },
    "papermill": {
     "duration": 0.018585,
     "end_time": "2023-12-03T16:02:20.491571",
     "exception": false,
     "start_time": "2023-12-03T16:02:20.472986",
     "status": "completed"
    },
    "tags": []
   },
   "outputs": [],
   "source": [
    "Y_train = y_train.values.reshape(-1,1)\n",
    "X_train = x_train.values.reshape(-1,1)\n",
    "X_test = x_test.values.reshape(-1,1)\n",
    "Y_test = y_test.values.reshape(-1,1)"
   ]
  },
  {
   "cell_type": "code",
   "execution_count": 6,
   "id": "d4831129",
   "metadata": {
    "execution": {
     "iopub.execute_input": "2023-12-03T16:02:20.505804Z",
     "iopub.status.busy": "2023-12-03T16:02:20.504733Z",
     "iopub.status.idle": "2023-12-03T16:02:20.527557Z",
     "shell.execute_reply": "2023-12-03T16:02:20.526528Z"
    },
    "papermill": {
     "duration": 0.032103,
     "end_time": "2023-12-03T16:02:20.529750",
     "exception": false,
     "start_time": "2023-12-03T16:02:20.497647",
     "status": "completed"
    },
    "tags": []
   },
   "outputs": [
    {
     "data": {
      "text/html": [
       "<style>#sk-container-id-1 {color: black;background-color: white;}#sk-container-id-1 pre{padding: 0;}#sk-container-id-1 div.sk-toggleable {background-color: white;}#sk-container-id-1 label.sk-toggleable__label {cursor: pointer;display: block;width: 100%;margin-bottom: 0;padding: 0.3em;box-sizing: border-box;text-align: center;}#sk-container-id-1 label.sk-toggleable__label-arrow:before {content: \"▸\";float: left;margin-right: 0.25em;color: #696969;}#sk-container-id-1 label.sk-toggleable__label-arrow:hover:before {color: black;}#sk-container-id-1 div.sk-estimator:hover label.sk-toggleable__label-arrow:before {color: black;}#sk-container-id-1 div.sk-toggleable__content {max-height: 0;max-width: 0;overflow: hidden;text-align: left;background-color: #f0f8ff;}#sk-container-id-1 div.sk-toggleable__content pre {margin: 0.2em;color: black;border-radius: 0.25em;background-color: #f0f8ff;}#sk-container-id-1 input.sk-toggleable__control:checked~div.sk-toggleable__content {max-height: 200px;max-width: 100%;overflow: auto;}#sk-container-id-1 input.sk-toggleable__control:checked~label.sk-toggleable__label-arrow:before {content: \"▾\";}#sk-container-id-1 div.sk-estimator input.sk-toggleable__control:checked~label.sk-toggleable__label {background-color: #d4ebff;}#sk-container-id-1 div.sk-label input.sk-toggleable__control:checked~label.sk-toggleable__label {background-color: #d4ebff;}#sk-container-id-1 input.sk-hidden--visually {border: 0;clip: rect(1px 1px 1px 1px);clip: rect(1px, 1px, 1px, 1px);height: 1px;margin: -1px;overflow: hidden;padding: 0;position: absolute;width: 1px;}#sk-container-id-1 div.sk-estimator {font-family: monospace;background-color: #f0f8ff;border: 1px dotted black;border-radius: 0.25em;box-sizing: border-box;margin-bottom: 0.5em;}#sk-container-id-1 div.sk-estimator:hover {background-color: #d4ebff;}#sk-container-id-1 div.sk-parallel-item::after {content: \"\";width: 100%;border-bottom: 1px solid gray;flex-grow: 1;}#sk-container-id-1 div.sk-label:hover label.sk-toggleable__label {background-color: #d4ebff;}#sk-container-id-1 div.sk-serial::before {content: \"\";position: absolute;border-left: 1px solid gray;box-sizing: border-box;top: 0;bottom: 0;left: 50%;z-index: 0;}#sk-container-id-1 div.sk-serial {display: flex;flex-direction: column;align-items: center;background-color: white;padding-right: 0.2em;padding-left: 0.2em;position: relative;}#sk-container-id-1 div.sk-item {position: relative;z-index: 1;}#sk-container-id-1 div.sk-parallel {display: flex;align-items: stretch;justify-content: center;background-color: white;position: relative;}#sk-container-id-1 div.sk-item::before, #sk-container-id-1 div.sk-parallel-item::before {content: \"\";position: absolute;border-left: 1px solid gray;box-sizing: border-box;top: 0;bottom: 0;left: 50%;z-index: -1;}#sk-container-id-1 div.sk-parallel-item {display: flex;flex-direction: column;z-index: 1;position: relative;background-color: white;}#sk-container-id-1 div.sk-parallel-item:first-child::after {align-self: flex-end;width: 50%;}#sk-container-id-1 div.sk-parallel-item:last-child::after {align-self: flex-start;width: 50%;}#sk-container-id-1 div.sk-parallel-item:only-child::after {width: 0;}#sk-container-id-1 div.sk-dashed-wrapped {border: 1px dashed gray;margin: 0 0.4em 0.5em 0.4em;box-sizing: border-box;padding-bottom: 0.4em;background-color: white;}#sk-container-id-1 div.sk-label label {font-family: monospace;font-weight: bold;display: inline-block;line-height: 1.2em;}#sk-container-id-1 div.sk-label-container {text-align: center;}#sk-container-id-1 div.sk-container {/* jupyter's `normalize.less` sets `[hidden] { display: none; }` but bootstrap.min.css set `[hidden] { display: none !important; }` so we also need the `!important` here to be able to override the default hidden behavior on the sphinx rendered scikit-learn.org. See: https://github.com/scikit-learn/scikit-learn/issues/21755 */display: inline-block !important;position: relative;}#sk-container-id-1 div.sk-text-repr-fallback {display: none;}</style><div id=\"sk-container-id-1\" class=\"sk-top-container\"><div class=\"sk-text-repr-fallback\"><pre>LogisticRegression()</pre><b>In a Jupyter environment, please rerun this cell to show the HTML representation or trust the notebook. <br />On GitHub, the HTML representation is unable to render, please try loading this page with nbviewer.org.</b></div><div class=\"sk-container\" hidden><div class=\"sk-item\"><div class=\"sk-estimator sk-toggleable\"><input class=\"sk-toggleable__control sk-hidden--visually\" id=\"sk-estimator-id-1\" type=\"checkbox\" checked><label for=\"sk-estimator-id-1\" class=\"sk-toggleable__label sk-toggleable__label-arrow\">LogisticRegression</label><div class=\"sk-toggleable__content\"><pre>LogisticRegression()</pre></div></div></div></div></div>"
      ],
      "text/plain": [
       "LogisticRegression()"
      ]
     },
     "execution_count": 6,
     "metadata": {},
     "output_type": "execute_result"
    }
   ],
   "source": [
    "model = LogisticRegression()\n",
    "model.fit(X_train, Y_train)"
   ]
  },
  {
   "cell_type": "code",
   "execution_count": 7,
   "id": "7f6dbb10",
   "metadata": {
    "execution": {
     "iopub.execute_input": "2023-12-03T16:02:20.543897Z",
     "iopub.status.busy": "2023-12-03T16:02:20.542227Z",
     "iopub.status.idle": "2023-12-03T16:02:20.553215Z",
     "shell.execute_reply": "2023-12-03T16:02:20.551749Z"
    },
    "papermill": {
     "duration": 0.020771,
     "end_time": "2023-12-03T16:02:20.556205",
     "exception": false,
     "start_time": "2023-12-03T16:02:20.535434",
     "status": "completed"
    },
    "tags": []
   },
   "outputs": [
    {
     "data": {
      "text/plain": [
       "1.0"
      ]
     },
     "execution_count": 7,
     "metadata": {},
     "output_type": "execute_result"
    }
   ],
   "source": [
    "model.score(X_train,Y_train)"
   ]
  },
  {
   "cell_type": "code",
   "execution_count": 8,
   "id": "ebe1acce",
   "metadata": {
    "execution": {
     "iopub.execute_input": "2023-12-03T16:02:20.571572Z",
     "iopub.status.busy": "2023-12-03T16:02:20.571109Z",
     "iopub.status.idle": "2023-12-03T16:02:20.578418Z",
     "shell.execute_reply": "2023-12-03T16:02:20.577725Z"
    },
    "papermill": {
     "duration": 0.017351,
     "end_time": "2023-12-03T16:02:20.580738",
     "exception": false,
     "start_time": "2023-12-03T16:02:20.563387",
     "status": "completed"
    },
    "tags": []
   },
   "outputs": [
    {
     "data": {
      "text/plain": [
       "0.8636363636363636"
      ]
     },
     "execution_count": 8,
     "metadata": {},
     "output_type": "execute_result"
    }
   ],
   "source": [
    "model.score(X_test,Y_test)"
   ]
  },
  {
   "cell_type": "code",
   "execution_count": 9,
   "id": "f08aef3b",
   "metadata": {
    "execution": {
     "iopub.execute_input": "2023-12-03T16:02:20.597878Z",
     "iopub.status.busy": "2023-12-03T16:02:20.597109Z",
     "iopub.status.idle": "2023-12-03T16:02:20.602275Z",
     "shell.execute_reply": "2023-12-03T16:02:20.601195Z"
    },
    "papermill": {
     "duration": 0.017228,
     "end_time": "2023-12-03T16:02:20.605052",
     "exception": false,
     "start_time": "2023-12-03T16:02:20.587824",
     "status": "completed"
    },
    "tags": []
   },
   "outputs": [],
   "source": [
    "y_predict = model.predict(X_test)"
   ]
  },
  {
   "cell_type": "code",
   "execution_count": 10,
   "id": "fd1b4ccb",
   "metadata": {
    "execution": {
     "iopub.execute_input": "2023-12-03T16:02:20.620053Z",
     "iopub.status.busy": "2023-12-03T16:02:20.619224Z",
     "iopub.status.idle": "2023-12-03T16:02:20.625775Z",
     "shell.execute_reply": "2023-12-03T16:02:20.624907Z"
    },
    "papermill": {
     "duration": 0.015919,
     "end_time": "2023-12-03T16:02:20.627474",
     "exception": false,
     "start_time": "2023-12-03T16:02:20.611555",
     "status": "completed"
    },
    "tags": []
   },
   "outputs": [
    {
     "data": {
      "text/plain": [
       "array([[46],\n",
       "       [22],\n",
       "       [50],\n",
       "       [27],\n",
       "       [25],\n",
       "       [56],\n",
       "       [28],\n",
       "       [19],\n",
       "       [40],\n",
       "       [21],\n",
       "       [26],\n",
       "       [55],\n",
       "       [52],\n",
       "       [55],\n",
       "       [18],\n",
       "       [47],\n",
       "       [61],\n",
       "       [54],\n",
       "       [18],\n",
       "       [29],\n",
       "       [60],\n",
       "       [62]])"
      ]
     },
     "execution_count": 10,
     "metadata": {},
     "output_type": "execute_result"
    }
   ],
   "source": [
    "X_test"
   ]
  },
  {
   "cell_type": "code",
   "execution_count": 11,
   "id": "07823b04",
   "metadata": {
    "execution": {
     "iopub.execute_input": "2023-12-03T16:02:20.641619Z",
     "iopub.status.busy": "2023-12-03T16:02:20.641023Z",
     "iopub.status.idle": "2023-12-03T16:02:20.646858Z",
     "shell.execute_reply": "2023-12-03T16:02:20.645950Z"
    },
    "papermill": {
     "duration": 0.015321,
     "end_time": "2023-12-03T16:02:20.648681",
     "exception": false,
     "start_time": "2023-12-03T16:02:20.633360",
     "status": "completed"
    },
    "tags": []
   },
   "outputs": [
    {
     "data": {
      "text/plain": [
       "array([1, 0, 1, 0, 0, 1, 0, 0, 1, 0, 0, 1, 1, 1, 0, 1, 1, 1, 0, 0, 1, 1])"
      ]
     },
     "execution_count": 11,
     "metadata": {},
     "output_type": "execute_result"
    }
   ],
   "source": [
    "y_predict"
   ]
  },
  {
   "cell_type": "code",
   "execution_count": 12,
   "id": "02fca949",
   "metadata": {
    "execution": {
     "iopub.execute_input": "2023-12-03T16:02:20.664437Z",
     "iopub.status.busy": "2023-12-03T16:02:20.663834Z",
     "iopub.status.idle": "2023-12-03T16:02:20.672265Z",
     "shell.execute_reply": "2023-12-03T16:02:20.670332Z"
    },
    "papermill": {
     "duration": 0.019218,
     "end_time": "2023-12-03T16:02:20.675141",
     "exception": false,
     "start_time": "2023-12-03T16:02:20.655923",
     "status": "completed"
    },
    "tags": []
   },
   "outputs": [
    {
     "data": {
      "text/plain": [
       "array([1])"
      ]
     },
     "execution_count": 12,
     "metadata": {},
     "output_type": "execute_result"
    }
   ],
   "source": [
    "model.predict([[35.23]])"
   ]
  },
  {
   "cell_type": "code",
   "execution_count": 13,
   "id": "5e2f79aa",
   "metadata": {
    "execution": {
     "iopub.execute_input": "2023-12-03T16:02:20.690767Z",
     "iopub.status.busy": "2023-12-03T16:02:20.690334Z",
     "iopub.status.idle": "2023-12-03T16:02:20.700212Z",
     "shell.execute_reply": "2023-12-03T16:02:20.698546Z"
    },
    "papermill": {
     "duration": 0.022038,
     "end_time": "2023-12-03T16:02:20.704350",
     "exception": false,
     "start_time": "2023-12-03T16:02:20.682312",
     "status": "completed"
    },
    "tags": []
   },
   "outputs": [
    {
     "data": {
      "text/plain": [
       "array([[1.08879867e-02, 9.89112013e-01],\n",
       "       [9.96062598e-01, 3.93740214e-03],\n",
       "       [2.06020602e-03, 9.97939794e-01],\n",
       "       [9.68965054e-01, 3.10349461e-02],\n",
       "       [9.86319170e-01, 1.36808304e-02],\n",
       "       [1.67644692e-04, 9.99832355e-01],\n",
       "       [9.53588273e-01, 4.64117272e-02],\n",
       "       [9.98874716e-01, 1.12528444e-03],\n",
       "       [1.19356464e-01, 8.80643536e-01],\n",
       "       [9.97405397e-01, 2.59460294e-03],\n",
       "       [9.79357598e-01, 2.06424019e-02],\n",
       "       [2.54727556e-04, 9.99745272e-01],\n",
       "       [8.93244416e-04, 9.99106756e-01],\n",
       "       [2.54727556e-04, 9.99745272e-01],\n",
       "       [9.99259192e-01, 7.40807720e-04],\n",
       "       [7.19189716e-03, 9.92808103e-01],\n",
       "       [2.06934972e-05, 9.99979307e-01],\n",
       "       [3.87028014e-04, 9.99612972e-01],\n",
       "       [9.99259192e-01, 7.40807720e-04],\n",
       "       [9.31134280e-01, 6.88657201e-02],\n",
       "       [3.14451139e-05, 9.99968555e-01],\n",
       "       [1.36179902e-05, 9.99986382e-01]])"
      ]
     },
     "execution_count": 13,
     "metadata": {},
     "output_type": "execute_result"
    }
   ],
   "source": [
    "#the probability of all ages \n",
    "model.predict_proba(X_test)"
   ]
  },
  {
   "cell_type": "code",
   "execution_count": 14,
   "id": "168ec121",
   "metadata": {
    "execution": {
     "iopub.execute_input": "2023-12-03T16:02:20.721699Z",
     "iopub.status.busy": "2023-12-03T16:02:20.720422Z",
     "iopub.status.idle": "2023-12-03T16:02:20.731809Z",
     "shell.execute_reply": "2023-12-03T16:02:20.729556Z"
    },
    "papermill": {
     "duration": 0.022253,
     "end_time": "2023-12-03T16:02:20.734535",
     "exception": false,
     "start_time": "2023-12-03T16:02:20.712282",
     "status": "completed"
    },
    "tags": []
   },
   "outputs": [
    {
     "data": {
      "text/plain": [
       "array([[0.09905617, 0.90094383]])"
      ]
     },
     "execution_count": 14,
     "metadata": {},
     "output_type": "execute_result"
    }
   ],
   "source": [
    "model.predict_proba([[40.5]])"
   ]
  },
  {
   "cell_type": "code",
   "execution_count": 15,
   "id": "abadd004",
   "metadata": {
    "execution": {
     "iopub.execute_input": "2023-12-03T16:02:20.751431Z",
     "iopub.status.busy": "2023-12-03T16:02:20.750737Z",
     "iopub.status.idle": "2023-12-03T16:02:20.756433Z",
     "shell.execute_reply": "2023-12-03T16:02:20.755765Z"
    },
    "papermill": {
     "duration": 0.016982,
     "end_time": "2023-12-03T16:02:20.759180",
     "exception": false,
     "start_time": "2023-12-03T16:02:20.742198",
     "status": "completed"
    },
    "tags": []
   },
   "outputs": [
    {
     "data": {
      "text/plain": [
       "array([[0.41843485]])"
      ]
     },
     "execution_count": 15,
     "metadata": {},
     "output_type": "execute_result"
    }
   ],
   "source": [
    "model.coef_"
   ]
  },
  {
   "cell_type": "code",
   "execution_count": 16,
   "id": "05c4db8d",
   "metadata": {
    "execution": {
     "iopub.execute_input": "2023-12-03T16:02:20.775293Z",
     "iopub.status.busy": "2023-12-03T16:02:20.774532Z",
     "iopub.status.idle": "2023-12-03T16:02:20.780354Z",
     "shell.execute_reply": "2023-12-03T16:02:20.779674Z"
    },
    "papermill": {
     "duration": 0.016677,
     "end_time": "2023-12-03T16:02:20.782894",
     "exception": false,
     "start_time": "2023-12-03T16:02:20.766217",
     "status": "completed"
    },
    "tags": []
   },
   "outputs": [
    {
     "data": {
      "text/plain": [
       "array([-14.73885575])"
      ]
     },
     "execution_count": 16,
     "metadata": {},
     "output_type": "execute_result"
    }
   ],
   "source": [
    "model.intercept_"
   ]
  },
  {
   "cell_type": "markdown",
   "id": "f1fcc353",
   "metadata": {
    "papermill": {
     "duration": 0.007332,
     "end_time": "2023-12-03T16:02:20.797213",
     "exception": false,
     "start_time": "2023-12-03T16:02:20.789881",
     "status": "completed"
    },
    "tags": []
   },
   "source": [
    "# the Sigmoid function is a type of Activation functions types \n",
    "# and we use it in this state because the range of problem is (0, 1)"
   ]
  },
  {
   "cell_type": "markdown",
   "id": "fcf6e213",
   "metadata": {
    "papermill": {
     "duration": 0.00638,
     "end_time": "2023-12-03T16:02:20.811083",
     "exception": false,
     "start_time": "2023-12-03T16:02:20.804703",
     "status": "completed"
    },
    "tags": []
   },
   "source": [
    "<img src=\"https://assets-global.website-files.com/5d7b77b063a9066d83e1209c/60be196326da6e49a7a15661_math-20210607%20(7).png\" style=\"width:600px;height:370px\" >"
   ]
  },
  {
   "cell_type": "code",
   "execution_count": null,
   "id": "c18220e3",
   "metadata": {
    "papermill": {
     "duration": 0.006135,
     "end_time": "2023-12-03T16:02:20.823882",
     "exception": false,
     "start_time": "2023-12-03T16:02:20.817747",
     "status": "completed"
    },
    "tags": []
   },
   "outputs": [],
   "source": []
  },
  {
   "cell_type": "code",
   "execution_count": null,
   "id": "bcbbdf7a",
   "metadata": {
    "papermill": {
     "duration": 0.006058,
     "end_time": "2023-12-03T16:02:20.836292",
     "exception": false,
     "start_time": "2023-12-03T16:02:20.830234",
     "status": "completed"
    },
    "tags": []
   },
   "outputs": [],
   "source": []
  },
  {
   "cell_type": "code",
   "execution_count": null,
   "id": "35096412",
   "metadata": {
    "papermill": {
     "duration": 0.006183,
     "end_time": "2023-12-03T16:02:20.848731",
     "exception": false,
     "start_time": "2023-12-03T16:02:20.842548",
     "status": "completed"
    },
    "tags": []
   },
   "outputs": [],
   "source": []
  },
  {
   "cell_type": "code",
   "execution_count": null,
   "id": "56cc349a",
   "metadata": {
    "papermill": {
     "duration": 0.006384,
     "end_time": "2023-12-03T16:02:20.861977",
     "exception": false,
     "start_time": "2023-12-03T16:02:20.855593",
     "status": "completed"
    },
    "tags": []
   },
   "outputs": [],
   "source": []
  },
  {
   "cell_type": "code",
   "execution_count": null,
   "id": "6d34b33a",
   "metadata": {
    "papermill": {
     "duration": 0.005889,
     "end_time": "2023-12-03T16:02:20.874229",
     "exception": false,
     "start_time": "2023-12-03T16:02:20.868340",
     "status": "completed"
    },
    "tags": []
   },
   "outputs": [],
   "source": []
  }
 ],
 "metadata": {
  "kaggle": {
   "accelerator": "none",
   "dataSources": [
    {
     "datasetId": 4101685,
     "sourceId": 7113021,
     "sourceType": "datasetVersion"
    }
   ],
   "dockerImageVersionId": 30587,
   "isGpuEnabled": false,
   "isInternetEnabled": true,
   "language": "python",
   "sourceType": "notebook"
  },
  "kernelspec": {
   "display_name": "Python 3",
   "language": "python",
   "name": "python3"
  },
  "language_info": {
   "codemirror_mode": {
    "name": "ipython",
    "version": 3
   },
   "file_extension": ".py",
   "mimetype": "text/x-python",
   "name": "python",
   "nbconvert_exporter": "python",
   "pygments_lexer": "ipython3",
   "version": "3.10.12"
  },
  "papermill": {
   "default_parameters": {},
   "duration": 6.51157,
   "end_time": "2023-12-03T16:02:21.705258",
   "environment_variables": {},
   "exception": null,
   "input_path": "__notebook__.ipynb",
   "output_path": "__notebook__.ipynb",
   "parameters": {},
   "start_time": "2023-12-03T16:02:15.193688",
   "version": "2.4.0"
  }
 },
 "nbformat": 4,
 "nbformat_minor": 5
}
