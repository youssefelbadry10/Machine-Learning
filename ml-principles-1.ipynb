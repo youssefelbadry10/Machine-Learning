{
 "cells": [
  {
   "cell_type": "markdown",
   "id": "345bba89",
   "metadata": {
    "papermill": {
     "duration": 0.009568,
     "end_time": "2023-11-26T13:58:52.475175",
     "exception": false,
     "start_time": "2023-11-26T13:58:52.465607",
     "status": "completed"
    },
    "tags": []
   },
   "source": [
    "<img src=\"https://www.deviq.io/hs-fs/hubfs/DevIQ%20website%20active%20images/ai-ml-dl-ds-venn-diagram-deviq.png?width=449&name=ai-ml-dl-ds-venn-diagram-deviq.png\" style=\"width:600px;height:370px\" >"
   ]
  },
  {
   "cell_type": "markdown",
   "id": "194ad454",
   "metadata": {
    "papermill": {
     "duration": 0.008345,
     "end_time": "2023-11-26T13:58:52.491750",
     "exception": false,
     "start_time": "2023-11-26T13:58:52.483405",
     "status": "completed"
    },
    "tags": []
   },
   "source": [
    "# **Types of learning:**\n",
    "# 1-Supervised learning (Labeled data)\n",
    "# 2-Unsupervised learning (Unlabeled data) \n",
    "# 3-Semi-Supervised learning (Labeled/Unlabeled data)\n",
    "# 4-Re-inforcement learning/Self learning (Punishment and Rewards)"
   ]
  },
  {
   "cell_type": "markdown",
   "id": "929707fc",
   "metadata": {
    "papermill": {
     "duration": 0.007878,
     "end_time": "2023-11-26T13:58:52.508093",
     "exception": false,
     "start_time": "2023-11-26T13:58:52.500215",
     "status": "completed"
    },
    "tags": []
   },
   "source": [
    "# **Types of models:**\n",
    "\n",
    "# 1. Statistical Models:\n",
    "Statistical models are characterized by their reliance on statistical theory and principles for inference, estimation, and making predictions. They often involve assumptions about the underlying data distribution and relationships.\n",
    "\n",
    "* # Linear Regression:\n",
    "A statistical model that assumes a linear relationship between the independent and dependent variables.\n",
    "\n",
    "* # Logistic Regression:\n",
    "Used for classification, it models the probability of a binary outcome based on input variables.\n",
    "\n",
    "* # ANOVA (Analysis of Variance):\n",
    "Used to analyze the variance between different groups in a dataset.\n",
    "\n",
    "* # Time Series Models (ARIMA, Exponential Smoothing): \n",
    "Models designed specifically to handle time-dependent data and patterns.\n",
    "\n",
    "* # Bayesian Models:\n",
    "Incorporating Bayesian inference and probabilities to model uncertainty and update beliefs based on evidence.\n",
    "\n",
    "\n",
    "# 2. Non-statistical Models\n",
    "\n",
    "Non-statistical models encompass a broad array of algorithms and approaches that may not heavily rely on statistical assumptions or theories. These models might focus more on computational efficiency or learning from data patterns without a strong statistical foundation.\n",
    "\n",
    "* # Neural Networks:\n",
    "A non-statistical model that learns patterns from data through interconnected nodes inspired by the human brain.\n",
    "\n",
    "*  # Decision Trees: \n",
    "Hierarchical tree-like structures used for classification and regression by partitioning the feature space.\n",
    "\n",
    "* # Support Vector Machines (SVM):\n",
    "Classifiers that find an optimal hyperplane between classes in a high-dimensional space.\n",
    "\n",
    "* # Random Forests:\n",
    "An ensemble learning method that constructs multiple decision trees to improve prediction accuracy.\n",
    "\n",
    "* # K-Nearest Neighbors (KNN):\n",
    "A non-parametric method for classification and regression based on the similarity of instances\n",
    "\n",
    "# 3. Hybrid Models\n",
    "Some models might incorporate elements of both statistical and non-statistical approaches, leveraging the strengths of each.\n",
    "\n",
    "* # Ensemble Methods:\n",
    "Techniques that combine multiple models (which could be both statistical and non-statistical) to improve performance, like boosting and bagging.\n",
    "\n",
    "* # Deep Learning Architectures:\n",
    "Neural network models with multiple layers that can incorporate statistical techniques for regularization and optimization.\n"
   ]
  },
  {
   "cell_type": "markdown",
   "id": "1ef26038",
   "metadata": {
    "papermill": {
     "duration": 0.007977,
     "end_time": "2023-11-26T13:58:52.525857",
     "exception": false,
     "start_time": "2023-11-26T13:58:52.517880",
     "status": "completed"
    },
    "tags": []
   },
   "source": [
    "# **Linear Regression**"
   ]
  },
  {
   "cell_type": "markdown",
   "id": "b5a7fba2",
   "metadata": {
    "papermill": {
     "duration": 0.007734,
     "end_time": "2023-11-26T13:58:52.542184",
     "exception": false,
     "start_time": "2023-11-26T13:58:52.534450",
     "status": "completed"
    },
    "tags": []
   },
   "source": [
    "<img src=\"https://machinelearningmastery.com/wp-content/uploads/2017/12/Scatter-Plot-of-Direct-Solution-to-the-Linear-Regression-Problem.png\" style=\"width:600px;height:370px\" >"
   ]
  },
  {
   "cell_type": "markdown",
   "id": "86c2854b",
   "metadata": {
    "papermill": {
     "duration": 0.008405,
     "end_time": "2023-11-26T13:58:52.559500",
     "exception": false,
     "start_time": "2023-11-26T13:58:52.551095",
     "status": "completed"
    },
    "tags": []
   },
   "source": [
    "<img src=\"https://toptipbio.com/wp-content/uploads/2021/03/Linear-regression-model-equation.jpg\" style=\"width:600px;height:370px\" >"
   ]
  },
  {
   "cell_type": "code",
   "execution_count": 1,
   "id": "a32a6d91",
   "metadata": {
    "execution": {
     "iopub.execute_input": "2023-11-26T13:58:52.580345Z",
     "iopub.status.busy": "2023-11-26T13:58:52.579487Z",
     "iopub.status.idle": "2023-11-26T13:58:54.581619Z",
     "shell.execute_reply": "2023-11-26T13:58:54.580349Z"
    },
    "papermill": {
     "duration": 2.014937,
     "end_time": "2023-11-26T13:58:54.584360",
     "exception": false,
     "start_time": "2023-11-26T13:58:52.569423",
     "status": "completed"
    },
    "tags": []
   },
   "outputs": [],
   "source": [
    "import pandas as pd\n",
    "import numpy as np\n",
    "from sklearn import linear_model\n",
    "import matplotlib.pyplot as plt \n",
    "import warnings "
   ]
  },
  {
   "cell_type": "code",
   "execution_count": 2,
   "id": "c67154bf",
   "metadata": {
    "execution": {
     "iopub.execute_input": "2023-11-26T13:58:54.603386Z",
     "iopub.status.busy": "2023-11-26T13:58:54.602846Z",
     "iopub.status.idle": "2023-11-26T13:58:54.607976Z",
     "shell.execute_reply": "2023-11-26T13:58:54.606896Z"
    },
    "papermill": {
     "duration": 0.017148,
     "end_time": "2023-11-26T13:58:54.610143",
     "exception": false,
     "start_time": "2023-11-26T13:58:54.592995",
     "status": "completed"
    },
    "tags": []
   },
   "outputs": [],
   "source": [
    "warnings.filterwarnings(\"ignore\")"
   ]
  },
  {
   "cell_type": "code",
   "execution_count": 3,
   "id": "bc74a846",
   "metadata": {
    "execution": {
     "iopub.execute_input": "2023-11-26T13:58:54.628690Z",
     "iopub.status.busy": "2023-11-26T13:58:54.627758Z",
     "iopub.status.idle": "2023-11-26T13:58:54.665801Z",
     "shell.execute_reply": "2023-11-26T13:58:54.664548Z"
    },
    "papermill": {
     "duration": 0.051032,
     "end_time": "2023-11-26T13:58:54.669182",
     "exception": false,
     "start_time": "2023-11-26T13:58:54.618150",
     "status": "completed"
    },
    "tags": []
   },
   "outputs": [
    {
     "data": {
      "text/html": [
       "<div>\n",
       "<style scoped>\n",
       "    .dataframe tbody tr th:only-of-type {\n",
       "        vertical-align: middle;\n",
       "    }\n",
       "\n",
       "    .dataframe tbody tr th {\n",
       "        vertical-align: top;\n",
       "    }\n",
       "\n",
       "    .dataframe thead th {\n",
       "        text-align: right;\n",
       "    }\n",
       "</style>\n",
       "<table border=\"1\" class=\"dataframe\">\n",
       "  <thead>\n",
       "    <tr style=\"text-align: right;\">\n",
       "      <th></th>\n",
       "      <th>area</th>\n",
       "      <th>price</th>\n",
       "    </tr>\n",
       "  </thead>\n",
       "  <tbody>\n",
       "    <tr>\n",
       "      <th>0</th>\n",
       "      <td>2600</td>\n",
       "      <td>550000</td>\n",
       "    </tr>\n",
       "    <tr>\n",
       "      <th>1</th>\n",
       "      <td>3000</td>\n",
       "      <td>565000</td>\n",
       "    </tr>\n",
       "    <tr>\n",
       "      <th>2</th>\n",
       "      <td>3200</td>\n",
       "      <td>610000</td>\n",
       "    </tr>\n",
       "    <tr>\n",
       "      <th>3</th>\n",
       "      <td>3600</td>\n",
       "      <td>680000</td>\n",
       "    </tr>\n",
       "    <tr>\n",
       "      <th>4</th>\n",
       "      <td>4000</td>\n",
       "      <td>725000</td>\n",
       "    </tr>\n",
       "  </tbody>\n",
       "</table>\n",
       "</div>"
      ],
      "text/plain": [
       "   area   price\n",
       "0  2600  550000\n",
       "1  3000  565000\n",
       "2  3200  610000\n",
       "3  3600  680000\n",
       "4  4000  725000"
      ]
     },
     "execution_count": 3,
     "metadata": {},
     "output_type": "execute_result"
    }
   ],
   "source": [
    "df = pd.read_csv(\"/kaggle/input/houses-price/homeprices.csv\")\n",
    "df"
   ]
  },
  {
   "cell_type": "code",
   "execution_count": 4,
   "id": "2f21ee8a",
   "metadata": {
    "execution": {
     "iopub.execute_input": "2023-11-26T13:58:54.689360Z",
     "iopub.status.busy": "2023-11-26T13:58:54.688916Z",
     "iopub.status.idle": "2023-11-26T13:58:54.698937Z",
     "shell.execute_reply": "2023-11-26T13:58:54.697770Z"
    },
    "papermill": {
     "duration": 0.023386,
     "end_time": "2023-11-26T13:58:54.701735",
     "exception": false,
     "start_time": "2023-11-26T13:58:54.678349",
     "status": "completed"
    },
    "tags": []
   },
   "outputs": [
    {
     "data": {
      "text/plain": [
       "2600"
      ]
     },
     "execution_count": 4,
     "metadata": {},
     "output_type": "execute_result"
    }
   ],
   "source": [
    "df.area.min()"
   ]
  },
  {
   "cell_type": "code",
   "execution_count": 5,
   "id": "ff4c125a",
   "metadata": {
    "execution": {
     "iopub.execute_input": "2023-11-26T13:58:54.724405Z",
     "iopub.status.busy": "2023-11-26T13:58:54.723957Z",
     "iopub.status.idle": "2023-11-26T13:58:54.733891Z",
     "shell.execute_reply": "2023-11-26T13:58:54.732697Z"
    },
    "papermill": {
     "duration": 0.0248,
     "end_time": "2023-11-26T13:58:54.737089",
     "exception": false,
     "start_time": "2023-11-26T13:58:54.712289",
     "status": "completed"
    },
    "tags": []
   },
   "outputs": [
    {
     "data": {
      "text/plain": [
       "4000"
      ]
     },
     "execution_count": 5,
     "metadata": {},
     "output_type": "execute_result"
    }
   ],
   "source": [
    "df.area.max()"
   ]
  },
  {
   "cell_type": "markdown",
   "id": "b91fbc4a",
   "metadata": {
    "papermill": {
     "duration": 0.00903,
     "end_time": "2023-11-26T13:58:54.755389",
     "exception": false,
     "start_time": "2023-11-26T13:58:54.746359",
     "status": "completed"
    },
    "tags": []
   },
   "source": [
    "# Y(price)= m(factor).(input area) + b(intercept)"
   ]
  },
  {
   "cell_type": "code",
   "execution_count": 6,
   "id": "0d4f5959",
   "metadata": {
    "execution": {
     "iopub.execute_input": "2023-11-26T13:58:54.775848Z",
     "iopub.status.busy": "2023-11-26T13:58:54.775445Z",
     "iopub.status.idle": "2023-11-26T13:58:55.164067Z",
     "shell.execute_reply": "2023-11-26T13:58:55.162702Z"
    },
    "papermill": {
     "duration": 0.402532,
     "end_time": "2023-11-26T13:58:55.166603",
     "exception": false,
     "start_time": "2023-11-26T13:58:54.764071",
     "status": "completed"
    },
    "tags": []
   },
   "outputs": [
    {
     "data": {
      "image/png": "[encoded data removed]",
      "text/plain": [
       "<Figure size 640x480 with 1 Axes>"
      ]
     },
     "metadata": {},
     "output_type": "display_data"
    }
   ],
   "source": [
    "plt.xlabel(\"area\")\n",
    "plt.ylabel(\"price\")\n",
    "plt.scatter(df.area,df.price, color=\"blue\", marker=\"*\", linewidth = 2)\n",
    "plt.show()"
   ]
  },
  {
   "cell_type": "code",
   "execution_count": 7,
   "id": "2b8d73bb",
   "metadata": {
    "execution": {
     "iopub.execute_input": "2023-11-26T13:58:55.186411Z",
     "iopub.status.busy": "2023-11-26T13:58:55.185996Z",
     "iopub.status.idle": "2023-11-26T13:58:55.203869Z",
     "shell.execute_reply": "2023-11-26T13:58:55.202489Z"
    },
    "papermill": {
     "duration": 0.03097,
     "end_time": "2023-11-26T13:58:55.206632",
     "exception": false,
     "start_time": "2023-11-26T13:58:55.175662",
     "status": "completed"
    },
    "tags": []
   },
   "outputs": [
    {
     "name": "stdout",
     "output_type": "stream",
     "text": [
      "<class 'pandas.core.frame.DataFrame'>\n"
     ]
    },
    {
     "data": {
      "text/html": [
       "<div>\n",
       "<style scoped>\n",
       "    .dataframe tbody tr th:only-of-type {\n",
       "        vertical-align: middle;\n",
       "    }\n",
       "\n",
       "    .dataframe tbody tr th {\n",
       "        vertical-align: top;\n",
       "    }\n",
       "\n",
       "    .dataframe thead th {\n",
       "        text-align: right;\n",
       "    }\n",
       "</style>\n",
       "<table border=\"1\" class=\"dataframe\">\n",
       "  <thead>\n",
       "    <tr style=\"text-align: right;\">\n",
       "      <th></th>\n",
       "      <th>area</th>\n",
       "    </tr>\n",
       "  </thead>\n",
       "  <tbody>\n",
       "    <tr>\n",
       "      <th>0</th>\n",
       "      <td>2600</td>\n",
       "    </tr>\n",
       "    <tr>\n",
       "      <th>1</th>\n",
       "      <td>3000</td>\n",
       "    </tr>\n",
       "    <tr>\n",
       "      <th>2</th>\n",
       "      <td>3200</td>\n",
       "    </tr>\n",
       "    <tr>\n",
       "      <th>3</th>\n",
       "      <td>3600</td>\n",
       "    </tr>\n",
       "    <tr>\n",
       "      <th>4</th>\n",
       "      <td>4000</td>\n",
       "    </tr>\n",
       "  </tbody>\n",
       "</table>\n",
       "</div>"
      ],
      "text/plain": [
       "   area\n",
       "0  2600\n",
       "1  3000\n",
       "2  3200\n",
       "3  3600\n",
       "4  4000"
      ]
     },
     "execution_count": 7,
     "metadata": {},
     "output_type": "execute_result"
    }
   ],
   "source": [
    "area = df.drop(columns = [\"price\"])\n",
    "print(type(area))\n",
    "area"
   ]
  },
  {
   "cell_type": "code",
   "execution_count": 8,
   "id": "bd4ee007",
   "metadata": {
    "execution": {
     "iopub.execute_input": "2023-11-26T13:58:55.226973Z",
     "iopub.status.busy": "2023-11-26T13:58:55.226606Z",
     "iopub.status.idle": "2023-11-26T13:58:55.235203Z",
     "shell.execute_reply": "2023-11-26T13:58:55.233987Z"
    },
    "papermill": {
     "duration": 0.021883,
     "end_time": "2023-11-26T13:58:55.237698",
     "exception": false,
     "start_time": "2023-11-26T13:58:55.215815",
     "status": "completed"
    },
    "tags": []
   },
   "outputs": [
    {
     "data": {
      "text/plain": [
       "0    550000\n",
       "1    565000\n",
       "2    610000\n",
       "3    680000\n",
       "4    725000\n",
       "Name: price, dtype: int64"
      ]
     },
     "execution_count": 8,
     "metadata": {},
     "output_type": "execute_result"
    }
   ],
   "source": [
    "price = df.price\n",
    "price"
   ]
  },
  {
   "cell_type": "code",
   "execution_count": 9,
   "id": "5669b5a0",
   "metadata": {
    "execution": {
     "iopub.execute_input": "2023-11-26T13:58:55.259194Z",
     "iopub.status.busy": "2023-11-26T13:58:55.258741Z",
     "iopub.status.idle": "2023-11-26T13:58:55.284557Z",
     "shell.execute_reply": "2023-11-26T13:58:55.283319Z"
    },
    "papermill": {
     "duration": 0.040013,
     "end_time": "2023-11-26T13:58:55.286979",
     "exception": false,
     "start_time": "2023-11-26T13:58:55.246966",
     "status": "completed"
    },
    "tags": []
   },
   "outputs": [
    {
     "data": {
      "text/html": [
       "<style>#sk-container-id-1 {color: black;background-color: white;}#sk-container-id-1 pre{padding: 0;}#sk-container-id-1 div.sk-toggleable {background-color: white;}#sk-container-id-1 label.sk-toggleable__label {cursor: pointer;display: block;width: 100%;margin-bottom: 0;padding: 0.3em;box-sizing: border-box;text-align: center;}#sk-container-id-1 label.sk-toggleable__label-arrow:before {content: \"▸\";float: left;margin-right: 0.25em;color: #696969;}#sk-container-id-1 label.sk-toggleable__label-arrow:hover:before {color: black;}#sk-container-id-1 div.sk-estimator:hover label.sk-toggleable__label-arrow:before {color: black;}#sk-container-id-1 div.sk-toggleable__content {max-height: 0;max-width: 0;overflow: hidden;text-align: left;background-color: #f0f8ff;}#sk-container-id-1 div.sk-toggleable__content pre {margin: 0.2em;color: black;border-radius: 0.25em;background-color: #f0f8ff;}#sk-container-id-1 input.sk-toggleable__control:checked~div.sk-toggleable__content {max-height: 200px;max-width: 100%;overflow: auto;}#sk-container-id-1 input.sk-toggleable__control:checked~label.sk-toggleable__label-arrow:before {content: \"▾\";}#sk-container-id-1 div.sk-estimator input.sk-toggleable__control:checked~label.sk-toggleable__label {background-color: #d4ebff;}#sk-container-id-1 div.sk-label input.sk-toggleable__control:checked~label.sk-toggleable__label {background-color: #d4ebff;}#sk-container-id-1 input.sk-hidden--visually {border: 0;clip: rect(1px 1px 1px 1px);clip: rect(1px, 1px, 1px, 1px);height: 1px;margin: -1px;overflow: hidden;padding: 0;position: absolute;width: 1px;}#sk-container-id-1 div.sk-estimator {font-family: monospace;background-color: #f0f8ff;border: 1px dotted black;border-radius: 0.25em;box-sizing: border-box;margin-bottom: 0.5em;}#sk-container-id-1 div.sk-estimator:hover {background-color: #d4ebff;}#sk-container-id-1 div.sk-parallel-item::after {content: \"\";width: 100%;border-bottom: 1px solid gray;flex-grow: 1;}#sk-container-id-1 div.sk-label:hover label.sk-toggleable__label {background-color: #d4ebff;}#sk-container-id-1 div.sk-serial::before {content: \"\";position: absolute;border-left: 1px solid gray;box-sizing: border-box;top: 0;bottom: 0;left: 50%;z-index: 0;}#sk-container-id-1 div.sk-serial {display: flex;flex-direction: column;align-items: center;background-color: white;padding-right: 0.2em;padding-left: 0.2em;position: relative;}#sk-container-id-1 div.sk-item {position: relative;z-index: 1;}#sk-container-id-1 div.sk-parallel {display: flex;align-items: stretch;justify-content: center;background-color: white;position: relative;}#sk-container-id-1 div.sk-item::before, #sk-container-id-1 div.sk-parallel-item::before {content: \"\";position: absolute;border-left: 1px solid gray;box-sizing: border-box;top: 0;bottom: 0;left: 50%;z-index: -1;}#sk-container-id-1 div.sk-parallel-item {display: flex;flex-direction: column;z-index: 1;position: relative;background-color: white;}#sk-container-id-1 div.sk-parallel-item:first-child::after {align-self: flex-end;width: 50%;}#sk-container-id-1 div.sk-parallel-item:last-child::after {align-self: flex-start;width: 50%;}#sk-container-id-1 div.sk-parallel-item:only-child::after {width: 0;}#sk-container-id-1 div.sk-dashed-wrapped {border: 1px dashed gray;margin: 0 0.4em 0.5em 0.4em;box-sizing: border-box;padding-bottom: 0.4em;background-color: white;}#sk-container-id-1 div.sk-label label {font-family: monospace;font-weight: bold;display: inline-block;line-height: 1.2em;}#sk-container-id-1 div.sk-label-container {text-align: center;}#sk-container-id-1 div.sk-container {/* jupyter's `normalize.less` sets `[hidden] { display: none; }` but bootstrap.min.css set `[hidden] { display: none !important; }` so we also need the `!important` here to be able to override the default hidden behavior on the sphinx rendered scikit-learn.org. See: https://github.com/scikit-learn/scikit-learn/issues/21755 */display: inline-block !important;position: relative;}#sk-container-id-1 div.sk-text-repr-fallback {display: none;}</style><div id=\"sk-container-id-1\" class=\"sk-top-container\"><div class=\"sk-text-repr-fallback\"><pre>LinearRegression()</pre><b>In a Jupyter environment, please rerun this cell to show the HTML representation or trust the notebook. <br />On GitHub, the HTML representation is unable to render, please try loading this page with nbviewer.org.</b></div><div class=\"sk-container\" hidden><div class=\"sk-item\"><div class=\"sk-estimator sk-toggleable\"><input class=\"sk-toggleable__control sk-hidden--visually\" id=\"sk-estimator-id-1\" type=\"checkbox\" checked><label for=\"sk-estimator-id-1\" class=\"sk-toggleable__label sk-toggleable__label-arrow\">LinearRegression</label><div class=\"sk-toggleable__content\"><pre>LinearRegression()</pre></div></div></div></div></div>"
      ],
      "text/plain": [
       "LinearRegression()"
      ]
     },
     "execution_count": 9,
     "metadata": {},
     "output_type": "execute_result"
    }
   ],
   "source": [
    "#create linear regression object\n",
    "reg = linear_model.LinearRegression() #instance the linear regression model\n",
    "reg.fit(area,price)#fitting data into regression model(training)"
   ]
  },
  {
   "cell_type": "code",
   "execution_count": 10,
   "id": "03907e0b",
   "metadata": {
    "execution": {
     "iopub.execute_input": "2023-11-26T13:58:55.309161Z",
     "iopub.status.busy": "2023-11-26T13:58:55.308654Z",
     "iopub.status.idle": "2023-11-26T13:58:55.317492Z",
     "shell.execute_reply": "2023-11-26T13:58:55.315965Z"
    },
    "papermill": {
     "duration": 0.023293,
     "end_time": "2023-11-26T13:58:55.320656",
     "exception": false,
     "start_time": "2023-11-26T13:58:55.297363",
     "status": "completed"
    },
    "tags": []
   },
   "outputs": [
    {
     "data": {
      "text/plain": [
       "array([628715.75342466])"
      ]
     },
     "execution_count": 10,
     "metadata": {},
     "output_type": "execute_result"
    }
   ],
   "source": [
    "#Predict any price by give it an area \n",
    "reg.predict([[3300]])"
   ]
  },
  {
   "cell_type": "code",
   "execution_count": 11,
   "id": "5d2139dd",
   "metadata": {
    "execution": {
     "iopub.execute_input": "2023-11-26T13:58:55.344735Z",
     "iopub.status.busy": "2023-11-26T13:58:55.344277Z",
     "iopub.status.idle": "2023-11-26T13:58:55.353492Z",
     "shell.execute_reply": "2023-11-26T13:58:55.351827Z"
    },
    "papermill": {
     "duration": 0.024375,
     "end_time": "2023-11-26T13:58:55.356177",
     "exception": false,
     "start_time": "2023-11-26T13:58:55.331802",
     "status": "completed"
    },
    "tags": []
   },
   "outputs": [
    {
     "data": {
      "text/plain": [
       "628715.8"
      ]
     },
     "execution_count": 11,
     "metadata": {},
     "output_type": "execute_result"
    }
   ],
   "source": [
    "round(float(reg.predict([[3300]])),1)"
   ]
  },
  {
   "cell_type": "code",
   "execution_count": 12,
   "id": "e4a3e035",
   "metadata": {
    "execution": {
     "iopub.execute_input": "2023-11-26T13:58:55.379621Z",
     "iopub.status.busy": "2023-11-26T13:58:55.379206Z",
     "iopub.status.idle": "2023-11-26T13:58:55.387663Z",
     "shell.execute_reply": "2023-11-26T13:58:55.386271Z"
    },
    "papermill": {
     "duration": 0.024028,
     "end_time": "2023-11-26T13:58:55.390243",
     "exception": false,
     "start_time": "2023-11-26T13:58:55.366215",
     "status": "completed"
    },
    "tags": []
   },
   "outputs": [
    {
     "data": {
      "text/plain": [
       "array([479349.31506849, 587979.45205479, 723767.12328767])"
      ]
     },
     "execution_count": 12,
     "metadata": {},
     "output_type": "execute_result"
    }
   ],
   "source": [
    "reg.predict([[2200], [3000], [4000]])"
   ]
  },
  {
   "cell_type": "code",
   "execution_count": 13,
   "id": "6c4e3147",
   "metadata": {
    "execution": {
     "iopub.execute_input": "2023-11-26T13:58:55.413909Z",
     "iopub.status.busy": "2023-11-26T13:58:55.413476Z",
     "iopub.status.idle": "2023-11-26T13:58:55.423194Z",
     "shell.execute_reply": "2023-11-26T13:58:55.422008Z"
    },
    "papermill": {
     "duration": 0.024257,
     "end_time": "2023-11-26T13:58:55.425455",
     "exception": false,
     "start_time": "2023-11-26T13:58:55.401198",
     "status": "completed"
    },
    "tags": []
   },
   "outputs": [
    {
     "data": {
      "text/plain": [
       "0.9584301138199486"
      ]
     },
     "execution_count": 13,
     "metadata": {},
     "output_type": "execute_result"
    }
   ],
   "source": [
    "#Calculate accuracy \n",
    "reg.score(area,price) #model.score(x,y) x=features y=target "
   ]
  },
  {
   "cell_type": "code",
   "execution_count": 14,
   "id": "a87065d3",
   "metadata": {
    "execution": {
     "iopub.execute_input": "2023-11-26T13:58:55.449974Z",
     "iopub.status.busy": "2023-11-26T13:58:55.449458Z",
     "iopub.status.idle": "2023-11-26T13:58:55.458030Z",
     "shell.execute_reply": "2023-11-26T13:58:55.456690Z"
    },
    "papermill": {
     "duration": 0.024603,
     "end_time": "2023-11-26T13:58:55.461477",
     "exception": false,
     "start_time": "2023-11-26T13:58:55.436874",
     "status": "completed"
    },
    "tags": []
   },
   "outputs": [
    {
     "data": {
      "text/plain": [
       "array([135.78767123])"
      ]
     },
     "execution_count": 14,
     "metadata": {},
     "output_type": "execute_result"
    }
   ],
   "source": [
    "# to get the slope (m)\n",
    "reg.coef_"
   ]
  },
  {
   "cell_type": "code",
   "execution_count": 15,
   "id": "ace4d00f",
   "metadata": {
    "execution": {
     "iopub.execute_input": "2023-11-26T13:58:55.485270Z",
     "iopub.status.busy": "2023-11-26T13:58:55.484859Z",
     "iopub.status.idle": "2023-11-26T13:58:55.491521Z",
     "shell.execute_reply": "2023-11-26T13:58:55.490292Z"
    },
    "papermill": {
     "duration": 0.022269,
     "end_time": "2023-11-26T13:58:55.494448",
     "exception": false,
     "start_time": "2023-11-26T13:58:55.472179",
     "status": "completed"
    },
    "tags": []
   },
   "outputs": [
    {
     "data": {
      "text/plain": [
       "180616.43835616432"
      ]
     },
     "execution_count": 15,
     "metadata": {},
     "output_type": "execute_result"
    }
   ],
   "source": [
    "#to get the intercept (b)\n",
    "reg.intercept_"
   ]
  },
  {
   "cell_type": "code",
   "execution_count": 16,
   "id": "82061c65",
   "metadata": {
    "execution": {
     "iopub.execute_input": "2023-11-26T13:58:55.517947Z",
     "iopub.status.busy": "2023-11-26T13:58:55.517460Z",
     "iopub.status.idle": "2023-11-26T13:58:55.545722Z",
     "shell.execute_reply": "2023-11-26T13:58:55.544369Z"
    },
    "papermill": {
     "duration": 0.043402,
     "end_time": "2023-11-26T13:58:55.548545",
     "exception": false,
     "start_time": "2023-11-26T13:58:55.505143",
     "status": "completed"
    },
    "tags": []
   },
   "outputs": [
    {
     "data": {
      "text/html": [
       "<div>\n",
       "<style scoped>\n",
       "    .dataframe tbody tr th:only-of-type {\n",
       "        vertical-align: middle;\n",
       "    }\n",
       "\n",
       "    .dataframe tbody tr th {\n",
       "        vertical-align: top;\n",
       "    }\n",
       "\n",
       "    .dataframe thead th {\n",
       "        text-align: right;\n",
       "    }\n",
       "</style>\n",
       "<table border=\"1\" class=\"dataframe\">\n",
       "  <thead>\n",
       "    <tr style=\"text-align: right;\">\n",
       "      <th></th>\n",
       "      <th>area</th>\n",
       "      <th>bedrooms</th>\n",
       "      <th>age</th>\n",
       "      <th>price</th>\n",
       "    </tr>\n",
       "  </thead>\n",
       "  <tbody>\n",
       "    <tr>\n",
       "      <th>0</th>\n",
       "      <td>2600</td>\n",
       "      <td>3.0</td>\n",
       "      <td>20</td>\n",
       "      <td>550000</td>\n",
       "    </tr>\n",
       "    <tr>\n",
       "      <th>1</th>\n",
       "      <td>3000</td>\n",
       "      <td>4.0</td>\n",
       "      <td>15</td>\n",
       "      <td>565000</td>\n",
       "    </tr>\n",
       "    <tr>\n",
       "      <th>2</th>\n",
       "      <td>3200</td>\n",
       "      <td>NaN</td>\n",
       "      <td>18</td>\n",
       "      <td>610000</td>\n",
       "    </tr>\n",
       "    <tr>\n",
       "      <th>3</th>\n",
       "      <td>3600</td>\n",
       "      <td>3.0</td>\n",
       "      <td>30</td>\n",
       "      <td>595000</td>\n",
       "    </tr>\n",
       "    <tr>\n",
       "      <th>4</th>\n",
       "      <td>4000</td>\n",
       "      <td>5.0</td>\n",
       "      <td>8</td>\n",
       "      <td>760000</td>\n",
       "    </tr>\n",
       "    <tr>\n",
       "      <th>5</th>\n",
       "      <td>4100</td>\n",
       "      <td>6.0</td>\n",
       "      <td>8</td>\n",
       "      <td>810000</td>\n",
       "    </tr>\n",
       "  </tbody>\n",
       "</table>\n",
       "</div>"
      ],
      "text/plain": [
       "   area  bedrooms  age   price\n",
       "0  2600       3.0   20  550000\n",
       "1  3000       4.0   15  565000\n",
       "2  3200       NaN   18  610000\n",
       "3  3600       3.0   30  595000\n",
       "4  4000       5.0    8  760000\n",
       "5  4100       6.0    8  810000"
      ]
     },
     "execution_count": 16,
     "metadata": {},
     "output_type": "execute_result"
    }
   ],
   "source": [
    "df2 = pd.read_csv(\"/kaggle/input/houses-price-2/homeprices.csv\")\n",
    "df2"
   ]
  },
  {
   "cell_type": "markdown",
   "id": "a733dfc9",
   "metadata": {
    "papermill": {
     "duration": 0.011688,
     "end_time": "2023-11-26T13:58:55.570943",
     "exception": false,
     "start_time": "2023-11-26T13:58:55.559255",
     "status": "completed"
    },
    "tags": []
   },
   "source": [
    "<img src=\"https://raw.githubusercontent.com/codebasics/py/801ee0ee4d342fd22b89915dc0c4864250a0ec10/ML/2_linear_reg_multivariate/equation.jpg\" style=\"width:600px;height:370px\" >"
   ]
  },
  {
   "cell_type": "code",
   "execution_count": 17,
   "id": "8edb69a2",
   "metadata": {
    "execution": {
     "iopub.execute_input": "2023-11-26T13:58:55.667136Z",
     "iopub.status.busy": "2023-11-26T13:58:55.666532Z",
     "iopub.status.idle": "2023-11-26T13:58:55.693712Z",
     "shell.execute_reply": "2023-11-26T13:58:55.692262Z"
    },
    "papermill": {
     "duration": 0.113931,
     "end_time": "2023-11-26T13:58:55.696711",
     "exception": false,
     "start_time": "2023-11-26T13:58:55.582780",
     "status": "completed"
    },
    "tags": []
   },
   "outputs": [
    {
     "name": "stdout",
     "output_type": "stream",
     "text": [
      "<class 'pandas.core.frame.DataFrame'>\n",
      "RangeIndex: 6 entries, 0 to 5\n",
      "Data columns (total 4 columns):\n",
      " #   Column    Non-Null Count  Dtype  \n",
      "---  ------    --------------  -----  \n",
      " 0   area      6 non-null      int64  \n",
      " 1   bedrooms  5 non-null      float64\n",
      " 2   age       6 non-null      int64  \n",
      " 3   price     6 non-null      int64  \n",
      "dtypes: float64(1), int64(3)\n",
      "memory usage: 320.0 bytes\n"
     ]
    }
   ],
   "source": [
    "df2.info()"
   ]
  },
  {
   "cell_type": "code",
   "execution_count": 18,
   "id": "e06c8222",
   "metadata": {
    "execution": {
     "iopub.execute_input": "2023-11-26T13:58:55.722157Z",
     "iopub.status.busy": "2023-11-26T13:58:55.721497Z",
     "iopub.status.idle": "2023-11-26T13:58:55.731169Z",
     "shell.execute_reply": "2023-11-26T13:58:55.729924Z"
    },
    "papermill": {
     "duration": 0.026325,
     "end_time": "2023-11-26T13:58:55.734122",
     "exception": false,
     "start_time": "2023-11-26T13:58:55.707797",
     "status": "completed"
    },
    "tags": []
   },
   "outputs": [
    {
     "data": {
      "text/plain": [
       "4.0"
      ]
     },
     "execution_count": 18,
     "metadata": {},
     "output_type": "execute_result"
    }
   ],
   "source": [
    "df2.bedrooms.median()"
   ]
  },
  {
   "cell_type": "code",
   "execution_count": 19,
   "id": "2f989a0f",
   "metadata": {
    "execution": {
     "iopub.execute_input": "2023-11-26T13:58:55.760595Z",
     "iopub.status.busy": "2023-11-26T13:58:55.760208Z",
     "iopub.status.idle": "2023-11-26T13:58:55.772047Z",
     "shell.execute_reply": "2023-11-26T13:58:55.771150Z"
    },
    "papermill": {
     "duration": 0.02856,
     "end_time": "2023-11-26T13:58:55.775531",
     "exception": false,
     "start_time": "2023-11-26T13:58:55.746971",
     "status": "completed"
    },
    "tags": []
   },
   "outputs": [
    {
     "data": {
      "text/html": [
       "<div>\n",
       "<style scoped>\n",
       "    .dataframe tbody tr th:only-of-type {\n",
       "        vertical-align: middle;\n",
       "    }\n",
       "\n",
       "    .dataframe tbody tr th {\n",
       "        vertical-align: top;\n",
       "    }\n",
       "\n",
       "    .dataframe thead th {\n",
       "        text-align: right;\n",
       "    }\n",
       "</style>\n",
       "<table border=\"1\" class=\"dataframe\">\n",
       "  <thead>\n",
       "    <tr style=\"text-align: right;\">\n",
       "      <th></th>\n",
       "      <th>area</th>\n",
       "      <th>bedrooms</th>\n",
       "      <th>age</th>\n",
       "      <th>price</th>\n",
       "    </tr>\n",
       "  </thead>\n",
       "  <tbody>\n",
       "    <tr>\n",
       "      <th>0</th>\n",
       "      <td>2600</td>\n",
       "      <td>3.0</td>\n",
       "      <td>20</td>\n",
       "      <td>550000</td>\n",
       "    </tr>\n",
       "    <tr>\n",
       "      <th>1</th>\n",
       "      <td>3000</td>\n",
       "      <td>4.0</td>\n",
       "      <td>15</td>\n",
       "      <td>565000</td>\n",
       "    </tr>\n",
       "    <tr>\n",
       "      <th>2</th>\n",
       "      <td>3200</td>\n",
       "      <td>4.0</td>\n",
       "      <td>18</td>\n",
       "      <td>610000</td>\n",
       "    </tr>\n",
       "    <tr>\n",
       "      <th>3</th>\n",
       "      <td>3600</td>\n",
       "      <td>3.0</td>\n",
       "      <td>30</td>\n",
       "      <td>595000</td>\n",
       "    </tr>\n",
       "    <tr>\n",
       "      <th>4</th>\n",
       "      <td>4000</td>\n",
       "      <td>5.0</td>\n",
       "      <td>8</td>\n",
       "      <td>760000</td>\n",
       "    </tr>\n",
       "    <tr>\n",
       "      <th>5</th>\n",
       "      <td>4100</td>\n",
       "      <td>6.0</td>\n",
       "      <td>8</td>\n",
       "      <td>810000</td>\n",
       "    </tr>\n",
       "  </tbody>\n",
       "</table>\n",
       "</div>"
      ],
      "text/plain": [
       "   area  bedrooms  age   price\n",
       "0  2600       3.0   20  550000\n",
       "1  3000       4.0   15  565000\n",
       "2  3200       4.0   18  610000\n",
       "3  3600       3.0   30  595000\n",
       "4  4000       5.0    8  760000\n",
       "5  4100       6.0    8  810000"
      ]
     },
     "execution_count": 19,
     "metadata": {},
     "output_type": "execute_result"
    }
   ],
   "source": [
    "#fill the missing value by the median \n",
    "df2.bedrooms.fillna(df2.bedrooms.median(), inplace=True)\n",
    "df2"
   ]
  },
  {
   "cell_type": "code",
   "execution_count": 20,
   "id": "52cd8129",
   "metadata": {
    "execution": {
     "iopub.execute_input": "2023-11-26T13:58:55.800286Z",
     "iopub.status.busy": "2023-11-26T13:58:55.798832Z",
     "iopub.status.idle": "2023-11-26T13:58:55.805779Z",
     "shell.execute_reply": "2023-11-26T13:58:55.804863Z"
    },
    "papermill": {
     "duration": 0.022112,
     "end_time": "2023-11-26T13:58:55.808608",
     "exception": false,
     "start_time": "2023-11-26T13:58:55.786496",
     "status": "completed"
    },
    "tags": []
   },
   "outputs": [],
   "source": [
    "x = df2.drop(\"price\", axis=\"columns\")\n",
    "y = df2.price "
   ]
  },
  {
   "cell_type": "code",
   "execution_count": 21,
   "id": "1d8510a6",
   "metadata": {
    "execution": {
     "iopub.execute_input": "2023-11-26T13:58:55.833545Z",
     "iopub.status.busy": "2023-11-26T13:58:55.833123Z",
     "iopub.status.idle": "2023-11-26T13:58:55.845108Z",
     "shell.execute_reply": "2023-11-26T13:58:55.843686Z"
    },
    "papermill": {
     "duration": 0.026939,
     "end_time": "2023-11-26T13:58:55.847633",
     "exception": false,
     "start_time": "2023-11-26T13:58:55.820694",
     "status": "completed"
    },
    "tags": []
   },
   "outputs": [
    {
     "data": {
      "text/html": [
       "<div>\n",
       "<style scoped>\n",
       "    .dataframe tbody tr th:only-of-type {\n",
       "        vertical-align: middle;\n",
       "    }\n",
       "\n",
       "    .dataframe tbody tr th {\n",
       "        vertical-align: top;\n",
       "    }\n",
       "\n",
       "    .dataframe thead th {\n",
       "        text-align: right;\n",
       "    }\n",
       "</style>\n",
       "<table border=\"1\" class=\"dataframe\">\n",
       "  <thead>\n",
       "    <tr style=\"text-align: right;\">\n",
       "      <th></th>\n",
       "      <th>area</th>\n",
       "      <th>bedrooms</th>\n",
       "      <th>age</th>\n",
       "    </tr>\n",
       "  </thead>\n",
       "  <tbody>\n",
       "    <tr>\n",
       "      <th>0</th>\n",
       "      <td>2600</td>\n",
       "      <td>3.0</td>\n",
       "      <td>20</td>\n",
       "    </tr>\n",
       "    <tr>\n",
       "      <th>1</th>\n",
       "      <td>3000</td>\n",
       "      <td>4.0</td>\n",
       "      <td>15</td>\n",
       "    </tr>\n",
       "    <tr>\n",
       "      <th>2</th>\n",
       "      <td>3200</td>\n",
       "      <td>4.0</td>\n",
       "      <td>18</td>\n",
       "    </tr>\n",
       "    <tr>\n",
       "      <th>3</th>\n",
       "      <td>3600</td>\n",
       "      <td>3.0</td>\n",
       "      <td>30</td>\n",
       "    </tr>\n",
       "    <tr>\n",
       "      <th>4</th>\n",
       "      <td>4000</td>\n",
       "      <td>5.0</td>\n",
       "      <td>8</td>\n",
       "    </tr>\n",
       "    <tr>\n",
       "      <th>5</th>\n",
       "      <td>4100</td>\n",
       "      <td>6.0</td>\n",
       "      <td>8</td>\n",
       "    </tr>\n",
       "  </tbody>\n",
       "</table>\n",
       "</div>"
      ],
      "text/plain": [
       "   area  bedrooms  age\n",
       "0  2600       3.0   20\n",
       "1  3000       4.0   15\n",
       "2  3200       4.0   18\n",
       "3  3600       3.0   30\n",
       "4  4000       5.0    8\n",
       "5  4100       6.0    8"
      ]
     },
     "execution_count": 21,
     "metadata": {},
     "output_type": "execute_result"
    }
   ],
   "source": [
    "x"
   ]
  },
  {
   "cell_type": "code",
   "execution_count": 22,
   "id": "731ab7e1",
   "metadata": {
    "execution": {
     "iopub.execute_input": "2023-11-26T13:58:55.875139Z",
     "iopub.status.busy": "2023-11-26T13:58:55.874679Z",
     "iopub.status.idle": "2023-11-26T13:58:55.882707Z",
     "shell.execute_reply": "2023-11-26T13:58:55.881534Z"
    },
    "papermill": {
     "duration": 0.024694,
     "end_time": "2023-11-26T13:58:55.885766",
     "exception": false,
     "start_time": "2023-11-26T13:58:55.861072",
     "status": "completed"
    },
    "tags": []
   },
   "outputs": [
    {
     "data": {
      "text/plain": [
       "0    550000\n",
       "1    565000\n",
       "2    610000\n",
       "3    595000\n",
       "4    760000\n",
       "5    810000\n",
       "Name: price, dtype: int64"
      ]
     },
     "execution_count": 22,
     "metadata": {},
     "output_type": "execute_result"
    }
   ],
   "source": [
    "y"
   ]
  },
  {
   "cell_type": "code",
   "execution_count": 23,
   "id": "141b7d87",
   "metadata": {
    "execution": {
     "iopub.execute_input": "2023-11-26T13:58:55.912171Z",
     "iopub.status.busy": "2023-11-26T13:58:55.911656Z",
     "iopub.status.idle": "2023-11-26T13:58:55.932090Z",
     "shell.execute_reply": "2023-11-26T13:58:55.930614Z"
    },
    "papermill": {
     "duration": 0.036769,
     "end_time": "2023-11-26T13:58:55.935471",
     "exception": false,
     "start_time": "2023-11-26T13:58:55.898702",
     "status": "completed"
    },
    "tags": []
   },
   "outputs": [
    {
     "data": {
      "text/html": [
       "<style>#sk-container-id-2 {color: black;background-color: white;}#sk-container-id-2 pre{padding: 0;}#sk-container-id-2 div.sk-toggleable {background-color: white;}#sk-container-id-2 label.sk-toggleable__label {cursor: pointer;display: block;width: 100%;margin-bottom: 0;padding: 0.3em;box-sizing: border-box;text-align: center;}#sk-container-id-2 label.sk-toggleable__label-arrow:before {content: \"▸\";float: left;margin-right: 0.25em;color: #696969;}#sk-container-id-2 label.sk-toggleable__label-arrow:hover:before {color: black;}#sk-container-id-2 div.sk-estimator:hover label.sk-toggleable__label-arrow:before {color: black;}#sk-container-id-2 div.sk-toggleable__content {max-height: 0;max-width: 0;overflow: hidden;text-align: left;background-color: #f0f8ff;}#sk-container-id-2 div.sk-toggleable__content pre {margin: 0.2em;color: black;border-radius: 0.25em;background-color: #f0f8ff;}#sk-container-id-2 input.sk-toggleable__control:checked~div.sk-toggleable__content {max-height: 200px;max-width: 100%;overflow: auto;}#sk-container-id-2 input.sk-toggleable__control:checked~label.sk-toggleable__label-arrow:before {content: \"▾\";}#sk-container-id-2 div.sk-estimator input.sk-toggleable__control:checked~label.sk-toggleable__label {background-color: #d4ebff;}#sk-container-id-2 div.sk-label input.sk-toggleable__control:checked~label.sk-toggleable__label {background-color: #d4ebff;}#sk-container-id-2 input.sk-hidden--visually {border: 0;clip: rect(1px 1px 1px 1px);clip: rect(1px, 1px, 1px, 1px);height: 1px;margin: -1px;overflow: hidden;padding: 0;position: absolute;width: 1px;}#sk-container-id-2 div.sk-estimator {font-family: monospace;background-color: #f0f8ff;border: 1px dotted black;border-radius: 0.25em;box-sizing: border-box;margin-bottom: 0.5em;}#sk-container-id-2 div.sk-estimator:hover {background-color: #d4ebff;}#sk-container-id-2 div.sk-parallel-item::after {content: \"\";width: 100%;border-bottom: 1px solid gray;flex-grow: 1;}#sk-container-id-2 div.sk-label:hover label.sk-toggleable__label {background-color: #d4ebff;}#sk-container-id-2 div.sk-serial::before {content: \"\";position: absolute;border-left: 1px solid gray;box-sizing: border-box;top: 0;bottom: 0;left: 50%;z-index: 0;}#sk-container-id-2 div.sk-serial {display: flex;flex-direction: column;align-items: center;background-color: white;padding-right: 0.2em;padding-left: 0.2em;position: relative;}#sk-container-id-2 div.sk-item {position: relative;z-index: 1;}#sk-container-id-2 div.sk-parallel {display: flex;align-items: stretch;justify-content: center;background-color: white;position: relative;}#sk-container-id-2 div.sk-item::before, #sk-container-id-2 div.sk-parallel-item::before {content: \"\";position: absolute;border-left: 1px solid gray;box-sizing: border-box;top: 0;bottom: 0;left: 50%;z-index: -1;}#sk-container-id-2 div.sk-parallel-item {display: flex;flex-direction: column;z-index: 1;position: relative;background-color: white;}#sk-container-id-2 div.sk-parallel-item:first-child::after {align-self: flex-end;width: 50%;}#sk-container-id-2 div.sk-parallel-item:last-child::after {align-self: flex-start;width: 50%;}#sk-container-id-2 div.sk-parallel-item:only-child::after {width: 0;}#sk-container-id-2 div.sk-dashed-wrapped {border: 1px dashed gray;margin: 0 0.4em 0.5em 0.4em;box-sizing: border-box;padding-bottom: 0.4em;background-color: white;}#sk-container-id-2 div.sk-label label {font-family: monospace;font-weight: bold;display: inline-block;line-height: 1.2em;}#sk-container-id-2 div.sk-label-container {text-align: center;}#sk-container-id-2 div.sk-container {/* jupyter's `normalize.less` sets `[hidden] { display: none; }` but bootstrap.min.css set `[hidden] { display: none !important; }` so we also need the `!important` here to be able to override the default hidden behavior on the sphinx rendered scikit-learn.org. See: https://github.com/scikit-learn/scikit-learn/issues/21755 */display: inline-block !important;position: relative;}#sk-container-id-2 div.sk-text-repr-fallback {display: none;}</style><div id=\"sk-container-id-2\" class=\"sk-top-container\"><div class=\"sk-text-repr-fallback\"><pre>LinearRegression()</pre><b>In a Jupyter environment, please rerun this cell to show the HTML representation or trust the notebook. <br />On GitHub, the HTML representation is unable to render, please try loading this page with nbviewer.org.</b></div><div class=\"sk-container\" hidden><div class=\"sk-item\"><div class=\"sk-estimator sk-toggleable\"><input class=\"sk-toggleable__control sk-hidden--visually\" id=\"sk-estimator-id-2\" type=\"checkbox\" checked><label for=\"sk-estimator-id-2\" class=\"sk-toggleable__label sk-toggleable__label-arrow\">LinearRegression</label><div class=\"sk-toggleable__content\"><pre>LinearRegression()</pre></div></div></div></div></div>"
      ],
      "text/plain": [
       "LinearRegression()"
      ]
     },
     "execution_count": 23,
     "metadata": {},
     "output_type": "execute_result"
    }
   ],
   "source": [
    "model = linear_model.LinearRegression()\n",
    "model.fit(x,y)"
   ]
  },
  {
   "cell_type": "code",
   "execution_count": 24,
   "id": "f49b85c2",
   "metadata": {
    "execution": {
     "iopub.execute_input": "2023-11-26T13:58:55.962442Z",
     "iopub.status.busy": "2023-11-26T13:58:55.961999Z",
     "iopub.status.idle": "2023-11-26T13:58:55.968680Z",
     "shell.execute_reply": "2023-11-26T13:58:55.967823Z"
    },
    "papermill": {
     "duration": 0.024068,
     "end_time": "2023-11-26T13:58:55.971702",
     "exception": false,
     "start_time": "2023-11-26T13:58:55.947634",
     "status": "completed"
    },
    "tags": []
   },
   "outputs": [
    {
     "data": {
      "text/plain": [
       "array([  112.06244194, 23388.88007794, -3231.71790863])"
      ]
     },
     "execution_count": 24,
     "metadata": {},
     "output_type": "execute_result"
    }
   ],
   "source": [
    "model.coef_"
   ]
  },
  {
   "cell_type": "markdown",
   "id": "9790f289",
   "metadata": {
    "papermill": {
     "duration": 0.013418,
     "end_time": "2023-11-26T13:58:55.998840",
     "exception": false,
     "start_time": "2023-11-26T13:58:55.985422",
     "status": "completed"
    },
    "tags": []
   },
   "source": [
    "# m1 = 112.06244194\n",
    "# m2 = 23388.88007794\n",
    "# m3 = -3231.71790863"
   ]
  },
  {
   "cell_type": "code",
   "execution_count": 25,
   "id": "32afc09d",
   "metadata": {
    "execution": {
     "iopub.execute_input": "2023-11-26T13:58:56.025533Z",
     "iopub.status.busy": "2023-11-26T13:58:56.025107Z",
     "iopub.status.idle": "2023-11-26T13:58:56.032589Z",
     "shell.execute_reply": "2023-11-26T13:58:56.031099Z"
    },
    "papermill": {
     "duration": 0.024394,
     "end_time": "2023-11-26T13:58:56.035493",
     "exception": false,
     "start_time": "2023-11-26T13:58:56.011099",
     "status": "completed"
    },
    "tags": []
   },
   "outputs": [
    {
     "data": {
      "text/plain": [
       "221323.00186540396"
      ]
     },
     "execution_count": 25,
     "metadata": {},
     "output_type": "execute_result"
    }
   ],
   "source": [
    "model.intercept_"
   ]
  },
  {
   "cell_type": "code",
   "execution_count": 26,
   "id": "4881d878",
   "metadata": {
    "execution": {
     "iopub.execute_input": "2023-11-26T13:58:56.064564Z",
     "iopub.status.busy": "2023-11-26T13:58:56.064127Z",
     "iopub.status.idle": "2023-11-26T13:58:56.072461Z",
     "shell.execute_reply": "2023-11-26T13:58:56.071340Z"
    },
    "papermill": {
     "duration": 0.026337,
     "end_time": "2023-11-26T13:58:56.074809",
     "exception": false,
     "start_time": "2023-11-26T13:58:56.048472",
     "status": "completed"
    },
    "tags": []
   },
   "outputs": [
    {
     "data": {
      "text/plain": [
       "array([498408.25158031])"
      ]
     },
     "execution_count": 26,
     "metadata": {},
     "output_type": "execute_result"
    }
   ],
   "source": [
    "# ([[area, bedrooms, age]])\n",
    "model.predict([[3000, 3, 40]]) "
   ]
  },
  {
   "cell_type": "code",
   "execution_count": 27,
   "id": "755fdf0f",
   "metadata": {
    "execution": {
     "iopub.execute_input": "2023-11-26T13:58:56.102154Z",
     "iopub.status.busy": "2023-11-26T13:58:56.101680Z",
     "iopub.status.idle": "2023-11-26T13:58:56.112357Z",
     "shell.execute_reply": "2023-11-26T13:58:56.110979Z"
    },
    "papermill": {
     "duration": 0.028308,
     "end_time": "2023-11-26T13:58:56.115870",
     "exception": false,
     "start_time": "2023-11-26T13:58:56.087562",
     "status": "completed"
    },
    "tags": []
   },
   "outputs": [
    {
     "data": {
      "text/plain": [
       "0.9550196399325821"
      ]
     },
     "execution_count": 27,
     "metadata": {},
     "output_type": "execute_result"
    }
   ],
   "source": [
    "model.score(x,y)"
   ]
  },
  {
   "cell_type": "code",
   "execution_count": null,
   "id": "771495f5",
   "metadata": {
    "papermill": {
     "duration": 0.013271,
     "end_time": "2023-11-26T13:58:56.141798",
     "exception": false,
     "start_time": "2023-11-26T13:58:56.128527",
     "status": "completed"
    },
    "tags": []
   },
   "outputs": [],
   "source": []
  },
  {
   "cell_type": "code",
   "execution_count": null,
   "id": "c4b03f0c",
   "metadata": {
    "papermill": {
     "duration": 0.013192,
     "end_time": "2023-11-26T13:58:56.168648",
     "exception": false,
     "start_time": "2023-11-26T13:58:56.155456",
     "status": "completed"
    },
    "tags": []
   },
   "outputs": [],
   "source": []
  },
  {
   "cell_type": "code",
   "execution_count": null,
   "id": "7b82156a",
   "metadata": {
    "papermill": {
     "duration": 0.012036,
     "end_time": "2023-11-26T13:58:56.195156",
     "exception": false,
     "start_time": "2023-11-26T13:58:56.183120",
     "status": "completed"
    },
    "tags": []
   },
   "outputs": [],
   "source": []
  }
 ],
 "metadata": {
  "kaggle": {
   "accelerator": "none",
   "dataSources": [
    {
     "datasetId": 4062022,
     "sourceId": 7056832,
     "sourceType": "datasetVersion"
    },
    {
     "datasetId": 4062230,
     "sourceId": 7057109,
     "sourceType": "datasetVersion"
    }
   ],
   "dockerImageVersionId": 30587,
   "isGpuEnabled": false,
   "isInternetEnabled": true,
   "language": "python",
   "sourceType": "notebook"
  },
  "kernelspec": {
   "display_name": "Python 3",
   "language": "python",
   "name": "python3"
  },
  "language_info": {
   "codemirror_mode": {
    "name": "ipython",
    "version": 3
   },
   "file_extension": ".py",
   "mimetype": "text/x-python",
   "name": "python",
   "nbconvert_exporter": "python",
   "pygments_lexer": "ipython3",
   "version": "3.10.12"
  },
  "papermill": {
   "default_parameters": {},
   "duration": 7.702929,
   "end_time": "2023-11-26T13:58:56.929861",
   "environment_variables": {},
   "exception": null,
   "input_path": "__notebook__.ipynb",
   "output_path": "__notebook__.ipynb",
   "parameters": {},
   "start_time": "2023-11-26T13:58:49.226932",
   "version": "2.4.0"
  }
 },
 "nbformat": 4,
 "nbformat_minor": 5
}
