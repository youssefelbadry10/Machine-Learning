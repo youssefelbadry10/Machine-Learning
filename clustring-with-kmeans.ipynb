{
 "cells": [
  {
   "cell_type": "markdown",
   "id": "7215c721",
   "metadata": {
    "papermill": {
     "duration": 0.00822,
     "end_time": "2023-12-28T16:59:48.346765",
     "exception": false,
     "start_time": "2023-12-28T16:59:48.338545",
     "status": "completed"
    },
    "tags": []
   },
   "source": [
    "# **Clustring with K Means**"
   ]
  },
  {
   "cell_type": "markdown",
   "id": "cd828198",
   "metadata": {
    "papermill": {
     "duration": 0.00741,
     "end_time": "2023-12-28T16:59:48.362078",
     "exception": false,
     "start_time": "2023-12-28T16:59:48.354668",
     "status": "completed"
    },
    "tags": []
   },
   "source": [
    "<img src=\"https://static.javatpoint.com/tutorial/machine-learning/images/k-means-clustering-algorithm-in-machine-learning.png\" width=\"700\" height=\"600\" />"
   ]
  },
  {
   "cell_type": "code",
   "execution_count": 1,
   "id": "7bcd1a00",
   "metadata": {
    "execution": {
     "iopub.execute_input": "2023-12-28T16:59:48.380400Z",
     "iopub.status.busy": "2023-12-28T16:59:48.379666Z",
     "iopub.status.idle": "2023-12-28T16:59:50.683244Z",
     "shell.execute_reply": "2023-12-28T16:59:50.682072Z"
    },
    "papermill": {
     "duration": 2.316024,
     "end_time": "2023-12-28T16:59:50.686353",
     "exception": false,
     "start_time": "2023-12-28T16:59:48.370329",
     "status": "completed"
    },
    "tags": []
   },
   "outputs": [],
   "source": [
    "import numpy as np\n",
    "import pandas as pd\n",
    "import matplotlib.pyplot as plt\n",
    "from sklearn.cluster import KMeans\n",
    "from sklearn.preprocessing import MinMaxScaler\n",
    "import warnings\n",
    "warnings.filterwarnings(\"ignore\")"
   ]
  },
  {
   "cell_type": "code",
   "execution_count": 2,
   "id": "6d1766e9",
   "metadata": {
    "execution": {
     "iopub.execute_input": "2023-12-28T16:59:50.704278Z",
     "iopub.status.busy": "2023-12-28T16:59:50.703716Z",
     "iopub.status.idle": "2023-12-28T16:59:50.744468Z",
     "shell.execute_reply": "2023-12-28T16:59:50.743037Z"
    },
    "papermill": {
     "duration": 0.053021,
     "end_time": "2023-12-28T16:59:50.747253",
     "exception": false,
     "start_time": "2023-12-28T16:59:50.694232",
     "status": "completed"
    },
    "tags": []
   },
   "outputs": [
    {
     "data": {
      "text/html": [
       "<div>\n",
       "<style scoped>\n",
       "    .dataframe tbody tr th:only-of-type {\n",
       "        vertical-align: middle;\n",
       "    }\n",
       "\n",
       "    .dataframe tbody tr th {\n",
       "        vertical-align: top;\n",
       "    }\n",
       "\n",
       "    .dataframe thead th {\n",
       "        text-align: right;\n",
       "    }\n",
       "</style>\n",
       "<table border=\"1\" class=\"dataframe\">\n",
       "  <thead>\n",
       "    <tr style=\"text-align: right;\">\n",
       "      <th></th>\n",
       "      <th>Name</th>\n",
       "      <th>Age</th>\n",
       "      <th>Income($)</th>\n",
       "    </tr>\n",
       "  </thead>\n",
       "  <tbody>\n",
       "    <tr>\n",
       "      <th>0</th>\n",
       "      <td>Rob</td>\n",
       "      <td>27</td>\n",
       "      <td>70000</td>\n",
       "    </tr>\n",
       "    <tr>\n",
       "      <th>1</th>\n",
       "      <td>Michael</td>\n",
       "      <td>29</td>\n",
       "      <td>90000</td>\n",
       "    </tr>\n",
       "    <tr>\n",
       "      <th>2</th>\n",
       "      <td>Mohan</td>\n",
       "      <td>29</td>\n",
       "      <td>61000</td>\n",
       "    </tr>\n",
       "    <tr>\n",
       "      <th>3</th>\n",
       "      <td>Ismail</td>\n",
       "      <td>28</td>\n",
       "      <td>60000</td>\n",
       "    </tr>\n",
       "    <tr>\n",
       "      <th>4</th>\n",
       "      <td>Kory</td>\n",
       "      <td>42</td>\n",
       "      <td>150000</td>\n",
       "    </tr>\n",
       "    <tr>\n",
       "      <th>5</th>\n",
       "      <td>Gautam</td>\n",
       "      <td>39</td>\n",
       "      <td>155000</td>\n",
       "    </tr>\n",
       "    <tr>\n",
       "      <th>6</th>\n",
       "      <td>David</td>\n",
       "      <td>41</td>\n",
       "      <td>160000</td>\n",
       "    </tr>\n",
       "    <tr>\n",
       "      <th>7</th>\n",
       "      <td>Andrea</td>\n",
       "      <td>38</td>\n",
       "      <td>162000</td>\n",
       "    </tr>\n",
       "    <tr>\n",
       "      <th>8</th>\n",
       "      <td>Brad</td>\n",
       "      <td>36</td>\n",
       "      <td>156000</td>\n",
       "    </tr>\n",
       "    <tr>\n",
       "      <th>9</th>\n",
       "      <td>Angelina</td>\n",
       "      <td>35</td>\n",
       "      <td>130000</td>\n",
       "    </tr>\n",
       "    <tr>\n",
       "      <th>10</th>\n",
       "      <td>Donald</td>\n",
       "      <td>37</td>\n",
       "      <td>137000</td>\n",
       "    </tr>\n",
       "    <tr>\n",
       "      <th>11</th>\n",
       "      <td>Tom</td>\n",
       "      <td>26</td>\n",
       "      <td>45000</td>\n",
       "    </tr>\n",
       "    <tr>\n",
       "      <th>12</th>\n",
       "      <td>Arnold</td>\n",
       "      <td>27</td>\n",
       "      <td>48000</td>\n",
       "    </tr>\n",
       "    <tr>\n",
       "      <th>13</th>\n",
       "      <td>Jared</td>\n",
       "      <td>28</td>\n",
       "      <td>51000</td>\n",
       "    </tr>\n",
       "    <tr>\n",
       "      <th>14</th>\n",
       "      <td>Stark</td>\n",
       "      <td>29</td>\n",
       "      <td>49500</td>\n",
       "    </tr>\n",
       "    <tr>\n",
       "      <th>15</th>\n",
       "      <td>Ranbir</td>\n",
       "      <td>32</td>\n",
       "      <td>53000</td>\n",
       "    </tr>\n",
       "    <tr>\n",
       "      <th>16</th>\n",
       "      <td>Dipika</td>\n",
       "      <td>40</td>\n",
       "      <td>65000</td>\n",
       "    </tr>\n",
       "    <tr>\n",
       "      <th>17</th>\n",
       "      <td>Priyanka</td>\n",
       "      <td>41</td>\n",
       "      <td>63000</td>\n",
       "    </tr>\n",
       "    <tr>\n",
       "      <th>18</th>\n",
       "      <td>Nick</td>\n",
       "      <td>43</td>\n",
       "      <td>64000</td>\n",
       "    </tr>\n",
       "    <tr>\n",
       "      <th>19</th>\n",
       "      <td>Alia</td>\n",
       "      <td>39</td>\n",
       "      <td>80000</td>\n",
       "    </tr>\n",
       "    <tr>\n",
       "      <th>20</th>\n",
       "      <td>Sid</td>\n",
       "      <td>41</td>\n",
       "      <td>82000</td>\n",
       "    </tr>\n",
       "    <tr>\n",
       "      <th>21</th>\n",
       "      <td>Abdul</td>\n",
       "      <td>39</td>\n",
       "      <td>58000</td>\n",
       "    </tr>\n",
       "  </tbody>\n",
       "</table>\n",
       "</div>"
      ],
      "text/plain": [
       "        Name  Age  Income($)\n",
       "0        Rob   27      70000\n",
       "1    Michael   29      90000\n",
       "2      Mohan   29      61000\n",
       "3     Ismail   28      60000\n",
       "4       Kory   42     150000\n",
       "5     Gautam   39     155000\n",
       "6      David   41     160000\n",
       "7     Andrea   38     162000\n",
       "8       Brad   36     156000\n",
       "9   Angelina   35     130000\n",
       "10    Donald   37     137000\n",
       "11       Tom   26      45000\n",
       "12    Arnold   27      48000\n",
       "13     Jared   28      51000\n",
       "14     Stark   29      49500\n",
       "15    Ranbir   32      53000\n",
       "16    Dipika   40      65000\n",
       "17  Priyanka   41      63000\n",
       "18      Nick   43      64000\n",
       "19      Alia   39      80000\n",
       "20       Sid   41      82000\n",
       "21     Abdul   39      58000"
      ]
     },
     "execution_count": 2,
     "metadata": {},
     "output_type": "execute_result"
    }
   ],
   "source": [
    "df =pd.read_csv(\"/kaggle/input/the-income-of-some-employees/income.csv\")\n",
    "df"
   ]
  },
  {
   "cell_type": "code",
   "execution_count": 3,
   "id": "1c541bab",
   "metadata": {
    "execution": {
     "iopub.execute_input": "2023-12-28T16:59:50.765331Z",
     "iopub.status.busy": "2023-12-28T16:59:50.764926Z",
     "iopub.status.idle": "2023-12-28T16:59:51.121814Z",
     "shell.execute_reply": "2023-12-28T16:59:51.120592Z"
    },
    "papermill": {
     "duration": 0.369036,
     "end_time": "2023-12-28T16:59:51.124640",
     "exception": false,
     "start_time": "2023-12-28T16:59:50.755604",
     "status": "completed"
    },
    "tags": []
   },
   "outputs": [
    {
     "data": {
      "text/plain": [
       "Text(0, 0.5, 'Income($)')"
      ]
     },
     "execution_count": 3,
     "metadata": {},
     "output_type": "execute_result"
    },
    {
     "data": {
      "image/png": "[encoded data removed]",
      "text/plain": [
       "<Figure size 640x480 with 1 Axes>"
      ]
     },
     "metadata": {},
     "output_type": "display_data"
    }
   ],
   "source": [
    "plt.scatter(df.Age, df[\"Income($)\"])\n",
    "plt.xlabel(\"Age\")\n",
    "plt.ylabel(\"Income($)\")"
   ]
  },
  {
   "cell_type": "code",
   "execution_count": 4,
   "id": "a2b06b1e",
   "metadata": {
    "execution": {
     "iopub.execute_input": "2023-12-28T16:59:51.144488Z",
     "iopub.status.busy": "2023-12-28T16:59:51.144101Z",
     "iopub.status.idle": "2023-12-28T16:59:51.227736Z",
     "shell.execute_reply": "2023-12-28T16:59:51.226790Z"
    },
    "papermill": {
     "duration": 0.096688,
     "end_time": "2023-12-28T16:59:51.230435",
     "exception": false,
     "start_time": "2023-12-28T16:59:51.133747",
     "status": "completed"
    },
    "tags": []
   },
   "outputs": [
    {
     "data": {
      "text/plain": [
       "array([2, 2, 0, 0, 1, 1, 1, 1, 1, 1, 1, 0, 0, 0, 0, 0, 0, 0, 0, 2, 2, 0],\n",
       "      dtype=int32)"
      ]
     },
     "execution_count": 4,
     "metadata": {},
     "output_type": "execute_result"
    }
   ],
   "source": [
    "km= KMeans(n_clusters=3)\n",
    "y_predicted= km.fit_predict(df[[\"Age\", \"Income($)\"]])\n",
    "y_predicted"
   ]
  },
  {
   "cell_type": "code",
   "execution_count": 5,
   "id": "d8ca115c",
   "metadata": {
    "execution": {
     "iopub.execute_input": "2023-12-28T16:59:51.252894Z",
     "iopub.status.busy": "2023-12-28T16:59:51.251743Z",
     "iopub.status.idle": "2023-12-28T16:59:51.266680Z",
     "shell.execute_reply": "2023-12-28T16:59:51.265594Z"
    },
    "papermill": {
     "duration": 0.028155,
     "end_time": "2023-12-28T16:59:51.268986",
     "exception": false,
     "start_time": "2023-12-28T16:59:51.240831",
     "status": "completed"
    },
    "tags": []
   },
   "outputs": [
    {
     "data": {
      "text/html": [
       "<div>\n",
       "<style scoped>\n",
       "    .dataframe tbody tr th:only-of-type {\n",
       "        vertical-align: middle;\n",
       "    }\n",
       "\n",
       "    .dataframe tbody tr th {\n",
       "        vertical-align: top;\n",
       "    }\n",
       "\n",
       "    .dataframe thead th {\n",
       "        text-align: right;\n",
       "    }\n",
       "</style>\n",
       "<table border=\"1\" class=\"dataframe\">\n",
       "  <thead>\n",
       "    <tr style=\"text-align: right;\">\n",
       "      <th></th>\n",
       "      <th>Name</th>\n",
       "      <th>Age</th>\n",
       "      <th>Income($)</th>\n",
       "      <th>cluster</th>\n",
       "    </tr>\n",
       "  </thead>\n",
       "  <tbody>\n",
       "    <tr>\n",
       "      <th>0</th>\n",
       "      <td>Rob</td>\n",
       "      <td>27</td>\n",
       "      <td>70000</td>\n",
       "      <td>2</td>\n",
       "    </tr>\n",
       "    <tr>\n",
       "      <th>1</th>\n",
       "      <td>Michael</td>\n",
       "      <td>29</td>\n",
       "      <td>90000</td>\n",
       "      <td>2</td>\n",
       "    </tr>\n",
       "    <tr>\n",
       "      <th>2</th>\n",
       "      <td>Mohan</td>\n",
       "      <td>29</td>\n",
       "      <td>61000</td>\n",
       "      <td>0</td>\n",
       "    </tr>\n",
       "    <tr>\n",
       "      <th>3</th>\n",
       "      <td>Ismail</td>\n",
       "      <td>28</td>\n",
       "      <td>60000</td>\n",
       "      <td>0</td>\n",
       "    </tr>\n",
       "    <tr>\n",
       "      <th>4</th>\n",
       "      <td>Kory</td>\n",
       "      <td>42</td>\n",
       "      <td>150000</td>\n",
       "      <td>1</td>\n",
       "    </tr>\n",
       "    <tr>\n",
       "      <th>5</th>\n",
       "      <td>Gautam</td>\n",
       "      <td>39</td>\n",
       "      <td>155000</td>\n",
       "      <td>1</td>\n",
       "    </tr>\n",
       "    <tr>\n",
       "      <th>6</th>\n",
       "      <td>David</td>\n",
       "      <td>41</td>\n",
       "      <td>160000</td>\n",
       "      <td>1</td>\n",
       "    </tr>\n",
       "    <tr>\n",
       "      <th>7</th>\n",
       "      <td>Andrea</td>\n",
       "      <td>38</td>\n",
       "      <td>162000</td>\n",
       "      <td>1</td>\n",
       "    </tr>\n",
       "    <tr>\n",
       "      <th>8</th>\n",
       "      <td>Brad</td>\n",
       "      <td>36</td>\n",
       "      <td>156000</td>\n",
       "      <td>1</td>\n",
       "    </tr>\n",
       "    <tr>\n",
       "      <th>9</th>\n",
       "      <td>Angelina</td>\n",
       "      <td>35</td>\n",
       "      <td>130000</td>\n",
       "      <td>1</td>\n",
       "    </tr>\n",
       "    <tr>\n",
       "      <th>10</th>\n",
       "      <td>Donald</td>\n",
       "      <td>37</td>\n",
       "      <td>137000</td>\n",
       "      <td>1</td>\n",
       "    </tr>\n",
       "    <tr>\n",
       "      <th>11</th>\n",
       "      <td>Tom</td>\n",
       "      <td>26</td>\n",
       "      <td>45000</td>\n",
       "      <td>0</td>\n",
       "    </tr>\n",
       "    <tr>\n",
       "      <th>12</th>\n",
       "      <td>Arnold</td>\n",
       "      <td>27</td>\n",
       "      <td>48000</td>\n",
       "      <td>0</td>\n",
       "    </tr>\n",
       "    <tr>\n",
       "      <th>13</th>\n",
       "      <td>Jared</td>\n",
       "      <td>28</td>\n",
       "      <td>51000</td>\n",
       "      <td>0</td>\n",
       "    </tr>\n",
       "    <tr>\n",
       "      <th>14</th>\n",
       "      <td>Stark</td>\n",
       "      <td>29</td>\n",
       "      <td>49500</td>\n",
       "      <td>0</td>\n",
       "    </tr>\n",
       "    <tr>\n",
       "      <th>15</th>\n",
       "      <td>Ranbir</td>\n",
       "      <td>32</td>\n",
       "      <td>53000</td>\n",
       "      <td>0</td>\n",
       "    </tr>\n",
       "    <tr>\n",
       "      <th>16</th>\n",
       "      <td>Dipika</td>\n",
       "      <td>40</td>\n",
       "      <td>65000</td>\n",
       "      <td>0</td>\n",
       "    </tr>\n",
       "    <tr>\n",
       "      <th>17</th>\n",
       "      <td>Priyanka</td>\n",
       "      <td>41</td>\n",
       "      <td>63000</td>\n",
       "      <td>0</td>\n",
       "    </tr>\n",
       "    <tr>\n",
       "      <th>18</th>\n",
       "      <td>Nick</td>\n",
       "      <td>43</td>\n",
       "      <td>64000</td>\n",
       "      <td>0</td>\n",
       "    </tr>\n",
       "    <tr>\n",
       "      <th>19</th>\n",
       "      <td>Alia</td>\n",
       "      <td>39</td>\n",
       "      <td>80000</td>\n",
       "      <td>2</td>\n",
       "    </tr>\n",
       "    <tr>\n",
       "      <th>20</th>\n",
       "      <td>Sid</td>\n",
       "      <td>41</td>\n",
       "      <td>82000</td>\n",
       "      <td>2</td>\n",
       "    </tr>\n",
       "    <tr>\n",
       "      <th>21</th>\n",
       "      <td>Abdul</td>\n",
       "      <td>39</td>\n",
       "      <td>58000</td>\n",
       "      <td>0</td>\n",
       "    </tr>\n",
       "  </tbody>\n",
       "</table>\n",
       "</div>"
      ],
      "text/plain": [
       "        Name  Age  Income($)  cluster\n",
       "0        Rob   27      70000        2\n",
       "1    Michael   29      90000        2\n",
       "2      Mohan   29      61000        0\n",
       "3     Ismail   28      60000        0\n",
       "4       Kory   42     150000        1\n",
       "5     Gautam   39     155000        1\n",
       "6      David   41     160000        1\n",
       "7     Andrea   38     162000        1\n",
       "8       Brad   36     156000        1\n",
       "9   Angelina   35     130000        1\n",
       "10    Donald   37     137000        1\n",
       "11       Tom   26      45000        0\n",
       "12    Arnold   27      48000        0\n",
       "13     Jared   28      51000        0\n",
       "14     Stark   29      49500        0\n",
       "15    Ranbir   32      53000        0\n",
       "16    Dipika   40      65000        0\n",
       "17  Priyanka   41      63000        0\n",
       "18      Nick   43      64000        0\n",
       "19      Alia   39      80000        2\n",
       "20       Sid   41      82000        2\n",
       "21     Abdul   39      58000        0"
      ]
     },
     "execution_count": 5,
     "metadata": {},
     "output_type": "execute_result"
    }
   ],
   "source": [
    "df[\"cluster\"] = y_predicted\n",
    "df"
   ]
  },
  {
   "cell_type": "code",
   "execution_count": 6,
   "id": "604de7df",
   "metadata": {
    "execution": {
     "iopub.execute_input": "2023-12-28T16:59:51.289205Z",
     "iopub.status.busy": "2023-12-28T16:59:51.288789Z",
     "iopub.status.idle": "2023-12-28T16:59:51.589171Z",
     "shell.execute_reply": "2023-12-28T16:59:51.588025Z"
    },
    "papermill": {
     "duration": 0.313352,
     "end_time": "2023-12-28T16:59:51.591659",
     "exception": false,
     "start_time": "2023-12-28T16:59:51.278307",
     "status": "completed"
    },
    "tags": []
   },
   "outputs": [
    {
     "data": {
      "image/png": "[encoded data removed]",
      "text/plain": [
       "<Figure size 640x480 with 1 Axes>"
      ]
     },
     "metadata": {},
     "output_type": "display_data"
    }
   ],
   "source": [
    "df1 = df[df.cluster== 0]\n",
    "df2 = df[df.cluster== 1]\n",
    "df3 = df[df.cluster== 2]\n",
    "plt.scatter(df1.Age, df1[\"Income($)\"], color=\"red\")\n",
    "plt.scatter(df2.Age, df2[\"Income($)\"], color=\"green\")\n",
    "plt.scatter(df3.Age, df3[\"Income($)\"], color=\"blue\")\n",
    "plt.scatter(km.cluster_centers_[:,0],km.cluster_centers_[:,1],color=\"purple\", marker=\"*\")#(cluster_centers_) is a function that stores the coordinates of the centroids or centers of the clusters that the algorithm has identified in the dataset.\n",
    "plt.show()"
   ]
  },
  {
   "cell_type": "code",
   "execution_count": 7,
   "id": "8dfe7c8e",
   "metadata": {
    "execution": {
     "iopub.execute_input": "2023-12-28T16:59:51.612963Z",
     "iopub.status.busy": "2023-12-28T16:59:51.612532Z",
     "iopub.status.idle": "2023-12-28T16:59:51.620757Z",
     "shell.execute_reply": "2023-12-28T16:59:51.619472Z"
    },
    "papermill": {
     "duration": 0.021607,
     "end_time": "2023-12-28T16:59:51.623089",
     "exception": false,
     "start_time": "2023-12-28T16:59:51.601482",
     "status": "completed"
    },
    "tags": []
   },
   "outputs": [
    {
     "name": "stdout",
     "output_type": "stream",
     "text": [
      "26\n",
      "43\n",
      "45000\n",
      "162000\n"
     ]
    }
   ],
   "source": [
    "print(df.Age.min())\n",
    "print(df.Age.max())\n",
    "print(df[\"Income($)\"].min())\n",
    "print(df[\"Income($)\"].max())"
   ]
  },
  {
   "cell_type": "markdown",
   "id": "6ffc593f",
   "metadata": {
    "papermill": {
     "duration": 0.010423,
     "end_time": "2023-12-28T16:59:51.643703",
     "exception": false,
     "start_time": "2023-12-28T16:59:51.633280",
     "status": "completed"
    },
    "tags": []
   },
   "source": [
    "### the model didn't work well wiht this big numbers we should make scaling for this data"
   ]
  },
  {
   "cell_type": "code",
   "execution_count": 8,
   "id": "730b17cb",
   "metadata": {
    "execution": {
     "iopub.execute_input": "2023-12-28T16:59:51.665978Z",
     "iopub.status.busy": "2023-12-28T16:59:51.665485Z",
     "iopub.status.idle": "2023-12-28T16:59:51.682876Z",
     "shell.execute_reply": "2023-12-28T16:59:51.681675Z"
    },
    "papermill": {
     "duration": 0.031281,
     "end_time": "2023-12-28T16:59:51.685160",
     "exception": false,
     "start_time": "2023-12-28T16:59:51.653879",
     "status": "completed"
    },
    "tags": []
   },
   "outputs": [],
   "source": [
    "scaler = MinMaxScaler()\n",
    "scaler.fit(df[[\"Income($)\"]])\n",
    "df[\"Income($)\"] = scaler.transform(df[[\"Income($)\"]])\n",
    "scaler.fit(df[[\"Age\"]])\n",
    "df[\"Age\"] = scaler.transform(df[[\"Age\"]])"
   ]
  },
  {
   "cell_type": "markdown",
   "id": "54474ea3",
   "metadata": {
    "papermill": {
     "duration": 0.010235,
     "end_time": "2023-12-28T16:59:51.705289",
     "exception": false,
     "start_time": "2023-12-28T16:59:51.695054",
     "status": "completed"
    },
    "tags": []
   },
   "source": [
    "### we can use also (standard scaler)"
   ]
  },
  {
   "cell_type": "code",
   "execution_count": 9,
   "id": "b8e9a7a7",
   "metadata": {
    "execution": {
     "iopub.execute_input": "2023-12-28T16:59:51.727281Z",
     "iopub.status.busy": "2023-12-28T16:59:51.726843Z",
     "iopub.status.idle": "2023-12-28T16:59:51.742778Z",
     "shell.execute_reply": "2023-12-28T16:59:51.741697Z"
    },
    "papermill": {
     "duration": 0.029632,
     "end_time": "2023-12-28T16:59:51.745171",
     "exception": false,
     "start_time": "2023-12-28T16:59:51.715539",
     "status": "completed"
    },
    "tags": []
   },
   "outputs": [
    {
     "data": {
      "text/html": [
       "<div>\n",
       "<style scoped>\n",
       "    .dataframe tbody tr th:only-of-type {\n",
       "        vertical-align: middle;\n",
       "    }\n",
       "\n",
       "    .dataframe tbody tr th {\n",
       "        vertical-align: top;\n",
       "    }\n",
       "\n",
       "    .dataframe thead th {\n",
       "        text-align: right;\n",
       "    }\n",
       "</style>\n",
       "<table border=\"1\" class=\"dataframe\">\n",
       "  <thead>\n",
       "    <tr style=\"text-align: right;\">\n",
       "      <th></th>\n",
       "      <th>Name</th>\n",
       "      <th>Age</th>\n",
       "      <th>Income($)</th>\n",
       "      <th>cluster</th>\n",
       "    </tr>\n",
       "  </thead>\n",
       "  <tbody>\n",
       "    <tr>\n",
       "      <th>0</th>\n",
       "      <td>Rob</td>\n",
       "      <td>0.058824</td>\n",
       "      <td>0.213675</td>\n",
       "      <td>2</td>\n",
       "    </tr>\n",
       "    <tr>\n",
       "      <th>1</th>\n",
       "      <td>Michael</td>\n",
       "      <td>0.176471</td>\n",
       "      <td>0.384615</td>\n",
       "      <td>2</td>\n",
       "    </tr>\n",
       "    <tr>\n",
       "      <th>2</th>\n",
       "      <td>Mohan</td>\n",
       "      <td>0.176471</td>\n",
       "      <td>0.136752</td>\n",
       "      <td>0</td>\n",
       "    </tr>\n",
       "    <tr>\n",
       "      <th>3</th>\n",
       "      <td>Ismail</td>\n",
       "      <td>0.117647</td>\n",
       "      <td>0.128205</td>\n",
       "      <td>0</td>\n",
       "    </tr>\n",
       "    <tr>\n",
       "      <th>4</th>\n",
       "      <td>Kory</td>\n",
       "      <td>0.941176</td>\n",
       "      <td>0.897436</td>\n",
       "      <td>1</td>\n",
       "    </tr>\n",
       "    <tr>\n",
       "      <th>5</th>\n",
       "      <td>Gautam</td>\n",
       "      <td>0.764706</td>\n",
       "      <td>0.940171</td>\n",
       "      <td>1</td>\n",
       "    </tr>\n",
       "    <tr>\n",
       "      <th>6</th>\n",
       "      <td>David</td>\n",
       "      <td>0.882353</td>\n",
       "      <td>0.982906</td>\n",
       "      <td>1</td>\n",
       "    </tr>\n",
       "    <tr>\n",
       "      <th>7</th>\n",
       "      <td>Andrea</td>\n",
       "      <td>0.705882</td>\n",
       "      <td>1.000000</td>\n",
       "      <td>1</td>\n",
       "    </tr>\n",
       "    <tr>\n",
       "      <th>8</th>\n",
       "      <td>Brad</td>\n",
       "      <td>0.588235</td>\n",
       "      <td>0.948718</td>\n",
       "      <td>1</td>\n",
       "    </tr>\n",
       "    <tr>\n",
       "      <th>9</th>\n",
       "      <td>Angelina</td>\n",
       "      <td>0.529412</td>\n",
       "      <td>0.726496</td>\n",
       "      <td>1</td>\n",
       "    </tr>\n",
       "    <tr>\n",
       "      <th>10</th>\n",
       "      <td>Donald</td>\n",
       "      <td>0.647059</td>\n",
       "      <td>0.786325</td>\n",
       "      <td>1</td>\n",
       "    </tr>\n",
       "    <tr>\n",
       "      <th>11</th>\n",
       "      <td>Tom</td>\n",
       "      <td>0.000000</td>\n",
       "      <td>0.000000</td>\n",
       "      <td>0</td>\n",
       "    </tr>\n",
       "    <tr>\n",
       "      <th>12</th>\n",
       "      <td>Arnold</td>\n",
       "      <td>0.058824</td>\n",
       "      <td>0.025641</td>\n",
       "      <td>0</td>\n",
       "    </tr>\n",
       "    <tr>\n",
       "      <th>13</th>\n",
       "      <td>Jared</td>\n",
       "      <td>0.117647</td>\n",
       "      <td>0.051282</td>\n",
       "      <td>0</td>\n",
       "    </tr>\n",
       "    <tr>\n",
       "      <th>14</th>\n",
       "      <td>Stark</td>\n",
       "      <td>0.176471</td>\n",
       "      <td>0.038462</td>\n",
       "      <td>0</td>\n",
       "    </tr>\n",
       "    <tr>\n",
       "      <th>15</th>\n",
       "      <td>Ranbir</td>\n",
       "      <td>0.352941</td>\n",
       "      <td>0.068376</td>\n",
       "      <td>0</td>\n",
       "    </tr>\n",
       "    <tr>\n",
       "      <th>16</th>\n",
       "      <td>Dipika</td>\n",
       "      <td>0.823529</td>\n",
       "      <td>0.170940</td>\n",
       "      <td>0</td>\n",
       "    </tr>\n",
       "    <tr>\n",
       "      <th>17</th>\n",
       "      <td>Priyanka</td>\n",
       "      <td>0.882353</td>\n",
       "      <td>0.153846</td>\n",
       "      <td>0</td>\n",
       "    </tr>\n",
       "    <tr>\n",
       "      <th>18</th>\n",
       "      <td>Nick</td>\n",
       "      <td>1.000000</td>\n",
       "      <td>0.162393</td>\n",
       "      <td>0</td>\n",
       "    </tr>\n",
       "    <tr>\n",
       "      <th>19</th>\n",
       "      <td>Alia</td>\n",
       "      <td>0.764706</td>\n",
       "      <td>0.299145</td>\n",
       "      <td>2</td>\n",
       "    </tr>\n",
       "    <tr>\n",
       "      <th>20</th>\n",
       "      <td>Sid</td>\n",
       "      <td>0.882353</td>\n",
       "      <td>0.316239</td>\n",
       "      <td>2</td>\n",
       "    </tr>\n",
       "    <tr>\n",
       "      <th>21</th>\n",
       "      <td>Abdul</td>\n",
       "      <td>0.764706</td>\n",
       "      <td>0.111111</td>\n",
       "      <td>0</td>\n",
       "    </tr>\n",
       "  </tbody>\n",
       "</table>\n",
       "</div>"
      ],
      "text/plain": [
       "        Name       Age  Income($)  cluster\n",
       "0        Rob  0.058824   0.213675        2\n",
       "1    Michael  0.176471   0.384615        2\n",
       "2      Mohan  0.176471   0.136752        0\n",
       "3     Ismail  0.117647   0.128205        0\n",
       "4       Kory  0.941176   0.897436        1\n",
       "5     Gautam  0.764706   0.940171        1\n",
       "6      David  0.882353   0.982906        1\n",
       "7     Andrea  0.705882   1.000000        1\n",
       "8       Brad  0.588235   0.948718        1\n",
       "9   Angelina  0.529412   0.726496        1\n",
       "10    Donald  0.647059   0.786325        1\n",
       "11       Tom  0.000000   0.000000        0\n",
       "12    Arnold  0.058824   0.025641        0\n",
       "13     Jared  0.117647   0.051282        0\n",
       "14     Stark  0.176471   0.038462        0\n",
       "15    Ranbir  0.352941   0.068376        0\n",
       "16    Dipika  0.823529   0.170940        0\n",
       "17  Priyanka  0.882353   0.153846        0\n",
       "18      Nick  1.000000   0.162393        0\n",
       "19      Alia  0.764706   0.299145        2\n",
       "20       Sid  0.882353   0.316239        2\n",
       "21     Abdul  0.764706   0.111111        0"
      ]
     },
     "execution_count": 9,
     "metadata": {},
     "output_type": "execute_result"
    }
   ],
   "source": [
    "df"
   ]
  },
  {
   "cell_type": "code",
   "execution_count": 10,
   "id": "21eb3bc1",
   "metadata": {
    "execution": {
     "iopub.execute_input": "2023-12-28T16:59:51.767805Z",
     "iopub.status.busy": "2023-12-28T16:59:51.767306Z",
     "iopub.status.idle": "2023-12-28T16:59:52.062621Z",
     "shell.execute_reply": "2023-12-28T16:59:52.061271Z"
    },
    "papermill": {
     "duration": 0.309956,
     "end_time": "2023-12-28T16:59:52.065351",
     "exception": false,
     "start_time": "2023-12-28T16:59:51.755395",
     "status": "completed"
    },
    "tags": []
   },
   "outputs": [
    {
     "data": {
      "text/plain": [
       "<matplotlib.collections.PathCollection at 0x79a10d532fb0>"
      ]
     },
     "execution_count": 10,
     "metadata": {},
     "output_type": "execute_result"
    },
    {
     "data": {
      "image/png": "[encoded data removed]",
      "text/plain": [
       "<Figure size 640x480 with 1 Axes>"
      ]
     },
     "metadata": {},
     "output_type": "display_data"
    }
   ],
   "source": [
    "plt.scatter(df.Age, df[\"Income($)\"])"
   ]
  },
  {
   "cell_type": "code",
   "execution_count": 11,
   "id": "b45a7f3c",
   "metadata": {
    "execution": {
     "iopub.execute_input": "2023-12-28T16:59:52.089037Z",
     "iopub.status.busy": "2023-12-28T16:59:52.088606Z",
     "iopub.status.idle": "2023-12-28T16:59:52.113017Z",
     "shell.execute_reply": "2023-12-28T16:59:52.111836Z"
    },
    "papermill": {
     "duration": 0.039465,
     "end_time": "2023-12-28T16:59:52.115736",
     "exception": false,
     "start_time": "2023-12-28T16:59:52.076271",
     "status": "completed"
    },
    "tags": []
   },
   "outputs": [
    {
     "data": {
      "text/plain": [
       "array([0, 0, 0, 0, 2, 2, 2, 2, 2, 2, 2, 0, 0, 0, 0, 0, 1, 1, 1, 1, 1, 1],\n",
       "      dtype=int32)"
      ]
     },
     "execution_count": 11,
     "metadata": {},
     "output_type": "execute_result"
    }
   ],
   "source": [
    "km = KMeans(n_clusters=3)\n",
    "y_predicted = km.fit_predict(df[[\"Age\",\"Income($)\"]])\n",
    "y_predicted"
   ]
  },
  {
   "cell_type": "code",
   "execution_count": 12,
   "id": "17bbaa0b",
   "metadata": {
    "execution": {
     "iopub.execute_input": "2023-12-28T16:59:52.140702Z",
     "iopub.status.busy": "2023-12-28T16:59:52.140273Z",
     "iopub.status.idle": "2023-12-28T16:59:52.153334Z",
     "shell.execute_reply": "2023-12-28T16:59:52.152089Z"
    },
    "papermill": {
     "duration": 0.028068,
     "end_time": "2023-12-28T16:59:52.155941",
     "exception": false,
     "start_time": "2023-12-28T16:59:52.127873",
     "status": "completed"
    },
    "tags": []
   },
   "outputs": [
    {
     "data": {
      "text/html": [
       "<div>\n",
       "<style scoped>\n",
       "    .dataframe tbody tr th:only-of-type {\n",
       "        vertical-align: middle;\n",
       "    }\n",
       "\n",
       "    .dataframe tbody tr th {\n",
       "        vertical-align: top;\n",
       "    }\n",
       "\n",
       "    .dataframe thead th {\n",
       "        text-align: right;\n",
       "    }\n",
       "</style>\n",
       "<table border=\"1\" class=\"dataframe\">\n",
       "  <thead>\n",
       "    <tr style=\"text-align: right;\">\n",
       "      <th></th>\n",
       "      <th>Name</th>\n",
       "      <th>Age</th>\n",
       "      <th>Income($)</th>\n",
       "      <th>cluster</th>\n",
       "    </tr>\n",
       "  </thead>\n",
       "  <tbody>\n",
       "    <tr>\n",
       "      <th>0</th>\n",
       "      <td>Rob</td>\n",
       "      <td>0.058824</td>\n",
       "      <td>0.213675</td>\n",
       "      <td>0</td>\n",
       "    </tr>\n",
       "    <tr>\n",
       "      <th>1</th>\n",
       "      <td>Michael</td>\n",
       "      <td>0.176471</td>\n",
       "      <td>0.384615</td>\n",
       "      <td>0</td>\n",
       "    </tr>\n",
       "    <tr>\n",
       "      <th>2</th>\n",
       "      <td>Mohan</td>\n",
       "      <td>0.176471</td>\n",
       "      <td>0.136752</td>\n",
       "      <td>0</td>\n",
       "    </tr>\n",
       "    <tr>\n",
       "      <th>3</th>\n",
       "      <td>Ismail</td>\n",
       "      <td>0.117647</td>\n",
       "      <td>0.128205</td>\n",
       "      <td>0</td>\n",
       "    </tr>\n",
       "    <tr>\n",
       "      <th>4</th>\n",
       "      <td>Kory</td>\n",
       "      <td>0.941176</td>\n",
       "      <td>0.897436</td>\n",
       "      <td>2</td>\n",
       "    </tr>\n",
       "  </tbody>\n",
       "</table>\n",
       "</div>"
      ],
      "text/plain": [
       "      Name       Age  Income($)  cluster\n",
       "0      Rob  0.058824   0.213675        0\n",
       "1  Michael  0.176471   0.384615        0\n",
       "2    Mohan  0.176471   0.136752        0\n",
       "3   Ismail  0.117647   0.128205        0\n",
       "4     Kory  0.941176   0.897436        2"
      ]
     },
     "execution_count": 12,
     "metadata": {},
     "output_type": "execute_result"
    }
   ],
   "source": [
    "df[\"cluster\"] = y_predicted\n",
    "df.head()"
   ]
  },
  {
   "cell_type": "code",
   "execution_count": 13,
   "id": "02000134",
   "metadata": {
    "execution": {
     "iopub.execute_input": "2023-12-28T16:59:52.180611Z",
     "iopub.status.busy": "2023-12-28T16:59:52.180215Z",
     "iopub.status.idle": "2023-12-28T16:59:52.466629Z",
     "shell.execute_reply": "2023-12-28T16:59:52.465419Z"
    },
    "papermill": {
     "duration": 0.302201,
     "end_time": "2023-12-28T16:59:52.469526",
     "exception": false,
     "start_time": "2023-12-28T16:59:52.167325",
     "status": "completed"
    },
    "tags": []
   },
   "outputs": [
    {
     "data": {
      "image/png": "[encoded data removed]",
      "text/plain": [
       "<Figure size 640x480 with 1 Axes>"
      ]
     },
     "metadata": {},
     "output_type": "display_data"
    }
   ],
   "source": [
    "df1 = df[df.cluster== 0]\n",
    "df2 = df[df.cluster== 1]\n",
    "df3 = df[df.cluster== 2]\n",
    "plt.scatter(df1.Age, df1[\"Income($)\"], color=\"red\")\n",
    "plt.scatter(df2.Age, df2[\"Income($)\"], color=\"green\")\n",
    "plt.scatter(df3.Age, df3[\"Income($)\"], color=\"blue\")\n",
    "plt.scatter(km.cluster_centers_[:,0],km.cluster_centers_[:,1],color=\"purple\", marker=\"*\")#(cluster_centers_) is a function that stores the coordinates of the centroids or centers of the clusters that the algorithm has identified in the dataset.\n",
    "plt.show()"
   ]
  },
  {
   "cell_type": "markdown",
   "id": "4177e699",
   "metadata": {
    "papermill": {
     "duration": 0.011453,
     "end_time": "2023-12-28T16:59:52.493146",
     "exception": false,
     "start_time": "2023-12-28T16:59:52.481693",
     "status": "completed"
    },
    "tags": []
   },
   "source": [
    "# **Elbow Plot**"
   ]
  },
  {
   "cell_type": "markdown",
   "id": "9168e341",
   "metadata": {
    "papermill": {
     "duration": 0.011272,
     "end_time": "2023-12-28T16:59:52.516127",
     "exception": false,
     "start_time": "2023-12-28T16:59:52.504855",
     "status": "completed"
    },
    "tags": []
   },
   "source": [
    "### An elbow plot is a graphical tool used in unsupervised learning, particularly in clustering algorithms like KMeans, to determine the optimal number of clusters for a given dataset. It helps to find the point where increasing the number of clusters does not significantly improve the model's performance."
   ]
  },
  {
   "cell_type": "markdown",
   "id": "46d954be",
   "metadata": {
    "papermill": {
     "duration": 0.011282,
     "end_time": "2023-12-28T16:59:52.539610",
     "exception": false,
     "start_time": "2023-12-28T16:59:52.528328",
     "status": "completed"
    },
    "tags": []
   },
   "source": [
    "<img src=\"https://www.oreilly.com/api/v2/epubs/9781788295758/files/assets/995b8b58-06f1-4884-a2a1-f3648428e947.png\" width=\"700\" height=\"600\" />"
   ]
  },
  {
   "cell_type": "code",
   "execution_count": 14,
   "id": "8693f638",
   "metadata": {
    "execution": {
     "iopub.execute_input": "2023-12-28T16:59:52.565190Z",
     "iopub.status.busy": "2023-12-28T16:59:52.564706Z",
     "iopub.status.idle": "2023-12-28T16:59:53.206321Z",
     "shell.execute_reply": "2023-12-28T16:59:53.205276Z"
    },
    "papermill": {
     "duration": 0.65801,
     "end_time": "2023-12-28T16:59:53.209294",
     "exception": false,
     "start_time": "2023-12-28T16:59:52.551284",
     "status": "completed"
    },
    "tags": []
   },
   "outputs": [],
   "source": [
    "sse = []\n",
    "for i in range (1, 20):\n",
    "    km = KMeans(n_clusters=i)\n",
    "    km.fit(df[[\"Age\", \"Income($)\"]])\n",
    "    sse.append(km.inertia_)"
   ]
  },
  {
   "cell_type": "code",
   "execution_count": 15,
   "id": "f3f00cf4",
   "metadata": {
    "execution": {
     "iopub.execute_input": "2023-12-28T16:59:53.238397Z",
     "iopub.status.busy": "2023-12-28T16:59:53.237988Z",
     "iopub.status.idle": "2023-12-28T16:59:53.245003Z",
     "shell.execute_reply": "2023-12-28T16:59:53.243816Z"
    },
    "papermill": {
     "duration": 0.023348,
     "end_time": "2023-12-28T16:59:53.247558",
     "exception": false,
     "start_time": "2023-12-28T16:59:53.224210",
     "status": "completed"
    },
    "tags": []
   },
   "outputs": [
    {
     "data": {
      "text/plain": [
       "[5.434011511988179,\n",
       " 2.091136388699078,\n",
       " 0.4750783498553096,\n",
       " 0.34910470944195654,\n",
       " 0.2818479744366238,\n",
       " 0.21066678488010526,\n",
       " 0.17299621932455464,\n",
       " 0.13265419827245162,\n",
       " 0.11182079723210357,\n",
       " 0.07831232180040332,\n",
       " 0.06367938021444068,\n",
       " 0.046811684349391744,\n",
       " 0.03810151092446364,\n",
       " 0.030426552928992823,\n",
       " 0.02336003499387405,\n",
       " 0.01641649105272562,\n",
       " 0.011033819491365383,\n",
       " 0.007513957485122411,\n",
       " 0.0054551225809321684]"
      ]
     },
     "execution_count": 15,
     "metadata": {},
     "output_type": "execute_result"
    }
   ],
   "source": [
    "sse"
   ]
  },
  {
   "cell_type": "code",
   "execution_count": 16,
   "id": "33b2fc87",
   "metadata": {
    "execution": {
     "iopub.execute_input": "2023-12-28T16:59:53.272881Z",
     "iopub.status.busy": "2023-12-28T16:59:53.272402Z",
     "iopub.status.idle": "2023-12-28T16:59:53.645819Z",
     "shell.execute_reply": "2023-12-28T16:59:53.644546Z"
    },
    "papermill": {
     "duration": 0.389154,
     "end_time": "2023-12-28T16:59:53.648342",
     "exception": false,
     "start_time": "2023-12-28T16:59:53.259188",
     "status": "completed"
    },
    "tags": []
   },
   "outputs": [
    {
     "data": {
      "text/plain": [
       "([<matplotlib.axis.XTick at 0x79a109c144f0>,\n",
       "  <matplotlib.axis.XTick at 0x79a109c144c0>,\n",
       "  <matplotlib.axis.XTick at 0x79a109c146d0>,\n",
       "  <matplotlib.axis.XTick at 0x79a109bf6590>,\n",
       "  <matplotlib.axis.XTick at 0x79a109bf7c10>,\n",
       "  <matplotlib.axis.XTick at 0x79a109bf5c30>,\n",
       "  <matplotlib.axis.XTick at 0x79a109bf4df0>,\n",
       "  <matplotlib.axis.XTick at 0x79a109ba90c0>,\n",
       "  <matplotlib.axis.XTick at 0x79a109babaf0>,\n",
       "  <matplotlib.axis.XTick at 0x79a109ba8220>,\n",
       "  <matplotlib.axis.XTick at 0x79a109bab6a0>,\n",
       "  <matplotlib.axis.XTick at 0x79a109baaf20>,\n",
       "  <matplotlib.axis.XTick at 0x79a109baacb0>,\n",
       "  <matplotlib.axis.XTick at 0x79a109baa1a0>,\n",
       "  <matplotlib.axis.XTick at 0x79a109baa8c0>,\n",
       "  <matplotlib.axis.XTick at 0x79a109bd4850>,\n",
       "  <matplotlib.axis.XTick at 0x79a109bd76d0>,\n",
       "  <matplotlib.axis.XTick at 0x79a109bd6e30>,\n",
       "  <matplotlib.axis.XTick at 0x79a109bd7f70>],\n",
       " [Text(1, 0, '1'),\n",
       "  Text(2, 0, '2'),\n",
       "  Text(3, 0, '3'),\n",
       "  Text(4, 0, '4'),\n",
       "  Text(5, 0, '5'),\n",
       "  Text(6, 0, '6'),\n",
       "  Text(7, 0, '7'),\n",
       "  Text(8, 0, '8'),\n",
       "  Text(9, 0, '9'),\n",
       "  Text(10, 0, '10'),\n",
       "  Text(11, 0, '11'),\n",
       "  Text(12, 0, '12'),\n",
       "  Text(13, 0, '13'),\n",
       "  Text(14, 0, '14'),\n",
       "  Text(15, 0, '15'),\n",
       "  Text(16, 0, '16'),\n",
       "  Text(17, 0, '17'),\n",
       "  Text(18, 0, '18'),\n",
       "  Text(19, 0, '19')])"
      ]
     },
     "execution_count": 16,
     "metadata": {},
     "output_type": "execute_result"
    },
    {
     "data": {
      "image/png": "[encoded data removed]",
      "text/plain": [
       "<Figure size 640x480 with 1 Axes>"
      ]
     },
     "metadata": {},
     "output_type": "display_data"
    }
   ],
   "source": [
    "plt.plot(range(1, 20), sse)\n",
    "plt.xlabel(\"I\")\n",
    "plt.ylabel(\"Sum of squared error\")\n",
    "plt.xticks(range(1, 20))"
   ]
  },
  {
   "cell_type": "markdown",
   "id": "a66b2472",
   "metadata": {
    "papermill": {
     "duration": 0.011984,
     "end_time": "2023-12-28T16:59:53.672668",
     "exception": false,
     "start_time": "2023-12-28T16:59:53.660684",
     "status": "completed"
    },
    "tags": []
   },
   "source": [
    "### the best number of clusters is 3 "
   ]
  },
  {
   "cell_type": "code",
   "execution_count": null,
   "id": "86498333",
   "metadata": {
    "papermill": {
     "duration": 0.011892,
     "end_time": "2023-12-28T16:59:53.696765",
     "exception": false,
     "start_time": "2023-12-28T16:59:53.684873",
     "status": "completed"
    },
    "tags": []
   },
   "outputs": [],
   "source": []
  }
 ],
 "metadata": {
  "kaggle": {
   "accelerator": "none",
   "dataSources": [
    {
     "datasetId": 4165539,
     "sourceId": 7201293,
     "sourceType": "datasetVersion"
    }
   ],
   "dockerImageVersionId": 30626,
   "isGpuEnabled": false,
   "isInternetEnabled": true,
   "language": "python",
   "sourceType": "notebook"
  },
  "kernelspec": {
   "display_name": "Python 3",
   "language": "python",
   "name": "python3"
  },
  "language_info": {
   "codemirror_mode": {
    "name": "ipython",
    "version": 3
   },
   "file_extension": ".py",
   "mimetype": "text/x-python",
   "name": "python",
   "nbconvert_exporter": "python",
   "pygments_lexer": "ipython3",
   "version": "3.10.12"
  },
  "papermill": {
   "default_parameters": {},
   "duration": 9.627312,
   "end_time": "2023-12-28T16:59:54.431309",
   "environment_variables": {},
   "exception": null,
   "input_path": "__notebook__.ipynb",
   "output_path": "__notebook__.ipynb",
   "parameters": {},
   "start_time": "2023-12-28T16:59:44.803997",
   "version": "2.4.0"
  }
 },
 "nbformat": 4,
 "nbformat_minor": 5
}
