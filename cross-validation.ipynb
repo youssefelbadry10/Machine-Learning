{
 "cells": [
  {
   "cell_type": "code",
   "execution_count": 1,
   "id": "b359beb1",
   "metadata": {
    "execution": {
     "iopub.execute_input": "2023-12-14T13:53:16.454825Z",
     "iopub.status.busy": "2023-12-14T13:53:16.454369Z",
     "iopub.status.idle": "2023-12-14T13:53:18.538224Z",
     "shell.execute_reply": "2023-12-14T13:53:18.537066Z"
    },
    "papermill": {
     "duration": 2.094488,
     "end_time": "2023-12-14T13:53:18.541094",
     "exception": false,
     "start_time": "2023-12-14T13:53:16.446606",
     "status": "completed"
    },
    "tags": []
   },
   "outputs": [],
   "source": [
    "import numpy as np\n",
    "import pandas as pd \n",
    "import matplotlib.pyplot as plt\n",
    "from sklearn.datasets import load_digits\n",
    "from sklearn.linear_model import LogisticRegression\n",
    "from sklearn.ensemble import RandomForestClassifier \n",
    "from sklearn.svm import SVC \n",
    "from sklearn.model_selection import train_test_split"
   ]
  },
  {
   "cell_type": "code",
   "execution_count": 2,
   "id": "94ad3a9a",
   "metadata": {
    "execution": {
     "iopub.execute_input": "2023-12-14T13:53:18.554952Z",
     "iopub.status.busy": "2023-12-14T13:53:18.553866Z",
     "iopub.status.idle": "2023-12-14T13:53:18.579675Z",
     "shell.execute_reply": "2023-12-14T13:53:18.578462Z"
    },
    "papermill": {
     "duration": 0.035367,
     "end_time": "2023-12-14T13:53:18.582268",
     "exception": false,
     "start_time": "2023-12-14T13:53:18.546901",
     "status": "completed"
    },
    "tags": []
   },
   "outputs": [],
   "source": [
    "digits = load_digits()"
   ]
  },
  {
   "cell_type": "code",
   "execution_count": 3,
   "id": "bf3d3b81",
   "metadata": {
    "execution": {
     "iopub.execute_input": "2023-12-14T13:53:18.595511Z",
     "iopub.status.busy": "2023-12-14T13:53:18.594765Z",
     "iopub.status.idle": "2023-12-14T13:53:18.603453Z",
     "shell.execute_reply": "2023-12-14T13:53:18.602457Z"
    },
    "papermill": {
     "duration": 0.017955,
     "end_time": "2023-12-14T13:53:18.605883",
     "exception": false,
     "start_time": "2023-12-14T13:53:18.587928",
     "status": "completed"
    },
    "tags": []
   },
   "outputs": [],
   "source": [
    "X_train, X_test, y_train, y_test = train_test_split(digits.data,digits.target, test_size=0.3)"
   ]
  },
  {
   "cell_type": "markdown",
   "id": "06435f3d",
   "metadata": {
    "papermill": {
     "duration": 0.005361,
     "end_time": "2023-12-14T13:53:18.617014",
     "exception": false,
     "start_time": "2023-12-14T13:53:18.611653",
     "status": "completed"
    },
    "tags": []
   },
   "source": [
    "# **LogisticRegression**"
   ]
  },
  {
   "cell_type": "code",
   "execution_count": 4,
   "id": "2318fc46",
   "metadata": {
    "execution": {
     "iopub.execute_input": "2023-12-14T13:53:18.629832Z",
     "iopub.status.busy": "2023-12-14T13:53:18.629461Z",
     "iopub.status.idle": "2023-12-14T13:53:18.940096Z",
     "shell.execute_reply": "2023-12-14T13:53:18.938723Z"
    },
    "papermill": {
     "duration": 0.320942,
     "end_time": "2023-12-14T13:53:18.943544",
     "exception": false,
     "start_time": "2023-12-14T13:53:18.622602",
     "status": "completed"
    },
    "tags": []
   },
   "outputs": [
    {
     "data": {
      "text/plain": [
       "0.9518518518518518"
      ]
     },
     "execution_count": 4,
     "metadata": {},
     "output_type": "execute_result"
    }
   ],
   "source": [
    "lr = LogisticRegression(solver=\"liblinear\", multi_class=\"ovr\")\n",
    "lr.fit(X_train, y_train)\n",
    "lr.score(X_test, y_test)"
   ]
  },
  {
   "cell_type": "markdown",
   "id": "20be66f8",
   "metadata": {
    "papermill": {
     "duration": 0.009671,
     "end_time": "2023-12-14T13:53:18.964075",
     "exception": false,
     "start_time": "2023-12-14T13:53:18.954404",
     "status": "completed"
    },
    "tags": []
   },
   "source": [
    "# **SVM**"
   ]
  },
  {
   "cell_type": "code",
   "execution_count": 5,
   "id": "e801afa0",
   "metadata": {
    "execution": {
     "iopub.execute_input": "2023-12-14T13:53:18.986400Z",
     "iopub.status.busy": "2023-12-14T13:53:18.985784Z",
     "iopub.status.idle": "2023-12-14T13:53:19.256673Z",
     "shell.execute_reply": "2023-12-14T13:53:19.255402Z"
    },
    "papermill": {
     "duration": 0.285327,
     "end_time": "2023-12-14T13:53:19.259183",
     "exception": false,
     "start_time": "2023-12-14T13:53:18.973856",
     "status": "completed"
    },
    "tags": []
   },
   "outputs": [
    {
     "data": {
      "text/plain": [
       "0.5092592592592593"
      ]
     },
     "execution_count": 5,
     "metadata": {},
     "output_type": "execute_result"
    }
   ],
   "source": [
    "svm = SVC(gamma=\"auto\")\n",
    "svm.fit(X_train, y_train)\n",
    "svm.score(X_test, y_test)"
   ]
  },
  {
   "cell_type": "markdown",
   "id": "6b8331bb",
   "metadata": {
    "papermill": {
     "duration": 0.005545,
     "end_time": "2023-12-14T13:53:19.270793",
     "exception": false,
     "start_time": "2023-12-14T13:53:19.265248",
     "status": "completed"
    },
    "tags": []
   },
   "source": [
    "# **RandomForest**"
   ]
  },
  {
   "cell_type": "code",
   "execution_count": 6,
   "id": "53b18e2b",
   "metadata": {
    "execution": {
     "iopub.execute_input": "2023-12-14T13:53:19.285290Z",
     "iopub.status.busy": "2023-12-14T13:53:19.284377Z",
     "iopub.status.idle": "2023-12-14T13:53:19.458482Z",
     "shell.execute_reply": "2023-12-14T13:53:19.457654Z"
    },
    "papermill": {
     "duration": 0.183991,
     "end_time": "2023-12-14T13:53:19.460739",
     "exception": false,
     "start_time": "2023-12-14T13:53:19.276748",
     "status": "completed"
    },
    "tags": []
   },
   "outputs": [
    {
     "data": {
      "text/plain": [
       "0.975925925925926"
      ]
     },
     "execution_count": 6,
     "metadata": {},
     "output_type": "execute_result"
    }
   ],
   "source": [
    "rf = RandomForestClassifier(n_estimators=40)\n",
    "rf.fit(X_train, y_train)\n",
    "rf.score(X_test, y_test)"
   ]
  },
  {
   "cell_type": "markdown",
   "id": "fe85baf5",
   "metadata": {
    "papermill": {
     "duration": 0.005682,
     "end_time": "2023-12-14T13:53:19.472501",
     "exception": false,
     "start_time": "2023-12-14T13:53:19.466819",
     "status": "completed"
    },
    "tags": []
   },
   "source": [
    "# **Cross_Validation**"
   ]
  },
  {
   "cell_type": "markdown",
   "id": "831c2517",
   "metadata": {
    "papermill": {
     "duration": 0.005998,
     "end_time": "2023-12-14T13:53:19.484528",
     "exception": false,
     "start_time": "2023-12-14T13:53:19.478530",
     "status": "completed"
    },
    "tags": []
   },
   "source": [
    "<img src=\"https://learningds.org/_images/CVDiagram.png\" width=\"900\" height=\"900\" />"
   ]
  },
  {
   "cell_type": "code",
   "execution_count": 7,
   "id": "1d5f33ac",
   "metadata": {
    "execution": {
     "iopub.execute_input": "2023-12-14T13:53:19.499000Z",
     "iopub.status.busy": "2023-12-14T13:53:19.497908Z",
     "iopub.status.idle": "2023-12-14T13:53:19.502669Z",
     "shell.execute_reply": "2023-12-14T13:53:19.501602Z"
    },
    "papermill": {
     "duration": 0.014563,
     "end_time": "2023-12-14T13:53:19.505061",
     "exception": false,
     "start_time": "2023-12-14T13:53:19.490498",
     "status": "completed"
    },
    "tags": []
   },
   "outputs": [],
   "source": [
    "from sklearn.model_selection import cross_val_score\n",
    "from sklearn.model_selection import cross_val_predict"
   ]
  },
  {
   "cell_type": "markdown",
   "id": "122994f3",
   "metadata": {
    "papermill": {
     "duration": 0.005734,
     "end_time": "2023-12-14T13:53:19.517187",
     "exception": false,
     "start_time": "2023-12-14T13:53:19.511453",
     "status": "completed"
    },
    "tags": []
   },
   "source": [
    "# LogisticRegression model's score using Cross Validation"
   ]
  },
  {
   "cell_type": "code",
   "execution_count": 8,
   "id": "6c2cddd2",
   "metadata": {
    "execution": {
     "iopub.execute_input": "2023-12-14T13:53:19.530918Z",
     "iopub.status.busy": "2023-12-14T13:53:19.530470Z",
     "iopub.status.idle": "2023-12-14T13:53:20.374428Z",
     "shell.execute_reply": "2023-12-14T13:53:20.373189Z"
    },
    "papermill": {
     "duration": 0.854623,
     "end_time": "2023-12-14T13:53:20.377788",
     "exception": false,
     "start_time": "2023-12-14T13:53:19.523165",
     "status": "completed"
    },
    "tags": []
   },
   "outputs": [
    {
     "data": {
      "text/plain": [
       "array([0.89482471, 0.95325543, 0.90984975])"
      ]
     },
     "execution_count": 8,
     "metadata": {},
     "output_type": "execute_result"
    }
   ],
   "source": [
    "cross_val_score(LogisticRegression(solver=\"liblinear\", multi_class=\"ovr\"), digits.data, digits.target, cv=3)# cv(cross validation)= 3 meaning train 3 times "
   ]
  },
  {
   "cell_type": "markdown",
   "id": "26ad38d4",
   "metadata": {
    "papermill": {
     "duration": 0.010653,
     "end_time": "2023-12-14T13:53:20.398937",
     "exception": false,
     "start_time": "2023-12-14T13:53:20.388284",
     "status": "completed"
    },
    "tags": []
   },
   "source": [
    "# SVM model's score using Cross Validation"
   ]
  },
  {
   "cell_type": "code",
   "execution_count": 9,
   "id": "cf6241b0",
   "metadata": {
    "execution": {
     "iopub.execute_input": "2023-12-14T13:53:20.422112Z",
     "iopub.status.busy": "2023-12-14T13:53:20.421469Z",
     "iopub.status.idle": "2023-12-14T13:53:20.661337Z",
     "shell.execute_reply": "2023-12-14T13:53:20.660548Z"
    },
    "papermill": {
     "duration": 0.253961,
     "end_time": "2023-12-14T13:53:20.663388",
     "exception": false,
     "start_time": "2023-12-14T13:53:20.409427",
     "status": "completed"
    },
    "tags": []
   },
   "outputs": [
    {
     "data": {
      "text/plain": [
       "array([0.96494157, 0.97996661, 0.96494157])"
      ]
     },
     "execution_count": 9,
     "metadata": {},
     "output_type": "execute_result"
    }
   ],
   "source": [
    "cross_val_score(SVC(), digits.data, digits.target, cv=3)"
   ]
  },
  {
   "cell_type": "code",
   "execution_count": 10,
   "id": "171f82c4",
   "metadata": {
    "execution": {
     "iopub.execute_input": "2023-12-14T13:53:20.678535Z",
     "iopub.status.busy": "2023-12-14T13:53:20.677555Z",
     "iopub.status.idle": "2023-12-14T13:53:21.016089Z",
     "shell.execute_reply": "2023-12-14T13:53:21.014957Z"
    },
    "papermill": {
     "duration": 0.349268,
     "end_time": "2023-12-14T13:53:21.019070",
     "exception": false,
     "start_time": "2023-12-14T13:53:20.669802",
     "status": "completed"
    },
    "tags": []
   },
   "outputs": [
    {
     "data": {
      "text/plain": [
       "array([0, 1, 8, ..., 8, 9, 8])"
      ]
     },
     "execution_count": 10,
     "metadata": {},
     "output_type": "execute_result"
    }
   ],
   "source": [
    "predictions = cross_val_predict(SVC(), digits.data, digits.target, cv=5)\n",
    "predictions"
   ]
  },
  {
   "cell_type": "markdown",
   "id": "596dba58",
   "metadata": {
    "papermill": {
     "duration": 0.007212,
     "end_time": "2023-12-14T13:53:21.032766",
     "exception": false,
     "start_time": "2023-12-14T13:53:21.025554",
     "status": "completed"
    },
    "tags": []
   },
   "source": [
    "# RandomForest model's score using Cross Validation"
   ]
  },
  {
   "cell_type": "code",
   "execution_count": 11,
   "id": "ef206a59",
   "metadata": {
    "execution": {
     "iopub.execute_input": "2023-12-14T13:53:21.047501Z",
     "iopub.status.busy": "2023-12-14T13:53:21.047069Z",
     "iopub.status.idle": "2023-12-14T13:53:22.224351Z",
     "shell.execute_reply": "2023-12-14T13:53:22.223537Z"
    },
    "papermill": {
     "duration": 1.187095,
     "end_time": "2023-12-14T13:53:22.226526",
     "exception": false,
     "start_time": "2023-12-14T13:53:21.039431",
     "status": "completed"
    },
    "tags": []
   },
   "outputs": [
    {
     "data": {
      "text/plain": [
       "array([0.93155259, 0.94991653, 0.93489149])"
      ]
     },
     "execution_count": 11,
     "metadata": {},
     "output_type": "execute_result"
    }
   ],
   "source": [
    "cross_val_score(RandomForestClassifier(n_estimators=100), digits.data, digits.target, cv=3)"
   ]
  },
  {
   "cell_type": "code",
   "execution_count": 12,
   "id": "e523e723",
   "metadata": {
    "execution": {
     "iopub.execute_input": "2023-12-14T13:53:22.243020Z",
     "iopub.status.busy": "2023-12-14T13:53:22.241825Z",
     "iopub.status.idle": "2023-12-14T13:53:22.492996Z",
     "shell.execute_reply": "2023-12-14T13:53:22.491727Z"
    },
    "papermill": {
     "duration": 0.262358,
     "end_time": "2023-12-14T13:53:22.495468",
     "exception": false,
     "start_time": "2023-12-14T13:53:22.233110",
     "status": "completed"
    },
    "tags": []
   },
   "outputs": [
    {
     "data": {
      "text/plain": [
       "array([0.93322204, 0.92821369, 0.92821369])"
      ]
     },
     "execution_count": 12,
     "metadata": {},
     "output_type": "execute_result"
    }
   ],
   "source": [
    "cross_val_score(RandomForestClassifier(n_estimators=20), digits.data, digits.target, cv=3)"
   ]
  },
  {
   "cell_type": "code",
   "execution_count": 13,
   "id": "aa3b3f9e",
   "metadata": {
    "execution": {
     "iopub.execute_input": "2023-12-14T13:53:22.511585Z",
     "iopub.status.busy": "2023-12-14T13:53:22.510706Z",
     "iopub.status.idle": "2023-12-14T13:53:23.493668Z",
     "shell.execute_reply": "2023-12-14T13:53:23.492482Z"
    },
    "papermill": {
     "duration": 0.994119,
     "end_time": "2023-12-14T13:53:23.496361",
     "exception": false,
     "start_time": "2023-12-14T13:53:22.502242",
     "status": "completed"
    },
    "tags": []
   },
   "outputs": [
    {
     "data": {
      "text/plain": [
       "array([0.90555556, 0.96666667, 0.92777778, 0.88333333, 0.92777778,\n",
       "       0.97222222, 0.95555556, 0.95530726, 0.92178771, 0.91620112])"
      ]
     },
     "execution_count": 13,
     "metadata": {},
     "output_type": "execute_result"
    }
   ],
   "source": [
    "cross_val_score(RandomForestClassifier(n_estimators=20), digits.data, digits.target, cv=10)"
   ]
  },
  {
   "cell_type": "code",
   "execution_count": 14,
   "id": "b2abe0bd",
   "metadata": {
    "execution": {
     "iopub.execute_input": "2023-12-14T13:53:23.511862Z",
     "iopub.status.busy": "2023-12-14T13:53:23.511465Z",
     "iopub.status.idle": "2023-12-14T13:53:28.451279Z",
     "shell.execute_reply": "2023-12-14T13:53:28.450179Z"
    },
    "papermill": {
     "duration": 4.950844,
     "end_time": "2023-12-14T13:53:28.453952",
     "exception": false,
     "start_time": "2023-12-14T13:53:23.503108",
     "status": "completed"
    },
    "tags": []
   },
   "outputs": [
    {
     "data": {
      "text/plain": [
       "array([0.94444444, 0.97222222, 1.        , 0.91666667, 1.        ,\n",
       "       0.97222222, 1.        , 1.        , 1.        , 0.97222222,\n",
       "       0.94444444, 0.97222222, 0.97222222, 1.        , 0.94444444,\n",
       "       0.97222222, 0.97222222, 0.94444444, 0.97222222, 0.97222222,\n",
       "       0.97222222, 0.97222222, 0.97222222, 0.91666667, 0.94444444,\n",
       "       0.97222222, 1.        , 1.        , 1.        , 1.        ,\n",
       "       0.91666667, 0.97222222, 1.        , 1.        , 0.97222222,\n",
       "       0.97222222, 1.        , 0.94444444, 1.        , 1.        ,\n",
       "       1.        , 1.        , 0.94444444, 0.94444444, 0.86111111,\n",
       "       0.88888889, 0.94444444, 1.        , 0.94285714, 0.94285714])"
      ]
     },
     "execution_count": 14,
     "metadata": {},
     "output_type": "execute_result"
    }
   ],
   "source": [
    "cross_val_score(RandomForestClassifier(n_estimators=20), digits.data, digits.target, cv=50)"
   ]
  },
  {
   "cell_type": "code",
   "execution_count": 15,
   "id": "bfa39d1c",
   "metadata": {
    "execution": {
     "iopub.execute_input": "2023-12-14T13:53:28.470033Z",
     "iopub.status.busy": "2023-12-14T13:53:28.469569Z",
     "iopub.status.idle": "2023-12-14T13:53:30.758811Z",
     "shell.execute_reply": "2023-12-14T13:53:30.757575Z"
    },
    "papermill": {
     "duration": 2.299916,
     "end_time": "2023-12-14T13:53:30.761210",
     "exception": false,
     "start_time": "2023-12-14T13:53:28.461294",
     "status": "completed"
    },
    "tags": []
   },
   "outputs": [
    {
     "data": {
      "text/plain": [
       "array([0.90555556, 0.97777778, 0.94444444, 0.91111111, 0.95      ,\n",
       "       0.96111111, 0.97222222, 0.96648045, 0.89944134, 0.93854749])"
      ]
     },
     "execution_count": 15,
     "metadata": {},
     "output_type": "execute_result"
    }
   ],
   "source": [
    "cross_val_score(RandomForestClassifier(n_estimators=50), digits.data, digits.target, cv=10)"
   ]
  },
  {
   "cell_type": "code",
   "execution_count": 16,
   "id": "84a15b07",
   "metadata": {
    "execution": {
     "iopub.execute_input": "2023-12-14T13:53:30.776589Z",
     "iopub.status.busy": "2023-12-14T13:53:30.776210Z",
     "iopub.status.idle": "2023-12-14T13:53:34.592322Z",
     "shell.execute_reply": "2023-12-14T13:53:34.591214Z"
    },
    "papermill": {
     "duration": 3.826578,
     "end_time": "2023-12-14T13:53:34.594710",
     "exception": false,
     "start_time": "2023-12-14T13:53:30.768132",
     "status": "completed"
    },
    "tags": []
   },
   "outputs": [
    {
     "data": {
      "text/plain": [
       "array([0.88888889, 0.94444444, 0.98888889, 0.98888889, 0.98888889,\n",
       "       0.97777778, 0.92222222, 0.95555556, 0.95555556, 0.97777778,\n",
       "       0.95555556, 0.98888889, 0.97777778, 0.97777778, 0.97777778,\n",
       "       0.98888889, 0.97777778, 0.92134831, 0.94382022, 0.94382022])"
      ]
     },
     "execution_count": 16,
     "metadata": {},
     "output_type": "execute_result"
    }
   ],
   "source": [
    "cross_val_score(RandomForestClassifier(n_estimators=40), digits.data, digits.target, cv=20)"
   ]
  },
  {
   "cell_type": "code",
   "execution_count": null,
   "id": "a65ab5f2",
   "metadata": {
    "papermill": {
     "duration": 0.006593,
     "end_time": "2023-12-14T13:53:34.608383",
     "exception": false,
     "start_time": "2023-12-14T13:53:34.601790",
     "status": "completed"
    },
    "tags": []
   },
   "outputs": [],
   "source": []
  },
  {
   "cell_type": "code",
   "execution_count": null,
   "id": "ed111d01",
   "metadata": {
    "papermill": {
     "duration": 0.006548,
     "end_time": "2023-12-14T13:53:34.621836",
     "exception": false,
     "start_time": "2023-12-14T13:53:34.615288",
     "status": "completed"
    },
    "tags": []
   },
   "outputs": [],
   "source": []
  }
 ],
 "metadata": {
  "kaggle": {
   "accelerator": "none",
   "dataSources": [],
   "dockerImageVersionId": 30626,
   "isGpuEnabled": false,
   "isInternetEnabled": true,
   "language": "python",
   "sourceType": "notebook"
  },
  "kernelspec": {
   "display_name": "Python 3",
   "language": "python",
   "name": "python3"
  },
  "language_info": {
   "codemirror_mode": {
    "name": "ipython",
    "version": 3
   },
   "file_extension": ".py",
   "mimetype": "text/x-python",
   "name": "python",
   "nbconvert_exporter": "python",
   "pygments_lexer": "ipython3",
   "version": "3.10.12"
  },
  "papermill": {
   "default_parameters": {},
   "duration": 21.949906,
   "end_time": "2023-12-14T13:53:35.250797",
   "environment_variables": {},
   "exception": null,
   "input_path": "__notebook__.ipynb",
   "output_path": "__notebook__.ipynb",
   "parameters": {},
   "start_time": "2023-12-14T13:53:13.300891",
   "version": "2.4.0"
  }
 },
 "nbformat": 4,
 "nbformat_minor": 5
}
